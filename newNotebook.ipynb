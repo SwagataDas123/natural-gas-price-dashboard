{
 "cells": [
  {
   "cell_type": "code",
   "execution_count": 1,
   "metadata": {},
   "outputs": [],
   "source": [
    "import tensorflow as tf\n",
    "import pandas as pd\n",
    "import numpy as np\n",
    "import requests\n",
    "import json\n",
    "import tweepy"
   ]
  },
  {
   "cell_type": "code",
   "execution_count": 2,
   "metadata": {},
   "outputs": [],
   "source": [
    "BEARER_TOKEN = \"AAAAAAAAAAAAAAAAAAAAAI0UcAEAAAAAGv32GH%2B3%2ByYoz0Els5ZBPcq%2FrDc%3Dezec1hn1fdogEvTg5DER5nHA6245j6UvAUDC8x5qn9YaUAR2bY\"\n",
    "ACCESS_TOKEN = \"1519935617290833920-G7EiFZGJsIOdI7KTezC7oYFSN4ppdq\"\n",
    "ACCESS_TOKEN_SECRET = \"Vwg4tWhX3VPQvQkqQbIJfjq7xffBsskPtSo5qYVTXwKZU\"\n",
    "API_KEY = \"IaLlNLbiKRSygOrb1Hc211mCW\"\n",
    "API_KEY_SECRET = \"kKlFyX8p7kC88OZUE8NUqslFtfNnui2uRCJpzi0S0B5al5fs2w\""
   ]
  },
  {
   "cell_type": "code",
   "execution_count": 3,
   "metadata": {},
   "outputs": [],
   "source": [
    "authenticate = tweepy.OAuthHandler(API_KEY, API_KEY_SECRET)\n",
    "authenticate.set_access_token(ACCESS_TOKEN, ACCESS_TOKEN_SECRET)"
   ]
  },
  {
   "cell_type": "code",
   "execution_count": 6,
   "metadata": {},
   "outputs": [
    {
     "ename": "Forbidden",
     "evalue": "403 Forbidden\n453 - You currently have Essential access which includes access to Twitter API v2 endpoints only. If you need access to this endpoint, you’ll need to apply for Elevated access via the Developer Portal. You can learn more here: https://developer.twitter.com/en/docs/twitter-api/getting-started/about-twitter-api#v2-access-leve",
     "output_type": "error",
     "traceback": [
      "\u001b[1;31m---------------------------------------------------------------------------\u001b[0m",
      "\u001b[1;31mForbidden\u001b[0m                                 Traceback (most recent call last)",
      "\u001b[1;32mc:\\Users\\007ra\\Documents\\Codes\\sih-2022\\newNotebook.ipynb Cell 4'\u001b[0m in \u001b[0;36m<cell line: 2>\u001b[1;34m()\u001b[0m\n\u001b[0;32m      <a href='vscode-notebook-cell:/c%3A/Users/007ra/Documents/Codes/sih-2022/newNotebook.ipynb#ch0000003?line=0'>1</a>\u001b[0m api \u001b[39m=\u001b[39m tweepy\u001b[39m.\u001b[39mAPI(authenticate, wait_on_rate_limit\u001b[39m=\u001b[39m\u001b[39mTrue\u001b[39;00m)\n\u001b[1;32m----> <a href='vscode-notebook-cell:/c%3A/Users/007ra/Documents/Codes/sih-2022/newNotebook.ipynb#ch0000003?line=1'>2</a>\u001b[0m res \u001b[39m=\u001b[39m api\u001b[39m.\u001b[39;49msearch_full_archive(query\u001b[39m=\u001b[39;49m\u001b[39m'\u001b[39;49m\u001b[39mgas price\u001b[39;49m\u001b[39m'\u001b[39;49m, label\u001b[39m=\u001b[39;49m\u001b[39m'\u001b[39;49m\u001b[39mgas\u001b[39;49m\u001b[39m'\u001b[39;49m)\n\u001b[0;32m      <a href='vscode-notebook-cell:/c%3A/Users/007ra/Documents/Codes/sih-2022/newNotebook.ipynb#ch0000003?line=2'>3</a>\u001b[0m res\n",
      "File \u001b[1;32m~\\.conda\\envs\\dataScience\\lib\\site-packages\\tweepy\\api.py:33\u001b[0m, in \u001b[0;36mpagination.<locals>.decorator.<locals>.wrapper\u001b[1;34m(*args, **kwargs)\u001b[0m\n\u001b[0;32m     <a href='file:///c%3A/Users/007ra/.conda/envs/dataScience/lib/site-packages/tweepy/api.py?line=30'>31</a>\u001b[0m \u001b[39m@functools\u001b[39m\u001b[39m.\u001b[39mwraps(method)\n\u001b[0;32m     <a href='file:///c%3A/Users/007ra/.conda/envs/dataScience/lib/site-packages/tweepy/api.py?line=31'>32</a>\u001b[0m \u001b[39mdef\u001b[39;00m \u001b[39mwrapper\u001b[39m(\u001b[39m*\u001b[39margs, \u001b[39m*\u001b[39m\u001b[39m*\u001b[39mkwargs):\n\u001b[1;32m---> <a href='file:///c%3A/Users/007ra/.conda/envs/dataScience/lib/site-packages/tweepy/api.py?line=32'>33</a>\u001b[0m     \u001b[39mreturn\u001b[39;00m method(\u001b[39m*\u001b[39margs, \u001b[39m*\u001b[39m\u001b[39m*\u001b[39mkwargs)\n",
      "File \u001b[1;32m~\\.conda\\envs\\dataScience\\lib\\site-packages\\tweepy\\api.py:46\u001b[0m, in \u001b[0;36mpayload.<locals>.decorator.<locals>.wrapper\u001b[1;34m(*args, **kwargs)\u001b[0m\n\u001b[0;32m     <a href='file:///c%3A/Users/007ra/.conda/envs/dataScience/lib/site-packages/tweepy/api.py?line=43'>44</a>\u001b[0m kwargs[\u001b[39m'\u001b[39m\u001b[39mpayload_list\u001b[39m\u001b[39m'\u001b[39m] \u001b[39m=\u001b[39m payload_list\n\u001b[0;32m     <a href='file:///c%3A/Users/007ra/.conda/envs/dataScience/lib/site-packages/tweepy/api.py?line=44'>45</a>\u001b[0m kwargs[\u001b[39m'\u001b[39m\u001b[39mpayload_type\u001b[39m\u001b[39m'\u001b[39m] \u001b[39m=\u001b[39m payload_type\n\u001b[1;32m---> <a href='file:///c%3A/Users/007ra/.conda/envs/dataScience/lib/site-packages/tweepy/api.py?line=45'>46</a>\u001b[0m \u001b[39mreturn\u001b[39;00m method(\u001b[39m*\u001b[39margs, \u001b[39m*\u001b[39m\u001b[39m*\u001b[39mkwargs)\n",
      "File \u001b[1;32m~\\.conda\\envs\\dataScience\\lib\\site-packages\\tweepy\\api.py:447\u001b[0m, in \u001b[0;36mAPI.search_full_archive\u001b[1;34m(self, label, query, **kwargs)\u001b[0m\n\u001b[0;32m    <a href='file:///c%3A/Users/007ra/.conda/envs/dataScience/lib/site-packages/tweepy/api.py?line=368'>369</a>\u001b[0m \u001b[39m@pagination\u001b[39m(mode\u001b[39m=\u001b[39m\u001b[39m'\u001b[39m\u001b[39mnext\u001b[39m\u001b[39m'\u001b[39m)\n\u001b[0;32m    <a href='file:///c%3A/Users/007ra/.conda/envs/dataScience/lib/site-packages/tweepy/api.py?line=369'>370</a>\u001b[0m \u001b[39m@payload\u001b[39m(\u001b[39m'\u001b[39m\u001b[39mstatus\u001b[39m\u001b[39m'\u001b[39m, \u001b[39mlist\u001b[39m\u001b[39m=\u001b[39m\u001b[39mTrue\u001b[39;00m)\n\u001b[0;32m    <a href='file:///c%3A/Users/007ra/.conda/envs/dataScience/lib/site-packages/tweepy/api.py?line=370'>371</a>\u001b[0m \u001b[39mdef\u001b[39;00m \u001b[39msearch_full_archive\u001b[39m(\u001b[39mself\u001b[39m, label, query, \u001b[39m*\u001b[39m\u001b[39m*\u001b[39mkwargs):\n\u001b[0;32m    <a href='file:///c%3A/Users/007ra/.conda/envs/dataScience/lib/site-packages/tweepy/api.py?line=371'>372</a>\u001b[0m     \u001b[39m\"\"\"search_full_archive(label, query, *, tag, fromDate, toDate, \\\u001b[39;00m\n\u001b[0;32m    <a href='file:///c%3A/Users/007ra/.conda/envs/dataScience/lib/site-packages/tweepy/api.py?line=372'>373</a>\u001b[0m \u001b[39m                           maxResults, next)\u001b[39;00m\n\u001b[0;32m    <a href='file:///c%3A/Users/007ra/.conda/envs/dataScience/lib/site-packages/tweepy/api.py?line=373'>374</a>\u001b[0m \n\u001b[1;32m   (...)\u001b[0m\n\u001b[0;32m    <a href='file:///c%3A/Users/007ra/.conda/envs/dataScience/lib/site-packages/tweepy/api.py?line=444'>445</a>\u001b[0m \u001b[39m    https://developer.twitter.com/en/docs/twitter-api/premium/search-api/api-reference/premium-search\u001b[39;00m\n\u001b[0;32m    <a href='file:///c%3A/Users/007ra/.conda/envs/dataScience/lib/site-packages/tweepy/api.py?line=445'>446</a>\u001b[0m \u001b[39m    \"\"\"\u001b[39;00m\n\u001b[1;32m--> <a href='file:///c%3A/Users/007ra/.conda/envs/dataScience/lib/site-packages/tweepy/api.py?line=446'>447</a>\u001b[0m     \u001b[39mreturn\u001b[39;00m \u001b[39mself\u001b[39m\u001b[39m.\u001b[39mrequest(\n\u001b[0;32m    <a href='file:///c%3A/Users/007ra/.conda/envs/dataScience/lib/site-packages/tweepy/api.py?line=447'>448</a>\u001b[0m         \u001b[39m'\u001b[39m\u001b[39mGET\u001b[39m\u001b[39m'\u001b[39m, \u001b[39mf\u001b[39m\u001b[39m'\u001b[39m\u001b[39mtweets/search/fullarchive/\u001b[39m\u001b[39m{\u001b[39;00mlabel\u001b[39m}\u001b[39;00m\u001b[39m'\u001b[39m, endpoint_parameters\u001b[39m=\u001b[39m(\n\u001b[0;32m    <a href='file:///c%3A/Users/007ra/.conda/envs/dataScience/lib/site-packages/tweepy/api.py?line=448'>449</a>\u001b[0m             \u001b[39m'\u001b[39m\u001b[39mquery\u001b[39m\u001b[39m'\u001b[39m, \u001b[39m'\u001b[39m\u001b[39mtag\u001b[39m\u001b[39m'\u001b[39m, \u001b[39m'\u001b[39m\u001b[39mfromDate\u001b[39m\u001b[39m'\u001b[39m, \u001b[39m'\u001b[39m\u001b[39mtoDate\u001b[39m\u001b[39m'\u001b[39m, \u001b[39m'\u001b[39m\u001b[39mmaxResults\u001b[39m\u001b[39m'\u001b[39m, \u001b[39m'\u001b[39m\u001b[39mnext\u001b[39m\u001b[39m'\u001b[39m\n\u001b[0;32m    <a href='file:///c%3A/Users/007ra/.conda/envs/dataScience/lib/site-packages/tweepy/api.py?line=449'>450</a>\u001b[0m         ), query\u001b[39m=\u001b[39mquery, \u001b[39m*\u001b[39m\u001b[39m*\u001b[39mkwargs\n\u001b[0;32m    <a href='file:///c%3A/Users/007ra/.conda/envs/dataScience/lib/site-packages/tweepy/api.py?line=450'>451</a>\u001b[0m     )\n",
      "File \u001b[1;32m~\\.conda\\envs\\dataScience\\lib\\site-packages\\tweepy\\api.py:259\u001b[0m, in \u001b[0;36mAPI.request\u001b[1;34m(self, method, endpoint, endpoint_parameters, params, headers, json_payload, parser, payload_list, payload_type, post_data, files, require_auth, return_cursors, upload_api, use_cache, **kwargs)\u001b[0m\n\u001b[0;32m    <a href='file:///c%3A/Users/007ra/.conda/envs/dataScience/lib/site-packages/tweepy/api.py?line=256'>257</a>\u001b[0m     \u001b[39mraise\u001b[39;00m Unauthorized(resp)\n\u001b[0;32m    <a href='file:///c%3A/Users/007ra/.conda/envs/dataScience/lib/site-packages/tweepy/api.py?line=257'>258</a>\u001b[0m \u001b[39mif\u001b[39;00m resp\u001b[39m.\u001b[39mstatus_code \u001b[39m==\u001b[39m \u001b[39m403\u001b[39m:\n\u001b[1;32m--> <a href='file:///c%3A/Users/007ra/.conda/envs/dataScience/lib/site-packages/tweepy/api.py?line=258'>259</a>\u001b[0m     \u001b[39mraise\u001b[39;00m Forbidden(resp)\n\u001b[0;32m    <a href='file:///c%3A/Users/007ra/.conda/envs/dataScience/lib/site-packages/tweepy/api.py?line=259'>260</a>\u001b[0m \u001b[39mif\u001b[39;00m resp\u001b[39m.\u001b[39mstatus_code \u001b[39m==\u001b[39m \u001b[39m404\u001b[39m:\n\u001b[0;32m    <a href='file:///c%3A/Users/007ra/.conda/envs/dataScience/lib/site-packages/tweepy/api.py?line=260'>261</a>\u001b[0m     \u001b[39mraise\u001b[39;00m NotFound(resp)\n",
      "\u001b[1;31mForbidden\u001b[0m: 403 Forbidden\n453 - You currently have Essential access which includes access to Twitter API v2 endpoints only. If you need access to this endpoint, you’ll need to apply for Elevated access via the Developer Portal. You can learn more here: https://developer.twitter.com/en/docs/twitter-api/getting-started/about-twitter-api#v2-access-leve"
     ]
    }
   ],
   "source": [
    "api = tweepy.API(authenticate, wait_on_rate_limit=True)\n",
    "res = api.search_full_archive(query='gas price', label='gas')\n",
    "res"
   ]
  }
 ],
 "metadata": {
  "interpreter": {
   "hash": "e38c6d658e3c4e97a4d48d96dcbbb50367a88e38ba291af5da90eb5fcad12b1b"
  },
  "kernelspec": {
   "display_name": "Python 3.9.12 ('dataScience')",
   "language": "python",
   "name": "python3"
  },
  "language_info": {
   "codemirror_mode": {
    "name": "ipython",
    "version": 3
   },
   "file_extension": ".py",
   "mimetype": "text/x-python",
   "name": "python",
   "nbconvert_exporter": "python",
   "pygments_lexer": "ipython3",
   "version": "3.9.12"
  },
  "orig_nbformat": 4
 },
 "nbformat": 4,
 "nbformat_minor": 2
}
