{
 "cells": [
  {
   "cell_type": "code",
   "execution_count": 14,
   "metadata": {},
   "outputs": [],
   "source": [
    "import tensorflow as tf\n",
    "from sklearn.preprocessing import MinMaxScaler\n",
    "import pandas as pd\n",
    "import matplotlib.pyplot as plt\n",
    "import numpy as np"
   ]
  },
  {
   "cell_type": "code",
   "execution_count": 18,
   "metadata": {},
   "outputs": [
    {
     "data": {
      "text/html": [
       "<div>\n",
       "<style scoped>\n",
       "    .dataframe tbody tr th:only-of-type {\n",
       "        vertical-align: middle;\n",
       "    }\n",
       "\n",
       "    .dataframe tbody tr th {\n",
       "        vertical-align: top;\n",
       "    }\n",
       "\n",
       "    .dataframe thead th {\n",
       "        text-align: right;\n",
       "    }\n",
       "</style>\n",
       "<table border=\"1\" class=\"dataframe\">\n",
       "  <thead>\n",
       "    <tr style=\"text-align: right;\">\n",
       "      <th></th>\n",
       "      <th>Unnamed: 0</th>\n",
       "      <th>Day</th>\n",
       "      <th>Price</th>\n",
       "    </tr>\n",
       "  </thead>\n",
       "  <tbody>\n",
       "    <tr>\n",
       "      <th>0</th>\n",
       "      <td>4507</td>\n",
       "      <td>20150105</td>\n",
       "      <td>3.22</td>\n",
       "    </tr>\n",
       "    <tr>\n",
       "      <th>1</th>\n",
       "      <td>4508</td>\n",
       "      <td>20150106</td>\n",
       "      <td>2.98</td>\n",
       "    </tr>\n",
       "    <tr>\n",
       "      <th>2</th>\n",
       "      <td>4509</td>\n",
       "      <td>20150107</td>\n",
       "      <td>3.08</td>\n",
       "    </tr>\n",
       "    <tr>\n",
       "      <th>3</th>\n",
       "      <td>4510</td>\n",
       "      <td>20150108</td>\n",
       "      <td>2.92</td>\n",
       "    </tr>\n",
       "    <tr>\n",
       "      <th>4</th>\n",
       "      <td>4511</td>\n",
       "      <td>20150109</td>\n",
       "      <td>2.96</td>\n",
       "    </tr>\n",
       "  </tbody>\n",
       "</table>\n",
       "</div>"
      ],
      "text/plain": [
       "   Unnamed: 0       Day  Price\n",
       "0        4507  20150105   3.22\n",
       "1        4508  20150106   2.98\n",
       "2        4509  20150107   3.08\n",
       "3        4510  20150108   2.92\n",
       "4        4511  20150109   2.96"
      ]
     },
     "execution_count": 18,
     "metadata": {},
     "output_type": "execute_result"
    }
   ],
   "source": [
    "d = pd.read_csv('./data/daily.csv')\n",
    "d = d[4507:]\n",
    "d.to_csv('./data/dailyChopped.csv')\n",
    "df = pd.read_csv('./data/dailyChopped.csv')\n",
    "df.head()"
   ]
  },
  {
   "cell_type": "code",
   "execution_count": 23,
   "metadata": {},
   "outputs": [],
   "source": [
    "def singleStepSampler(df, window):\n",
    "    xRes = []\n",
    "    yRes = []\n",
    "    for i in range(0, len(df)-window):\n",
    "        res = []\n",
    "        for j in range(0, window):\n",
    "            res.append([df.Price[i+j]])\n",
    "        xRes.append(res)\n",
    "        yRes.append(df.Price[i+window])\n",
    "    tf.convert_to_tensor(xRes)\n",
    "    return (tf.convert_to_tensor(xRes), tf.convert_to_tensor(yRes))"
   ]
  },
  {
   "cell_type": "code",
   "execution_count": 24,
   "metadata": {},
   "outputs": [
    {
     "data": {
      "text/plain": [
       "(TensorShape([1575, 20, 1]), TensorShape([278, 20, 1]))"
      ]
     },
     "execution_count": 24,
     "metadata": {},
     "output_type": "execute_result"
    }
   ],
   "source": [
    "SPLIT = 0.85\n",
    "xVal, yVal = singleStepSampler(df, 20)\n",
    "xTrain = xVal[:int(SPLIT*len(xVal))]\n",
    "yTrain = yVal[:int(SPLIT*len(yVal))]\n",
    "xTest = xVal[int(SPLIT*len(xVal)):]\n",
    "yTest = yVal[int(SPLIT*len(yVal)):]\n",
    "(xTrain.shape, xTest.shape)"
   ]
  },
  {
   "cell_type": "code",
   "execution_count": 25,
   "metadata": {},
   "outputs": [
    {
     "name": "stdout",
     "output_type": "stream",
     "text": [
      "Model: \"sequential_1\"\n",
      "_________________________________________________________________\n",
      "Layer (type)                 Output Shape              Param #   \n",
      "=================================================================\n",
      "conv1d_1 (Conv1D)            (None, 18, 32)            128       \n",
      "_________________________________________________________________\n",
      "max_pooling1d_1 (MaxPooling1 (None, 16, 32)            0         \n",
      "_________________________________________________________________\n",
      "lstm_1 (LSTM)                (None, 16, 284)           360112    \n",
      "_________________________________________________________________\n",
      "flatten_1 (Flatten)          (None, 4544)              0         \n",
      "_________________________________________________________________\n",
      "dense_2 (Dense)              (None, 30)                136350    \n",
      "_________________________________________________________________\n",
      "dense_3 (Dense)              (None, 1)                 31        \n",
      "=================================================================\n",
      "Total params: 496,621\n",
      "Trainable params: 496,621\n",
      "Non-trainable params: 0\n",
      "_________________________________________________________________\n"
     ]
    }
   ],
   "source": [
    "model = tf.keras.Sequential()\n",
    "model.add(tf.keras.layers.Conv1D(32, kernel_size=(3), input_shape=(20, 1)))\n",
    "model.add(tf.keras.layers.MaxPool1D(pool_size=3, strides=(1), padding='valid'))\n",
    "model.add(tf.keras.layers.LSTM(284, return_sequences=True))\n",
    "model.add(tf.keras.layers.Flatten())\n",
    "model.add(tf.keras.layers.Dense(30))\n",
    "model.add(tf.keras.layers.Dense(1))\n",
    "model.compile(loss='mean_absolute_error',optimizer=tf.keras.optimizers.Adam(), metrics=['mse', 'mae', 'mape'])\n",
    "model.summary()"
   ]
  },
  {
   "cell_type": "code",
   "execution_count": 26,
   "metadata": {},
   "outputs": [
    {
     "name": "stdout",
     "output_type": "stream",
     "text": [
      "Epoch 1/25\n",
      "50/50 [==============================] - 12s 15ms/step - loss: 0.3490 - mse: 0.7023 - mae: 0.3490 - mape: 1078006.6250\n",
      "Epoch 2/25\n",
      "50/50 [==============================] - 1s 11ms/step - loss: 0.2326 - mse: 0.4292 - mae: 0.2326 - mape: 981767.0625\n",
      "Epoch 3/25\n",
      "50/50 [==============================] - 1s 12ms/step - loss: 0.2206 - mse: 0.3918 - mae: 0.2206 - mape: 1069770.8750\n",
      "Epoch 4/25\n",
      "50/50 [==============================] - 1s 12ms/step - loss: 0.2005 - mse: 0.3668 - mae: 0.2005 - mape: 1056175.2500\n",
      "Epoch 5/25\n",
      "50/50 [==============================] - 1s 11ms/step - loss: 0.1964 - mse: 0.3580 - mae: 0.1964 - mape: 1059718.5000\n",
      "Epoch 6/25\n",
      "50/50 [==============================] - 1s 11ms/step - loss: 0.1593 - mse: 0.3153 - mae: 0.1593 - mape: 1046961.1875\n",
      "Epoch 7/25\n",
      "50/50 [==============================] - 1s 11ms/step - loss: 0.1561 - mse: 0.2984 - mae: 0.1561 - mape: 1062569.5000\n",
      "Epoch 8/25\n",
      "50/50 [==============================] - 1s 12ms/step - loss: 0.1445 - mse: 0.2710 - mae: 0.1445 - mape: 1056214.2500\n",
      "Epoch 9/25\n",
      "50/50 [==============================] - 1s 11ms/step - loss: 0.1515 - mse: 0.2664 - mae: 0.1515 - mape: 1075431.6250\n",
      "Epoch 10/25\n",
      "50/50 [==============================] - 1s 11ms/step - loss: 0.1761 - mse: 0.2842 - mae: 0.1761 - mape: 1064231.3750\n",
      "Epoch 11/25\n",
      "50/50 [==============================] - 1s 11ms/step - loss: 0.1535 - mse: 0.2659 - mae: 0.1535 - mape: 1101573.0000\n",
      "Epoch 12/25\n",
      "50/50 [==============================] - 1s 10ms/step - loss: 0.1284 - mse: 0.2388 - mae: 0.1284 - mape: 1087087.3750\n",
      "Epoch 13/25\n",
      "50/50 [==============================] - 1s 10ms/step - loss: 0.1281 - mse: 0.2371 - mae: 0.1281 - mape: 1157016.3750\n",
      "Epoch 14/25\n",
      "50/50 [==============================] - 1s 10ms/step - loss: 0.1209 - mse: 0.2320 - mae: 0.1209 - mape: 1078502.1250\n",
      "Epoch 15/25\n",
      "50/50 [==============================] - 1s 11ms/step - loss: 0.1353 - mse: 0.2246 - mae: 0.1353 - mape: 1150478.5000\n",
      "Epoch 16/25\n",
      "50/50 [==============================] - 1s 11ms/step - loss: 0.1234 - mse: 0.2246 - mae: 0.1234 - mape: 1083388.1250\n",
      "Epoch 17/25\n",
      "50/50 [==============================] - 1s 10ms/step - loss: 0.1201 - mse: 0.2237 - mae: 0.1201 - mape: 1105316.8750\n",
      "Epoch 18/25\n",
      "50/50 [==============================] - 1s 11ms/step - loss: 0.1175 - mse: 0.2079 - mae: 0.1175 - mape: 1153190.7500\n",
      "Epoch 19/25\n",
      "50/50 [==============================] - 1s 10ms/step - loss: 0.1151 - mse: 0.2142 - mae: 0.1151 - mape: 1076480.5000\n",
      "Epoch 20/25\n",
      "50/50 [==============================] - 1s 10ms/step - loss: 0.1142 - mse: 0.2086 - mae: 0.1142 - mape: 1086778.2500\n",
      "Epoch 21/25\n",
      "50/50 [==============================] - 1s 10ms/step - loss: 0.1240 - mse: 0.2068 - mae: 0.1240 - mape: 1101552.6250\n",
      "Epoch 22/25\n",
      "50/50 [==============================] - 0s 10ms/step - loss: 0.1163 - mse: 0.2101 - mae: 0.1163 - mape: 1097837.1250\n",
      "Epoch 23/25\n",
      "50/50 [==============================] - 1s 10ms/step - loss: 0.1141 - mse: 0.2089 - mae: 0.1141 - mape: 1120072.3750\n",
      "Epoch 24/25\n",
      "50/50 [==============================] - 0s 10ms/step - loss: 0.1134 - mse: 0.2113 - mae: 0.1134 - mape: 1118452.2500\n",
      "Epoch 25/25\n",
      "50/50 [==============================] - 0s 10ms/step - loss: 0.1084 - mse: 0.2048 - mae: 0.1084 - mape: 1102850.5000\n"
     ]
    },
    {
     "data": {
      "text/plain": [
       "<keras.callbacks.History at 0x265d25663d0>"
      ]
     },
     "execution_count": 26,
     "metadata": {},
     "output_type": "execute_result"
    }
   ],
   "source": [
    "model.fit(xTrain, yTrain, epochs=25)"
   ]
  },
  {
   "cell_type": "code",
   "execution_count": 27,
   "metadata": {},
   "outputs": [
    {
     "name": "stdout",
     "output_type": "stream",
     "text": [
      "9/9 [==============================] - 1s 33ms/step - loss: 0.2093 - mse: 0.0915 - mae: 0.2093 - mape: 4.3661\n"
     ]
    },
    {
     "data": {
      "text/plain": [
       "[0.20930053293704987,\n",
       " 0.09151479601860046,\n",
       " 0.20930053293704987,\n",
       " 4.366149425506592]"
      ]
     },
     "execution_count": 27,
     "metadata": {},
     "output_type": "execute_result"
    }
   ],
   "source": [
    "model.evaluate(xTest, yTest)"
   ]
  },
  {
   "cell_type": "code",
   "execution_count": 28,
   "metadata": {},
   "outputs": [],
   "source": [
    "data = []\n",
    "for item in xTest:\n",
    "    data.append(model.predict(np.array([item])))"
   ]
  },
  {
   "cell_type": "code",
   "execution_count": 29,
   "metadata": {},
   "outputs": [
    {
     "data": {
      "text/plain": [
       "<AxesSubplot:>"
      ]
     },
     "execution_count": 29,
     "metadata": {},
     "output_type": "execute_result"
    },
    {
     "data": {
      "image/png": "[encoded data removed]",
      "text/plain": [
       "<Figure size 432x288 with 1 Axes>"
      ]
     },
     "metadata": {
      "needs_background": "light"
     },
     "output_type": "display_data"
    }
   ],
   "source": [
    "dafr = pd.DataFrame(data={'actual': yTest, 'prediction': [item[0][0] for item in data]})\n",
    "dafr.plot()"
   ]
  }
 ],
 "metadata": {
  "interpreter": {
   "hash": "e38c6d658e3c4e97a4d48d96dcbbb50367a88e38ba291af5da90eb5fcad12b1b"
  },
  "kernelspec": {
   "display_name": "Python 3.9.12 ('dataScience')",
   "language": "python",
   "name": "python3"
  },
  "language_info": {
   "codemirror_mode": {
    "name": "ipython",
    "version": 3
   },
   "file_extension": ".py",
   "mimetype": "text/x-python",
   "name": "python",
   "nbconvert_exporter": "python",
   "pygments_lexer": "ipython3",
   "version": "3.9.12"
  },
  "orig_nbformat": 4
 },
 "nbformat": 4,
 "nbformat_minor": 2
}
