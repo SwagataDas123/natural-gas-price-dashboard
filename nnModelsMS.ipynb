{
 "cells": [
  {
   "cell_type": "code",
   "execution_count": 8,
   "metadata": {},
   "outputs": [],
   "source": [
    "import tensorflow as tf\n",
    "import tensorflow.keras.backend as K\n",
    "from sklearn.preprocessing import MinMaxScaler\n",
    "import pandas as pd\n",
    "import matplotlib.pyplot as plt\n",
    "import numpy as np\n",
    "import random\n",
    "import os\n",
    "from funcs import sMAPE"
   ]
  },
  {
   "cell_type": "code",
   "execution_count": 2,
   "metadata": {},
   "outputs": [],
   "source": [
    "tf.random.set_seed(69)\n",
    "random.seed(69)\n",
    "np.random.seed(69)\n",
    "os.environ[\"PYTHONHASHSEED\"] = str(69)"
   ]
  },
  {
   "cell_type": "code",
   "execution_count": 27,
   "metadata": {},
   "outputs": [],
   "source": [
    "def multiStepSampler(df, window, door):\n",
    "    xRes = []\n",
    "    yRes = []\n",
    "    for i in range(0, len(df)-window-door):\n",
    "        res = []\n",
    "        for j in range(0, window):\n",
    "            res.append([df.Price[i+j]])\n",
    "        xRes.append(res)\n",
    "        yRes.append(df.Price[i+window:i+window+door])\n",
    "    return (tf.convert_to_tensor(xRes), tf.convert_to_tensor(yRes))"
   ]
  },
  {
   "cell_type": "code",
   "execution_count": 5,
   "metadata": {},
   "outputs": [
    {
     "data": {
      "text/html": [
       "<div>\n",
       "<style scoped>\n",
       "    .dataframe tbody tr th:only-of-type {\n",
       "        vertical-align: middle;\n",
       "    }\n",
       "\n",
       "    .dataframe tbody tr th {\n",
       "        vertical-align: top;\n",
       "    }\n",
       "\n",
       "    .dataframe thead th {\n",
       "        text-align: right;\n",
       "    }\n",
       "</style>\n",
       "<table border=\"1\" class=\"dataframe\">\n",
       "  <thead>\n",
       "    <tr style=\"text-align: right;\">\n",
       "      <th></th>\n",
       "      <th>Day</th>\n",
       "      <th>Price</th>\n",
       "    </tr>\n",
       "  </thead>\n",
       "  <tbody>\n",
       "    <tr>\n",
       "      <th>0</th>\n",
       "      <td>19970107</td>\n",
       "      <td>3.82</td>\n",
       "    </tr>\n",
       "    <tr>\n",
       "      <th>1</th>\n",
       "      <td>19970108</td>\n",
       "      <td>3.80</td>\n",
       "    </tr>\n",
       "    <tr>\n",
       "      <th>2</th>\n",
       "      <td>19970109</td>\n",
       "      <td>3.61</td>\n",
       "    </tr>\n",
       "    <tr>\n",
       "      <th>3</th>\n",
       "      <td>19970110</td>\n",
       "      <td>3.92</td>\n",
       "    </tr>\n",
       "    <tr>\n",
       "      <th>4</th>\n",
       "      <td>19970113</td>\n",
       "      <td>4.00</td>\n",
       "    </tr>\n",
       "  </tbody>\n",
       "</table>\n",
       "</div>"
      ],
      "text/plain": [
       "        Day  Price\n",
       "0  19970107   3.82\n",
       "1  19970108   3.80\n",
       "2  19970109   3.61\n",
       "3  19970110   3.92\n",
       "4  19970113   4.00"
      ]
     },
     "execution_count": 5,
     "metadata": {},
     "output_type": "execute_result"
    }
   ],
   "source": [
    "df = pd.read_csv('./data/daily.csv')\n",
    "df.head()"
   ]
  },
  {
   "cell_type": "code",
   "execution_count": 11,
   "metadata": {},
   "outputs": [],
   "source": [
    "def smape(y_true, y_pred):\n",
    "    epsilon = 0.1\n",
    "    summ = K.maximum(K.abs(y_true) + K.abs(y_pred) + epsilon, 0.5 + epsilon)\n",
    "    smape = K.abs(y_pred - y_true) / summ * 2.0\n",
    "    return smape"
   ]
  },
  {
   "cell_type": "code",
   "execution_count": 28,
   "metadata": {},
   "outputs": [
    {
     "data": {
      "text/plain": [
       "(TensorShape([5350, 60, 1]), TensorShape([945, 60, 1]))"
      ]
     },
     "execution_count": 28,
     "metadata": {},
     "output_type": "execute_result"
    }
   ],
   "source": [
    "SPLIT = 0.85\n",
    "xVal, yVal = multiStepSampler(df, 60, 30)\n",
    "xTrain = xVal[:int(SPLIT*len(xVal))]\n",
    "yTrain = yVal[:int(SPLIT*len(yVal))]\n",
    "xTest = xVal[int(SPLIT*len(xVal)):]\n",
    "yTest = yVal[int(SPLIT*len(yVal)):]\n",
    "(xTrain.shape, xTest.shape)"
   ]
  },
  {
   "cell_type": "code",
   "execution_count": 84,
   "metadata": {},
   "outputs": [],
   "source": [
    "hybridModel = tf.keras.Sequential()\n",
    "hybridModel.add(tf.keras.layers.Conv1D(32, kernel_size=(3), input_shape=(60, 1)))\n",
    "hybridModel.add(tf.keras.layers.MaxPool1D(pool_size=3, strides=(1), padding='valid'))\n",
    "hybridModel.add(tf.keras.layers.LSTM(256, return_sequences=True))\n",
    "hybridModel.add(tf.keras.layers.Flatten())\n",
    "hybridModel.add(tf.keras.layers.Dense(128, activation='relu'))\n",
    "hybridModel.add(tf.keras.layers.Dense(30, activation='linear'))\n",
    "hybridModel.compile(loss='mean_absolute_error',optimizer=tf.keras.optimizers.Adam(learning_rate=0.00001), metrics=['mse', 'mae', smape])"
   ]
  },
  {
   "cell_type": "code",
   "execution_count": 85,
   "metadata": {},
   "outputs": [
    {
     "name": "stdout",
     "output_type": "stream",
     "text": [
      "Epoch 1/30\n",
      "168/168 [==============================] - 5s 18ms/step - loss: 2.5944 - mse: 11.9948 - mae: 2.5944 - smape: 0.9154\n",
      "Epoch 2/30\n",
      "168/168 [==============================] - 3s 17ms/step - loss: 1.2700 - mse: 4.1521 - mae: 1.2700 - smape: 0.3466\n",
      "Epoch 3/30\n",
      "168/168 [==============================] - 3s 17ms/step - loss: 0.8181 - mse: 1.6366 - mae: 0.8181 - smape: 0.1780\n",
      "Epoch 4/30\n",
      "168/168 [==============================] - 3s 18ms/step - loss: 0.6815 - mse: 1.1767 - mae: 0.6815 - smape: 0.1440\n",
      "Epoch 5/30\n",
      "168/168 [==============================] - 3s 18ms/step - loss: 0.6516 - mse: 1.0860 - mae: 0.6516 - smape: 0.1369\n",
      "Epoch 6/30\n",
      "168/168 [==============================] - 3s 20ms/step - loss: 0.6366 - mse: 1.0378 - mae: 0.6366 - smape: 0.1337\n",
      "Epoch 7/30\n",
      "168/168 [==============================] - 3s 18ms/step - loss: 0.6234 - mse: 1.0036 - mae: 0.6234 - smape: 0.1309\n",
      "Epoch 8/30\n",
      "168/168 [==============================] - 3s 19ms/step - loss: 0.6119 - mse: 0.9704 - mae: 0.6119 - smape: 0.1286\n",
      "Epoch 9/30\n",
      "168/168 [==============================] - 3s 18ms/step - loss: 0.5988 - mse: 0.9364 - mae: 0.5988 - smape: 0.1261\n",
      "Epoch 10/30\n",
      "168/168 [==============================] - 3s 19ms/step - loss: 0.5869 - mse: 0.9020 - mae: 0.5869 - smape: 0.1239\n",
      "Epoch 11/30\n",
      "168/168 [==============================] - 3s 18ms/step - loss: 0.5743 - mse: 0.8693 - mae: 0.5743 - smape: 0.1218\n",
      "Epoch 12/30\n",
      "168/168 [==============================] - 3s 19ms/step - loss: 0.5632 - mse: 0.8351 - mae: 0.5632 - smape: 0.1201\n",
      "Epoch 13/30\n",
      "168/168 [==============================] - 3s 19ms/step - loss: 0.5527 - mse: 0.8038 - mae: 0.5527 - smape: 0.1183\n",
      "Epoch 14/30\n",
      "168/168 [==============================] - 3s 18ms/step - loss: 0.5438 - mse: 0.7802 - mae: 0.5438 - smape: 0.1170\n",
      "Epoch 15/30\n",
      "168/168 [==============================] - 3s 18ms/step - loss: 0.5340 - mse: 0.7535 - mae: 0.5340 - smape: 0.1155\n",
      "Epoch 16/30\n",
      "168/168 [==============================] - 3s 19ms/step - loss: 0.5248 - mse: 0.7312 - mae: 0.5248 - smape: 0.1138\n",
      "Epoch 17/30\n",
      "168/168 [==============================] - 3s 19ms/step - loss: 0.5193 - mse: 0.7211 - mae: 0.5193 - smape: 0.1128\n",
      "Epoch 18/30\n",
      "168/168 [==============================] - 3s 18ms/step - loss: 0.5145 - mse: 0.7030 - mae: 0.5145 - smape: 0.1122\n",
      "Epoch 19/30\n",
      "168/168 [==============================] - 3s 18ms/step - loss: 0.5094 - mse: 0.6974 - mae: 0.5094 - smape: 0.1111\n",
      "Epoch 20/30\n",
      "168/168 [==============================] - 3s 18ms/step - loss: 0.5042 - mse: 0.6827 - mae: 0.5042 - smape: 0.1101\n",
      "Epoch 21/30\n",
      "168/168 [==============================] - 3s 18ms/step - loss: 0.5030 - mse: 0.6818 - mae: 0.5030 - smape: 0.1101\n",
      "Epoch 22/30\n",
      "168/168 [==============================] - 3s 18ms/step - loss: 0.4986 - mse: 0.6657 - mae: 0.4986 - smape: 0.1092\n",
      "Epoch 23/30\n",
      "168/168 [==============================] - 3s 18ms/step - loss: 0.4949 - mse: 0.6624 - mae: 0.4949 - smape: 0.1086\n",
      "Epoch 24/30\n",
      "168/168 [==============================] - 3s 18ms/step - loss: 0.4946 - mse: 0.6590 - mae: 0.4946 - smape: 0.1084\n",
      "Epoch 25/30\n",
      "168/168 [==============================] - 3s 18ms/step - loss: 0.4900 - mse: 0.6480 - mae: 0.4900 - smape: 0.1077\n",
      "Epoch 26/30\n",
      "168/168 [==============================] - 3s 18ms/step - loss: 0.4890 - mse: 0.6529 - mae: 0.4890 - smape: 0.1075\n",
      "Epoch 27/30\n",
      "168/168 [==============================] - 3s 18ms/step - loss: 0.4846 - mse: 0.6390 - mae: 0.4846 - smape: 0.1067\n",
      "Epoch 28/30\n",
      "168/168 [==============================] - 3s 18ms/step - loss: 0.4830 - mse: 0.6383 - mae: 0.4830 - smape: 0.1064\n",
      "Epoch 29/30\n",
      "168/168 [==============================] - 3s 18ms/step - loss: 0.4799 - mse: 0.6333 - mae: 0.4799 - smape: 0.1057\n",
      "Epoch 30/30\n",
      "168/168 [==============================] - 3s 18ms/step - loss: 0.4779 - mse: 0.6266 - mae: 0.4779 - smape: 0.1056\n"
     ]
    },
    {
     "data": {
      "text/plain": [
       "<keras.callbacks.History at 0x2b20ef24730>"
      ]
     },
     "execution_count": 85,
     "metadata": {},
     "output_type": "execute_result"
    }
   ],
   "source": [
    "hybridModel.fit(xTrain, yTrain, epochs=30)"
   ]
  },
  {
   "cell_type": "code",
   "execution_count": 74,
   "metadata": {},
   "outputs": [],
   "source": [
    "LSTMModel = tf.keras.Sequential()\n",
    "LSTMModel.add(tf.keras.layers.LSTM(256, return_sequences=True, input_shape=(60, 1)))\n",
    "LSTMModel.add(tf.keras.layers.Flatten())\n",
    "LSTMModel.add(tf.keras.layers.Dense(128, activation='relu'))\n",
    "LSTMModel.add(tf.keras.layers.Dense(30, activation='linear'))\n",
    "LSTMModel.compile(loss='mean_absolute_error',optimizer=tf.keras.optimizers.Adam(), metrics=['mse', 'mae', smape])"
   ]
  },
  {
   "cell_type": "code",
   "execution_count": 75,
   "metadata": {},
   "outputs": [
    {
     "name": "stdout",
     "output_type": "stream",
     "text": [
      "Epoch 1/30\n",
      "168/168 [==============================] - 5s 19ms/step - loss: 0.7497 - mse: 1.6055 - mae: 0.7497 - smape: 0.1766\n",
      "Epoch 2/30\n",
      "168/168 [==============================] - 3s 18ms/step - loss: 0.5374 - mse: 0.7557 - mae: 0.5374 - smape: 0.1150\n",
      "Epoch 3/30\n",
      "168/168 [==============================] - 3s 17ms/step - loss: 0.5097 - mse: 0.7015 - mae: 0.5097 - smape: 0.1092\n",
      "Epoch 4/30\n",
      "168/168 [==============================] - 3s 17ms/step - loss: 0.4866 - mse: 0.6515 - mae: 0.4866 - smape: 0.1045\n",
      "Epoch 5/30\n",
      "168/168 [==============================] - 3s 18ms/step - loss: 0.4817 - mse: 0.6350 - mae: 0.4817 - smape: 0.1039\n",
      "Epoch 6/30\n",
      "168/168 [==============================] - 3s 18ms/step - loss: 0.4722 - mse: 0.6133 - mae: 0.4722 - smape: 0.1025\n",
      "Epoch 7/30\n",
      "168/168 [==============================] - 3s 18ms/step - loss: 0.4621 - mse: 0.6007 - mae: 0.4621 - smape: 0.1002\n",
      "Epoch 8/30\n",
      "168/168 [==============================] - 3s 17ms/step - loss: 0.4659 - mse: 0.5993 - mae: 0.4659 - smape: 0.1015\n",
      "Epoch 9/30\n",
      "168/168 [==============================] - 3s 18ms/step - loss: 0.4581 - mse: 0.5810 - mae: 0.4581 - smape: 0.1001\n",
      "Epoch 10/30\n",
      "168/168 [==============================] - 3s 19ms/step - loss: 0.4515 - mse: 0.5768 - mae: 0.4515 - smape: 0.0984\n",
      "Epoch 11/30\n",
      "168/168 [==============================] - 3s 18ms/step - loss: 0.4610 - mse: 0.5836 - mae: 0.4610 - smape: 0.1011\n",
      "Epoch 12/30\n",
      "168/168 [==============================] - 3s 19ms/step - loss: 0.4496 - mse: 0.5718 - mae: 0.4496 - smape: 0.0983\n",
      "Epoch 13/30\n",
      "168/168 [==============================] - 3s 18ms/step - loss: 0.4407 - mse: 0.5449 - mae: 0.4407 - smape: 0.0969\n",
      "Epoch 14/30\n",
      "168/168 [==============================] - 3s 18ms/step - loss: 0.4410 - mse: 0.5488 - mae: 0.4410 - smape: 0.0969\n",
      "Epoch 15/30\n",
      "168/168 [==============================] - 4s 21ms/step - loss: 0.4286 - mse: 0.5179 - mae: 0.4286 - smape: 0.0947\n",
      "Epoch 16/30\n",
      "168/168 [==============================] - 4s 24ms/step - loss: 0.4280 - mse: 0.5138 - mae: 0.4280 - smape: 0.0948\n",
      "Epoch 17/30\n",
      "168/168 [==============================] - 2s 14ms/step - loss: 0.4226 - mse: 0.5048 - mae: 0.4226 - smape: 0.0939\n",
      "Epoch 18/30\n",
      "168/168 [==============================] - 2s 11ms/step - loss: 0.4241 - mse: 0.5063 - mae: 0.4241 - smape: 0.0948\n",
      "Epoch 19/30\n",
      "168/168 [==============================] - 2s 11ms/step - loss: 0.4311 - mse: 0.5074 - mae: 0.4311 - smape: 0.0961\n",
      "Epoch 20/30\n",
      "168/168 [==============================] - 2s 11ms/step - loss: 0.4175 - mse: 0.4915 - mae: 0.4175 - smape: 0.0931\n",
      "Epoch 21/30\n",
      "168/168 [==============================] - 2s 11ms/step - loss: 0.4052 - mse: 0.4677 - mae: 0.4052 - smape: 0.0912\n",
      "Epoch 22/30\n",
      "168/168 [==============================] - 2s 11ms/step - loss: 0.4092 - mse: 0.4704 - mae: 0.4092 - smape: 0.0920\n",
      "Epoch 23/30\n",
      "168/168 [==============================] - 2s 11ms/step - loss: 0.4105 - mse: 0.4663 - mae: 0.4105 - smape: 0.0927\n",
      "Epoch 24/30\n",
      "168/168 [==============================] - 2s 11ms/step - loss: 0.4035 - mse: 0.4605 - mae: 0.4035 - smape: 0.0908\n",
      "Epoch 25/30\n",
      "168/168 [==============================] - 2s 11ms/step - loss: 0.4026 - mse: 0.4494 - mae: 0.4026 - smape: 0.0910\n",
      "Epoch 26/30\n",
      "168/168 [==============================] - 2s 11ms/step - loss: 0.3929 - mse: 0.4317 - mae: 0.3929 - smape: 0.0893\n",
      "Epoch 27/30\n",
      "168/168 [==============================] - 2s 11ms/step - loss: 0.3889 - mse: 0.4221 - mae: 0.3889 - smape: 0.0885\n",
      "Epoch 28/30\n",
      "168/168 [==============================] - 2s 11ms/step - loss: 0.3899 - mse: 0.4265 - mae: 0.3899 - smape: 0.0888\n",
      "Epoch 29/30\n",
      "168/168 [==============================] - 2s 11ms/step - loss: 0.3790 - mse: 0.3994 - mae: 0.3790 - smape: 0.0873\n",
      "Epoch 30/30\n",
      "168/168 [==============================] - 2s 13ms/step - loss: 0.3840 - mse: 0.3997 - mae: 0.3840 - smape: 0.0887\n"
     ]
    },
    {
     "data": {
      "text/plain": [
       "<keras.callbacks.History at 0x2b207ab3df0>"
      ]
     },
     "execution_count": 75,
     "metadata": {},
     "output_type": "execute_result"
    }
   ],
   "source": [
    "LSTMModel.fit(xTrain, yTrain, epochs=30)"
   ]
  },
  {
   "cell_type": "code",
   "execution_count": 71,
   "metadata": {},
   "outputs": [],
   "source": [
    "CNNModel = tf.keras.Sequential()\n",
    "CNNModel.add(tf.keras.layers.Conv1D(32, kernel_size=(2), input_shape=(60, 1)))\n",
    "CNNModel.add(tf.keras.layers.Flatten())\n",
    "CNNModel.add(tf.keras.layers.Dense(128, activation='relu'))\n",
    "CNNModel.add(tf.keras.layers.Dense(30, activation='linear'))\n",
    "CNNModel.compile(loss='mean_absolute_error',optimizer=tf.keras.optimizers.Adam(), metrics=['mse', 'mae', smape])"
   ]
  },
  {
   "cell_type": "code",
   "execution_count": 72,
   "metadata": {},
   "outputs": [
    {
     "name": "stdout",
     "output_type": "stream",
     "text": [
      "Epoch 1/30\n",
      "168/168 [==============================] - 1s 5ms/step - loss: 0.7224 - mse: 1.5344 - mae: 0.7224 - smape: 0.1655\n",
      "Epoch 2/30\n",
      "168/168 [==============================] - 1s 4ms/step - loss: 0.5484 - mse: 0.8005 - mae: 0.5484 - smape: 0.1160\n",
      "Epoch 3/30\n",
      "168/168 [==============================] - 1s 4ms/step - loss: 0.5264 - mse: 0.7693 - mae: 0.5264 - smape: 0.1110\n",
      "Epoch 4/30\n",
      "168/168 [==============================] - 1s 4ms/step - loss: 0.5151 - mse: 0.7452 - mae: 0.5151 - smape: 0.1086\n",
      "Epoch 5/30\n",
      "168/168 [==============================] - 1s 4ms/step - loss: 0.5145 - mse: 0.7388 - mae: 0.5145 - smape: 0.1087\n",
      "Epoch 6/30\n",
      "168/168 [==============================] - 1s 4ms/step - loss: 0.5141 - mse: 0.7335 - mae: 0.5141 - smape: 0.1087\n",
      "Epoch 7/30\n",
      "168/168 [==============================] - 1s 4ms/step - loss: 0.5010 - mse: 0.7146 - mae: 0.5010 - smape: 0.1057\n",
      "Epoch 8/30\n",
      "168/168 [==============================] - 1s 4ms/step - loss: 0.5101 - mse: 0.7215 - mae: 0.5101 - smape: 0.1080\n",
      "Epoch 9/30\n",
      "168/168 [==============================] - 1s 4ms/step - loss: 0.4981 - mse: 0.6992 - mae: 0.4981 - smape: 0.1054\n",
      "Epoch 10/30\n",
      "168/168 [==============================] - 1s 4ms/step - loss: 0.4904 - mse: 0.7009 - mae: 0.4904 - smape: 0.1032\n",
      "Epoch 11/30\n",
      "168/168 [==============================] - 1s 4ms/step - loss: 0.4961 - mse: 0.6998 - mae: 0.4961 - smape: 0.1051\n",
      "Epoch 12/30\n",
      "168/168 [==============================] - 1s 4ms/step - loss: 0.4816 - mse: 0.6848 - mae: 0.4816 - smape: 0.1013\n",
      "Epoch 13/30\n",
      "168/168 [==============================] - 1s 4ms/step - loss: 0.4895 - mse: 0.6953 - mae: 0.4895 - smape: 0.1032\n",
      "Epoch 14/30\n",
      "168/168 [==============================] - 1s 4ms/step - loss: 0.4835 - mse: 0.6955 - mae: 0.4835 - smape: 0.1018\n",
      "Epoch 15/30\n",
      "168/168 [==============================] - 1s 4ms/step - loss: 0.4838 - mse: 0.6916 - mae: 0.4838 - smape: 0.1022\n",
      "Epoch 16/30\n",
      "168/168 [==============================] - 1s 4ms/step - loss: 0.4785 - mse: 0.6861 - mae: 0.4785 - smape: 0.1010\n",
      "Epoch 17/30\n",
      "168/168 [==============================] - 1s 4ms/step - loss: 0.4775 - mse: 0.6822 - mae: 0.4775 - smape: 0.1006\n",
      "Epoch 18/30\n",
      "168/168 [==============================] - 1s 4ms/step - loss: 0.4796 - mse: 0.6884 - mae: 0.4796 - smape: 0.1011\n",
      "Epoch 19/30\n",
      "168/168 [==============================] - 1s 4ms/step - loss: 0.4857 - mse: 0.6927 - mae: 0.4857 - smape: 0.1024\n",
      "Epoch 20/30\n",
      "168/168 [==============================] - 1s 4ms/step - loss: 0.4817 - mse: 0.6884 - mae: 0.4817 - smape: 0.1018\n",
      "Epoch 21/30\n",
      "168/168 [==============================] - 1s 5ms/step - loss: 0.4759 - mse: 0.6848 - mae: 0.4759 - smape: 0.1002\n",
      "Epoch 22/30\n",
      "168/168 [==============================] - 1s 5ms/step - loss: 0.4791 - mse: 0.6888 - mae: 0.4791 - smape: 0.1011\n",
      "Epoch 23/30\n",
      "168/168 [==============================] - 1s 6ms/step - loss: 0.4760 - mse: 0.6864 - mae: 0.4760 - smape: 0.1003\n",
      "Epoch 24/30\n",
      "168/168 [==============================] - 1s 7ms/step - loss: 0.4748 - mse: 0.6865 - mae: 0.4748 - smape: 0.1000\n",
      "Epoch 25/30\n",
      "168/168 [==============================] - 1s 8ms/step - loss: 0.4770 - mse: 0.6904 - mae: 0.4770 - smape: 0.1003\n",
      "Epoch 26/30\n",
      "168/168 [==============================] - 1s 6ms/step - loss: 0.4771 - mse: 0.6876 - mae: 0.4771 - smape: 0.1007\n",
      "Epoch 27/30\n",
      "168/168 [==============================] - 1s 6ms/step - loss: 0.4712 - mse: 0.6808 - mae: 0.4712 - smape: 0.0993\n",
      "Epoch 28/30\n",
      "168/168 [==============================] - 1s 7ms/step - loss: 0.4833 - mse: 0.6999 - mae: 0.4833 - smape: 0.1020\n",
      "Epoch 29/30\n",
      "168/168 [==============================] - 1s 7ms/step - loss: 0.4805 - mse: 0.6932 - mae: 0.4805 - smape: 0.1012\n",
      "Epoch 30/30\n",
      "168/168 [==============================] - 1s 7ms/step - loss: 0.4751 - mse: 0.6877 - mae: 0.4751 - smape: 0.1003\n"
     ]
    },
    {
     "data": {
      "text/plain": [
       "<keras.callbacks.History at 0x2b206224dc0>"
      ]
     },
     "execution_count": 72,
     "metadata": {},
     "output_type": "execute_result"
    }
   ],
   "source": [
    "CNNModel.fit(xTrain, yTrain, epochs=30)"
   ]
  },
  {
   "cell_type": "code",
   "execution_count": 86,
   "metadata": {},
   "outputs": [
    {
     "name": "stdout",
     "output_type": "stream",
     "text": [
      "30/30 [==============================] - 1s 11ms/step - loss: 0.4454 - mse: 0.9498 - mae: 0.4454 - smape: 0.1334\n",
      "30/30 [==============================] - 0s 6ms/step - loss: 0.4408 - mse: 1.0089 - mae: 0.4408 - smape: 0.1325\n",
      "30/30 [==============================] - 0s 3ms/step - loss: 0.4452 - mse: 1.3273 - mae: 0.4452 - smape: 0.1268\n"
     ]
    },
    {
     "data": {
      "text/plain": [
       "[0.4451821744441986,\n",
       " 1.3272572755813599,\n",
       " 0.4451821744441986,\n",
       " 0.1267676055431366]"
      ]
     },
     "execution_count": 86,
     "metadata": {},
     "output_type": "execute_result"
    }
   ],
   "source": [
    "hybridModel.evaluate(xTest, yTest)\n",
    "LSTMModel.evaluate(xTest, yTest)\n",
    "CNNModel.evaluate(xTest, yTest)"
   ]
  },
  {
   "cell_type": "code",
   "execution_count": 105,
   "metadata": {},
   "outputs": [
    {
     "data": {
      "text/plain": [
       "<AxesSubplot:>"
      ]
     },
     "execution_count": 105,
     "metadata": {},
     "output_type": "execute_result"
    },
    {
     "data": {
      "image/png": "[encoded data removed]",
      "text/plain": [
       "<Figure size 432x288 with 1 Axes>"
      ]
     },
     "metadata": {
      "needs_background": "light"
     },
     "output_type": "display_data"
    }
   ],
   "source": [
    "i = 100\n",
    "\n",
    "\n",
    "hybrid = np.array(hybridModel.predict(np.array([xTest[i]]))).tolist()\n",
    "lstm = np.array(LSTMModel.predict(np.array([xTest[i]]))).tolist()\n",
    "cnn = np.array(CNNModel.predict(np.array([xTest[i]]))).tolist()\n",
    "\n",
    "dafr = pd.DataFrame(data={'actual': np.array(yTest[i]).tolist(), 'hybrid': hybrid[0], 'lstm': lstm[0], 'cnn': cnn[0]})\n",
    "dafr.plot()"
   ]
  },
  {
   "cell_type": "code",
   "execution_count": 106,
   "metadata": {},
   "outputs": [],
   "source": [
    "CNNModel.save('./models/multiStepDailyCNN.h5')\n",
    "LSTMModel.save('./models/multiStepDailyLSTM.h5')\n",
    "hybridModel.save('./models/multiStepDailyHybrid.h5')"
   ]
  }
 ],
 "metadata": {
  "interpreter": {
   "hash": "71f6806d83c72a69b7fd946e78e1222f74dd82b556e49667c928aecd25e7a77c"
  },
  "kernelspec": {
   "display_name": "Python 3.9.12 ('dataScience')",
   "language": "python",
   "name": "python3"
  },
  "language_info": {
   "codemirror_mode": {
    "name": "ipython",
    "version": 3
   },
   "file_extension": ".py",
   "mimetype": "text/x-python",
   "name": "python",
   "nbconvert_exporter": "python",
   "pygments_lexer": "ipython3",
   "version": "3.9.12"
  },
  "orig_nbformat": 4
 },
 "nbformat": 4,
 "nbformat_minor": 2
}
