{
 "cells": [
  {
   "cell_type": "code",
   "execution_count": 1,
   "metadata": {},
   "outputs": [
    {
     "name": "stderr",
     "output_type": "stream",
     "text": [
      "C:\\Users\\007ra\\.conda\\envs\\dataScience\\lib\\site-packages\\tqdm\\auto.py:22: TqdmWarning: IProgress not found. Please update jupyter and ipywidgets. See https://ipywidgets.readthedocs.io/en/stable/user_install.html\n",
      "  from .autonotebook import tqdm as notebook_tqdm\n"
     ]
    }
   ],
   "source": [
    "import tensorflow as tf\n",
    "import pandas as pd\n",
    "import numpy as np\n",
    "import matplotlib.pyplot as plt\n",
    "import snscrape.modules.twitter as sntwitter\n",
    "import re\n",
    "import flair"
   ]
  },
  {
   "cell_type": "code",
   "execution_count": 2,
   "metadata": {},
   "outputs": [
    {
     "name": "stdout",
     "output_type": "stream",
     "text": [
      "2022-05-03 00:03:45,350 loading file C:\\Users\\007ra\\.flair\\models\\sentiment-en-mix-distillbert_4.pt\n"
     ]
    }
   ],
   "source": [
    "sentiment_model = flair.models.TextClassifier.load('en-sentiment')"
   ]
  },
  {
   "cell_type": "code",
   "execution_count": 3,
   "metadata": {},
   "outputs": [],
   "source": [
    "def cleanText(text):\n",
    "    whitespace = re.compile(r\"\\s+\")\n",
    "    web_address = re.compile(r\"(?i)http(s):\\/\\/[a-z0-9.~_\\-\\/]+\")\n",
    "    user = re.compile(r\"(?i)@[a-z0-9_]+\")\n",
    "    text = whitespace.sub(' ', text)\n",
    "    text = web_address.sub('', text)\n",
    "    text = user.sub('', text)\n",
    "    text = re.sub(r\"(?:@\\S*|#\\S*|http(?=.*://)\\S*)\", \"\", text)\n",
    "    return text"
   ]
  },
  {
   "cell_type": "code",
   "execution_count": 4,
   "metadata": {},
   "outputs": [
    {
     "name": "stdout",
     "output_type": "stream",
     "text": [
      "           Day  Price\n",
      "6200  20210813   3.95\n",
      "6201  20210816   3.93\n",
      "6202  20210817   3.92\n",
      "6203  20210818   3.86\n",
      "6204  20210819   3.83\n",
      "6205  20210820   3.94\n",
      "6206  20210823   3.93\n",
      "6207  20210824   3.95\n",
      "6208  20210825   4.03\n",
      "6209  20210826   4.07\n",
      "6210  20210827   4.35\n",
      "6211  20210830   4.25\n",
      "6212  20210831   4.33\n",
      "6213  20210901   4.45\n",
      "6214  20210902   4.65\n",
      "6215  20210903   4.77\n",
      "6216  20210907   4.71\n",
      "6217  20210908   4.66\n",
      "6218  20210909   4.97\n",
      "6219  20210910   5.13\n",
      "6220  20210913   5.21\n",
      "6221  20210914   5.39\n",
      "6222  20210915   5.66\n",
      "6223  20210916   5.52\n",
      "6224  20210917   5.32\n",
      "6225  20210920   5.25\n",
      "6226  20210921   4.96\n",
      "6227  20210922   4.92\n",
      "6228  20210923   4.94\n",
      "6229  20210924   5.10\n",
      "6230  20210927   5.53\n",
      "6231  20210928   5.94\n",
      "6232  20210929   5.73\n",
      "6233  20210930   5.58\n",
      "6234  20211001   5.61\n",
      "6235  20211004   5.80\n",
      "6236  20211005   6.37\n",
      "6237  20211006   6.00\n",
      "6238  20211007   5.71\n",
      "6239  20211008   5.46\n",
      "6240  20211011   5.46\n",
      "6241  20211012   5.34\n",
      "6242  20211013   5.56\n",
      "6243  20211014   5.92\n",
      "6244  20211015   5.44\n",
      "6245  20211018   5.01\n",
      "6246  20211019   4.81\n",
      "6247  20211020   4.87\n",
      "6248  20211021   4.94\n",
      "6249  20211022   5.10\n"
     ]
    }
   ],
   "source": [
    "dataFrame = pd.read_csv('./data/daily.csv')\n",
    "dataFrame = dataFrame[6200:6250]\n",
    "print(dataFrame)"
   ]
  },
  {
   "cell_type": "code",
   "execution_count": 30,
   "metadata": {},
   "outputs": [
    {
     "data": {
      "text/plain": [
       "Sentence: \"gas prices are going to decrease\" → NEGATIVE (0.933)"
      ]
     },
     "execution_count": 30,
     "metadata": {},
     "output_type": "execute_result"
    }
   ],
   "source": [
    "sentence = flair.data.Sentence('gas prices are going to decrease')\n",
    "sentiment_model.predict(sentence)\n",
    "sentence"
   ]
  },
  {
   "cell_type": "code",
   "execution_count": 31,
   "metadata": {},
   "outputs": [
    {
     "data": {
      "text/plain": [
       "Sentence: \"gas prices are going to increase\" → POSITIVE (0.9485)"
      ]
     },
     "execution_count": 31,
     "metadata": {},
     "output_type": "execute_result"
    }
   ],
   "source": [
    "sentence = flair.data.Sentence('gas prices are going to increase')\n",
    "sentiment_model.predict(sentence)\n",
    "sentence"
   ]
  },
  {
   "cell_type": "code",
   "execution_count": 20,
   "metadata": {},
   "outputs": [
    {
     "name": "stdout",
     "output_type": "stream",
     "text": [
      "checking for 2021-08-16 The sentiment is -0.1250334823573077\n",
      "checking for 2021-08-17 The sentiment is -0.19093084776843036\n",
      "checking for 2021-08-18 The sentiment is -0.18198450406392416\n",
      "checking for 2021-08-19 The sentiment is -0.38432481112303557\n",
      "checking for 2021-08-20 The sentiment is -0.055625820601428\n",
      "checking for 2021-08-23 The sentiment is -0.12582746037730463\n",
      "checking for 2021-08-24 The sentiment is -0.31518918055075185\n",
      "checking for 2021-08-25 The sentiment is -0.3012642948715775\n",
      "checking for 2021-08-26 The sentiment is -0.20499659688384445\n",
      "checking for 2021-08-27 The sentiment is -0.3646187804363392\n",
      "checking for 2021-08-30 The sentiment is -0.3425274336779559\n",
      "checking for 2021-08-31 The sentiment is -0.12381823195351495\n",
      "checking for 2021-09-01 The sentiment is 0.07221037370187265\n",
      "checking for 2021-09-02 The sentiment is -0.35201051941624395\n",
      "checking for 2021-09-03 The sentiment is -0.08839624457889134\n",
      "checking for 2021-09-07 The sentiment is 0.015414608849419488\n",
      "checking for 2021-09-08 The sentiment is -0.4982404753013893\n",
      "checking for 2021-09-09 The sentiment is -0.637899308292954\n",
      "checking for 2021-09-10 The sentiment is -0.35647589189034923\n",
      "checking for 2021-09-13 The sentiment is -0.15618613251933344\n",
      "checking for 2021-09-14 The sentiment is -0.37225410011079574\n",
      "checking for 2021-09-15 The sentiment is -0.32664293271523936\n",
      "checking for 2021-09-16 The sentiment is -0.3923998850363272\n",
      "checking for 2021-09-17 The sentiment is -0.21480516813419484\n",
      "checking for 2021-09-20 The sentiment is -0.45538515956313524\n",
      "checking for 2021-09-21 The sentiment is -0.291483188116992\n",
      "checking for 2021-09-22 The sentiment is -0.14697488149007162\n",
      "checking for 2021-09-23 The sentiment is -0.5215815703074137\n",
      "checking for 2021-09-24 The sentiment is -0.2105926231101707\n",
      "checking for 2021-09-27 The sentiment is -0.27012817285679\n",
      "checking for 2021-09-28 The sentiment is -0.21233727976127906\n",
      "checking for 2021-09-29 The sentiment is -0.576200869348314\n",
      "checking for 2021-09-30 The sentiment is -0.5055682703300759\n",
      "checking for 2021-10-01 The sentiment is -0.3174996398113392\n",
      "checking for 2021-10-04 The sentiment is -0.24749939750742028\n",
      "checking for 2021-10-05 The sentiment is -0.4236000445153978\n",
      "checking for 2021-10-06 The sentiment is -0.5146608507191693\n",
      "checking for 2021-10-07 The sentiment is -0.21016179190741646\n",
      "checking for 2021-10-08 The sentiment is -0.15818272917358964\n",
      "checking for 2021-10-11 The sentiment is 0.07125481190504851\n",
      "checking for 2021-10-12 The sentiment is -0.30238978068033856\n",
      "checking for 2021-10-13 The sentiment is -0.5169382603080185\n",
      "checking for 2021-10-14 The sentiment is -0.4810590699866966\n",
      "checking for 2021-10-15 The sentiment is -0.3334089716275533\n",
      "checking for 2021-10-18 The sentiment is -0.43178522807580455\n",
      "checking for 2021-10-19 The sentiment is -0.2997714259006359\n",
      "checking for 2021-10-20 The sentiment is -0.3784956865840488\n",
      "checking for 2021-10-21 The sentiment is -0.5055118666754829\n",
      "checking for 2021-10-22 The sentiment is -0.3387136768411707\n"
     ]
    }
   ],
   "source": [
    "data = {}\n",
    "MAX_TWEETS = 25\n",
    "\n",
    "\n",
    "for n in range (1, len(dataFrame['Day'])):\n",
    "    PREV = str(list(dataFrame.Day)[n-1])[:4]+'-'+str(list(dataFrame.Day)[n-1])[4:6]+'-'+str(list(dataFrame.Day)[n-1])[6:]\n",
    "    PRES = str(list(dataFrame.Day)[n])[:4]+'-'+str(list(dataFrame.Day)[n])[4:6]+'-'+str(list(dataFrame.Day)[n])[6:]\n",
    "    QUERY = f\"natural gas (natural OR gas OR import OR export OR price) until:{PRES} since:{PREV} -filter:links -filter:replies\"\n",
    "    print(f'checking for {PREV} - {PRES}', end = ' ')\n",
    "    curr = 0.0\n",
    "    nums = 0\n",
    "    for i, tweet in enumerate(sntwitter.TwitterSearchScraper(QUERY).get_items()):\n",
    "        nums += 1\n",
    "        if i>MAX_TWEETS:\n",
    "            break\n",
    "        sentence = flair.data.Sentence(cleanText(tweet.content))\n",
    "        sentiment_model.predict(sentence)\n",
    "        try:\n",
    "            if(sentence.labels[0].value == 'POSITIVE'):\n",
    "                curr += sentence.labels[0].score\n",
    "            elif(sentence.labels[0].value == 'NEGATIVE'):\n",
    "                curr -= sentence.labels[0].score\n",
    "            else:\n",
    "                print(f'The sentiment is {sentence.labels[0].value}')\n",
    "        except:\n",
    "            pass\n",
    "    print(f\"The sentiment is {curr/nums}\")\n",
    "    dataFrame.loc[dataFrame.Price == list(dataFrame['Price'])[n], 'Sentiment'] = curr/nums\n",
    "    data[PRES] = curr/nums"
   ]
  },
  {
   "cell_type": "code",
   "execution_count": 21,
   "metadata": {},
   "outputs": [
    {
     "name": "stdout",
     "output_type": "stream",
     "text": [
      "           Day  Price  Sentiment\n",
      "6200  20210813   3.95  -0.315189\n",
      "6201  20210816   3.93  -0.125827\n",
      "6202  20210817   3.92  -0.190931\n",
      "6203  20210818   3.86  -0.181985\n",
      "6204  20210819   3.83  -0.384325\n",
      "6205  20210820   3.94  -0.055626\n",
      "6206  20210823   3.93  -0.125827\n",
      "6207  20210824   3.95  -0.315189\n",
      "6208  20210825   4.03  -0.301264\n",
      "6209  20210826   4.07  -0.204997\n",
      "6210  20210827   4.35  -0.364619\n",
      "6211  20210830   4.25  -0.342527\n",
      "6212  20210831   4.33  -0.123818\n",
      "6213  20210901   4.45   0.072210\n",
      "6214  20210902   4.65  -0.352011\n",
      "6215  20210903   4.77  -0.088396\n",
      "6216  20210907   4.71   0.015415\n",
      "6217  20210908   4.66  -0.498240\n",
      "6218  20210909   4.97  -0.637899\n",
      "6219  20210910   5.13  -0.356476\n",
      "6220  20210913   5.21  -0.156186\n",
      "6221  20210914   5.39  -0.372254\n",
      "6222  20210915   5.66  -0.326643\n",
      "6223  20210916   5.52  -0.392400\n",
      "6224  20210917   5.32  -0.214805\n",
      "6225  20210920   5.25  -0.455385\n",
      "6226  20210921   4.96  -0.291483\n",
      "6227  20210922   4.92  -0.146975\n",
      "6228  20210923   4.94  -0.505512\n",
      "6229  20210924   5.10  -0.338714\n",
      "6230  20210927   5.53  -0.270128\n",
      "6231  20210928   5.94  -0.212337\n",
      "6232  20210929   5.73  -0.576201\n",
      "6233  20210930   5.58  -0.505568\n",
      "6234  20211001   5.61  -0.317500\n",
      "6235  20211004   5.80  -0.247499\n",
      "6236  20211005   6.37  -0.423600\n",
      "6237  20211006   6.00  -0.514661\n",
      "6238  20211007   5.71  -0.210162\n",
      "6239  20211008   5.46   0.071255\n",
      "6240  20211011   5.46   0.071255\n",
      "6241  20211012   5.34  -0.302390\n",
      "6242  20211013   5.56  -0.516938\n",
      "6243  20211014   5.92  -0.481059\n",
      "6244  20211015   5.44  -0.333409\n",
      "6245  20211018   5.01  -0.431785\n",
      "6246  20211019   4.81  -0.299771\n",
      "6247  20211020   4.87  -0.378496\n",
      "6248  20211021   4.94  -0.505512\n",
      "6249  20211022   5.10  -0.338714\n"
     ]
    }
   ],
   "source": [
    "print(dataFrame)"
   ]
  },
  {
   "cell_type": "code",
   "execution_count": 23,
   "metadata": {},
   "outputs": [
    {
     "data": {
      "image/png": "[encoded data removed]",
      "text/plain": [
       "<Figure size 864x432 with 1 Axes>"
      ]
     },
     "metadata": {
      "needs_background": "light"
     },
     "output_type": "display_data"
    }
   ],
   "source": [
    "avg = sum(list(dataFrame.Price))/len(list(dataFrame.Price))\n",
    "sen = list(dataFrame.Sentiment)\n",
    "price = list(dataFrame.Price)\n",
    "for i in range (len(sen)):\n",
    "    sen[i] = -(sen[i]*avg)+3.2\n",
    "plt.figure(figsize=(12, 6))\n",
    "l1 = plt.plot(sen, lw = 2, color='red', alpha=0.5, linestyle='dashed')\n",
    "l2 = plt.plot(price, lw = 5, color='blue', alpha=0.5)\n",
    "plt.title('Sentiment VS Price')\n",
    "plt.show()"
   ]
  }
 ],
 "metadata": {
  "interpreter": {
   "hash": "e38c6d658e3c4e97a4d48d96dcbbb50367a88e38ba291af5da90eb5fcad12b1b"
  },
  "kernelspec": {
   "display_name": "Python 3.9.12 ('dataScience')",
   "language": "python",
   "name": "python3"
  },
  "language_info": {
   "codemirror_mode": {
    "name": "ipython",
    "version": 3
   },
   "file_extension": ".py",
   "mimetype": "text/x-python",
   "name": "python",
   "nbconvert_exporter": "python",
   "pygments_lexer": "ipython3",
   "version": "3.9.12"
  },
  "orig_nbformat": 4
 },
 "nbformat": 4,
 "nbformat_minor": 2
}
