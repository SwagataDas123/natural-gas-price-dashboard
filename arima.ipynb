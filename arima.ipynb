{
 "cells": [
  {
   "cell_type": "code",
   "execution_count": 20,
   "metadata": {},
   "outputs": [],
   "source": [
    "import numpy as np\n",
    "import pandas as pd\n",
    "import matplotlib.pyplot as plt\n",
    "from scipy import stats\n",
    "from keras.metrics import MAE"
   ]
  },
  {
   "cell_type": "code",
   "execution_count": 21,
   "metadata": {},
   "outputs": [],
   "source": [
    "def lag_view(x, order):\n",
    "    \"\"\"\n",
    "    For every value X_i create a row that lags k values: [X_i-1, X_i-2, ... X_i-k]\n",
    "    \"\"\"\n",
    "    y = x.copy()\n",
    "    # Create features by shifting the window of `order` size by one step.\n",
    "    # This results in a 2D array [[t1, t2, t3], [t2, t3, t4], ... [t_k-2, t_k-1, t_k]]\n",
    "    x = np.array([y[-(i + order):][:order] for i in range(y.shape[0])])\n",
    "    \n",
    "    # Reverse the array as we started at the end and remove duplicates.\n",
    "    # Note that we truncate the features [order -1:] and the labels [order]\n",
    "    # This is the shifting of the features with one time step compared to the labels\n",
    "    x = np.stack(x)[::-1][order - 1: -1]\n",
    "    y = y[order:]\n",
    "\n",
    "    return x, y"
   ]
  },
  {
   "cell_type": "code",
   "execution_count": 22,
   "metadata": {},
   "outputs": [],
   "source": [
    "def ma_process(eps, theta):\n",
    "    \"\"\"\n",
    "    Creates an MA(q) process with a zero mean (mean not included in implementation).\n",
    "    :param eps: (array) White noise signal.\n",
    "    :param theta: (array/ list) Parameters of the process.\n",
    "    \"\"\"\n",
    "    # reverse the order of theta as Xt, Xt-1, Xt-k in an array is Xt-k, Xt-1, Xt.\n",
    "    theta = np.array([1] + list(theta))[::-1][:, None]\n",
    "    eps_q, _ = lag_view(eps, len(theta))\n",
    "    return eps_q @ theta"
   ]
  },
  {
   "cell_type": "code",
   "execution_count": 23,
   "metadata": {},
   "outputs": [],
   "source": [
    "def pearson_correlation(x, y):\n",
    "    return np.mean((x - x.mean()) * (y - y.mean())) / (x.std() * y.std())\n",
    "\n",
    "def acf(x, lag=40):\n",
    "    \"\"\"\n",
    "    Determine autocorrelation factors.\n",
    "    :param x: (array) Time series.\n",
    "    :param lag: (int) Number of lags.\n",
    "    \"\"\"\n",
    "    return np.array([1] + [pearson_correlation(x[:-i], x[i:]) for i in range(1, lag)])"
   ]
  },
  {
   "cell_type": "code",
   "execution_count": 24,
   "metadata": {},
   "outputs": [],
   "source": [
    "def bartletts_formula(acf_array, n):\n",
    "    \"\"\"\n",
    "    Computes the Standard Error of an acf with Bartlet's formula\n",
    "    Read more at: https://en.wikipedia.org/wiki/Correlogram\n",
    "    :param acf_array: (array) Containing autocorrelation factors\n",
    "    :param n: (int) Length of original time series sequence.\n",
    "    \"\"\"\n",
    "    # The first value has autocorrelation with it self. So that values is skipped\n",
    "    se = np.zeros(len(acf_array) - 1)\n",
    "    se[0] = 1 / np.sqrt(n)\n",
    "    se[1:] = np.sqrt((1 + 2 * np.cumsum(acf_array[1:-1]**2)) / n )\n",
    "    return se\n",
    "\n",
    "\n",
    "def plot_acf(x, alpha=0.05, lag=40):\n",
    "    \"\"\"\n",
    "    :param x: (array)\n",
    "    :param alpha: (flt) Statistical significance for confidence interval.\n",
    "    :parm lag: (int)\n",
    "    \"\"\"\n",
    "    acf_val = acf(x, lag)\n",
    "    plt.figure(figsize=(16, 4))\n",
    "    plt.vlines(np.arange(lag), 0, acf_val)\n",
    "    plt.scatter(np.arange(lag), acf_val, marker='o')\n",
    "    plt.xlabel('lag')\n",
    "    plt.ylabel('autocorrelation')\n",
    "    \n",
    "    # Determine confidence interval\n",
    "    ci = stats.norm.ppf(1 - alpha / 2.) * bartletts_formula(acf_val, len(x))\n",
    "    plt.fill_between(np.arange(1, ci.shape[0] + 1), -ci, ci, alpha=0.25)"
   ]
  },
  {
   "cell_type": "code",
   "execution_count": 25,
   "metadata": {},
   "outputs": [],
   "source": [
    "def ar_process(eps, phi):\n",
    "    \"\"\"\n",
    "    Creates a AR process with a zero mean.\n",
    "    \"\"\"\n",
    "    # Reverse the order of phi and add a 1 for current eps_t\n",
    "    phi = np.r_[1, phi][::-1] \n",
    "    ar = eps.copy()\n",
    "    offset = len(phi)\n",
    "    for i in range(offset, ar.shape[0]):\n",
    "        ar[i - 1] = ar[i - offset: i] @ phi\n",
    "    return ar"
   ]
  },
  {
   "cell_type": "code",
   "execution_count": 26,
   "metadata": {},
   "outputs": [],
   "source": [
    "def least_squares(x, y):\n",
    "    return np.linalg.inv((x.T @ x)) @ (x.T @ y)\n",
    "\n",
    "class LinearModel:\n",
    "    def __init__(self, fit_intercept=True):\n",
    "        self.fit_intercept = fit_intercept\n",
    "        self.beta = None\n",
    "        self.intercept_ = None\n",
    "        self.coef_ = None\n",
    "    \n",
    "    def _prepare_features(self, x):\n",
    "        if self.fit_intercept:\n",
    "            x = np.hstack((np.ones((x.shape[0], 1)), x))\n",
    "        return x\n",
    "    \n",
    "    def fit(self, x, y):\n",
    "        x = self._prepare_features(x)\n",
    "        self.beta = least_squares(x, y)\n",
    "        if self.fit_intercept:\n",
    "            self.intercept_ = self.beta[0]\n",
    "            self.coef_ = self.beta[1:]\n",
    "        else:\n",
    "            self.coef_ = self.beta\n",
    "        \n",
    "    def predict(self, x):\n",
    "        x = self._prepare_features(x)\n",
    "        return x @ self.beta\n",
    "    \n",
    "    def fit_predict(self, x, y):\n",
    "        self.fit(x, y)\n",
    "        return self.predict(x)"
   ]
  },
  {
   "cell_type": "code",
   "execution_count": 27,
   "metadata": {},
   "outputs": [],
   "source": [
    "def pacf(x, lag=40):\n",
    "    \"\"\"\n",
    "    Partial autocorrelation function.\n",
    "    \n",
    "    pacf results in:\n",
    "        [1, acf_lag_1, pacf_lag_2, pacf_lag_3]\n",
    "    :param x: (array)\n",
    "    :param lag: (int)\n",
    "    \"\"\"\n",
    "    y = []\n",
    "    \n",
    "    # Partial auto correlation needs intermediate terms.\n",
    "    # Therefore we start at index 3\n",
    "    for i in range(3, lag + 2):\n",
    "        backshifted = lag_view(x, i)[0]\n",
    "\n",
    "        xt = backshifted[:, 0]\n",
    "        feat = backshifted[:, 1:-1]\n",
    "        xt_hat = LinearModel(fit_intercept=False).fit_predict(feat, xt)\n",
    "\n",
    "        xt_k = backshifted[:, -1]\n",
    "        xt_k_hat = LinearModel(fit_intercept=False).fit_predict(feat, xt_k)\n",
    "\n",
    "        y.append(pearson_correlation(xt - xt_hat, xt_k - xt_k_hat))\n",
    "    return np.array([1, acf(x, 2)[1]] +  y)\n",
    "\n",
    "def plot_pacf(x, alpha=0.05, lag=40, title=None):\n",
    "    \"\"\"\n",
    "    :param x: (array)\n",
    "    :param alpha: (flt) Statistical significance for confidence interval.\n",
    "    :parm lag: (int)\n",
    "    \"\"\"\n",
    "    pacf_val = pacf(x, lag)\n",
    "    plt.figure(figsize=(16, 4))\n",
    "    plt.vlines(np.arange(lag + 1), 0, pacf_val)\n",
    "    plt.scatter(np.arange(lag + 1), pacf_val, marker='o')\n",
    "    plt.xlabel('lag')\n",
    "    plt.ylabel('autocorrelation')\n",
    "    \n",
    "    # Determine confidence interval\n",
    "    ci = stats.norm.ppf(1 - alpha / 2.) * bartletts_formula(pacf_val, len(x))\n",
    "    plt.fill_between(np.arange(1, ci.shape[0] + 1), -ci, ci, alpha=0.25)"
   ]
  },
  {
   "cell_type": "code",
   "execution_count": 28,
   "metadata": {},
   "outputs": [],
   "source": [
    "def difference(x, d=1):\n",
    "    if d == 0:\n",
    "        return x\n",
    "    else:\n",
    "        x = np.r_[x[0], np.diff(x)]\n",
    "        return difference(x, d - 1)\n",
    "    \n",
    "def undo_difference(x, d=1):\n",
    "    if d == 1:\n",
    "        return np.cumsum(x)\n",
    "    else:\n",
    "        x = np.cumsum(x)\n",
    "        return undo_difference(x, d - 1)"
   ]
  },
  {
   "cell_type": "code",
   "execution_count": 29,
   "metadata": {},
   "outputs": [],
   "source": [
    "class ARIMA(LinearModel):\n",
    "    def __init__(self, q, d, p):\n",
    "        \"\"\"\n",
    "        An ARIMA model.\n",
    "        :param q: (int) Order of the MA model.\n",
    "        :param p: (int) Order of the AR model.\n",
    "        :param d: (int) Number of times the data needs to be differenced.\n",
    "        \"\"\"\n",
    "        super().__init__(True)\n",
    "        self.p = p\n",
    "        self.d = d\n",
    "        self.q = q\n",
    "        self.ar = None\n",
    "        self.resid = None\n",
    "        \n",
    "    def prepare_features(self, x):\n",
    "        if self.d > 0:\n",
    "            x = difference(x, self.d)\n",
    "                    \n",
    "        ar_features = None\n",
    "        ma_features = None\n",
    "        \n",
    "        # Determine the features and the epsilon terms for the MA process\n",
    "        if self.q > 0:\n",
    "            if self.ar is None:\n",
    "                self.ar = ARIMA(0, 0, self.p)\n",
    "                self.ar.fit_predict(x)\n",
    "            eps = self.ar.resid\n",
    "            eps[0] = 0\n",
    "            \n",
    "            # prepend with zeros as there are no residuals_t-k in the first X_t\n",
    "            ma_features, _ = lag_view(np.r_[np.zeros(self.q), eps], self.q)\n",
    "            \n",
    "        # Determine the features for the AR process\n",
    "        if self.p > 0:\n",
    "            # prepend with zeros as there are no X_t-k in the first X_t\n",
    "            ar_features = lag_view(np.r_[np.zeros(self.p), x], self.p)[0]\n",
    "                                \n",
    "        if ar_features is not None and ma_features is not None:\n",
    "            n = min(len(ar_features), len(ma_features)) \n",
    "            ar_features = ar_features[:n]\n",
    "            ma_features = ma_features[:n]\n",
    "            features = np.hstack((ar_features, ma_features))\n",
    "        elif ma_features is not None: \n",
    "            n = len(ma_features)\n",
    "            features = ma_features[:n]\n",
    "        else:\n",
    "            n = len(ar_features)\n",
    "            features = ar_features[:n]\n",
    "        \n",
    "        return features, x[:n]\n",
    "    \n",
    "    def fit(self, x):\n",
    "        features, x = self.prepare_features(x)\n",
    "        super().fit(features, x)\n",
    "        return features\n",
    "            \n",
    "    def fit_predict(self, x): \n",
    "        \"\"\"\n",
    "        Fit and transform input\n",
    "        :param x: (array) with time series.\n",
    "        \"\"\"\n",
    "        features = self.fit(x)\n",
    "        return self.predict(x, prepared=(features))\n",
    "    \n",
    "    def predict(self, x, **kwargs):\n",
    "        \"\"\"\n",
    "        :param x: (array)\n",
    "        :kwargs:\n",
    "            prepared: (tpl) containing the features, eps and x\n",
    "        \"\"\"\n",
    "        features = kwargs.get('prepared', None)\n",
    "        if features is None:\n",
    "            features, x = self.prepare_features(x)\n",
    "        \n",
    "        y = super().predict(features)\n",
    "        self.resid = x - y\n",
    "\n",
    "        return self.return_output(y)\n",
    "    \n",
    "    def return_output(self, x):\n",
    "        if self.d > 0:\n",
    "            x = undo_difference(x, self.d) \n",
    "        return x\n",
    "    \n",
    "    def forecast(self, x, n):\n",
    "        \"\"\"\n",
    "        Forecast the time series.\n",
    "        \n",
    "        :param x: (array) Current time steps.\n",
    "        :param n: (int) Number of time steps in the future.\n",
    "        \"\"\"\n",
    "        features, x = self.prepare_features(x)\n",
    "        y = super().predict(features)\n",
    "        \n",
    "        # Append n time steps as zeros. Because the epsilon terms are unknown\n",
    "        y = np.r_[y, np.zeros(n)]\n",
    "        for i in range(n):\n",
    "            feat = np.r_[y[-(self.p + n) + i: -n + i], np.zeros(self.q)]\n",
    "            y[x.shape[0] + i] = super().predict(feat[None, :])\n",
    "        return self.return_output(y)"
   ]
  },
  {
   "cell_type": "code",
   "execution_count": 52,
   "metadata": {},
   "outputs": [
    {
     "data": {
      "text/html": [
       "<div>\n",
       "<style scoped>\n",
       "    .dataframe tbody tr th:only-of-type {\n",
       "        vertical-align: middle;\n",
       "    }\n",
       "\n",
       "    .dataframe tbody tr th {\n",
       "        vertical-align: top;\n",
       "    }\n",
       "\n",
       "    .dataframe thead th {\n",
       "        text-align: right;\n",
       "    }\n",
       "</style>\n",
       "<table border=\"1\" class=\"dataframe\">\n",
       "  <thead>\n",
       "    <tr style=\"text-align: right;\">\n",
       "      <th></th>\n",
       "      <th>Day</th>\n",
       "      <th>Price</th>\n",
       "    </tr>\n",
       "  </thead>\n",
       "  <tbody>\n",
       "    <tr>\n",
       "      <th>0</th>\n",
       "      <td>19970107</td>\n",
       "      <td>3.82</td>\n",
       "    </tr>\n",
       "    <tr>\n",
       "      <th>1</th>\n",
       "      <td>19970108</td>\n",
       "      <td>3.80</td>\n",
       "    </tr>\n",
       "    <tr>\n",
       "      <th>2</th>\n",
       "      <td>19970109</td>\n",
       "      <td>3.61</td>\n",
       "    </tr>\n",
       "    <tr>\n",
       "      <th>3</th>\n",
       "      <td>19970110</td>\n",
       "      <td>3.92</td>\n",
       "    </tr>\n",
       "    <tr>\n",
       "      <th>4</th>\n",
       "      <td>19970113</td>\n",
       "      <td>4.00</td>\n",
       "    </tr>\n",
       "  </tbody>\n",
       "</table>\n",
       "</div>"
      ],
      "text/plain": [
       "        Day  Price\n",
       "0  19970107   3.82\n",
       "1  19970108   3.80\n",
       "2  19970109   3.61\n",
       "3  19970110   3.92\n",
       "4  19970113   4.00"
      ]
     },
     "execution_count": 52,
     "metadata": {},
     "output_type": "execute_result"
    }
   ],
   "source": [
    "data = pd.read_csv('./data/daily.csv')\n",
    "data.head()"
   ]
  },
  {
   "cell_type": "code",
   "execution_count": 31,
   "metadata": {},
   "outputs": [
    {
     "data": {
      "image/png": "[encoded data removed]",
      "text/plain": [
       "<Figure size 1152x288 with 1 Axes>"
      ]
     },
     "metadata": {
      "needs_background": "light"
     },
     "output_type": "display_data"
    }
   ],
   "source": [
    "plot_acf(data.Price)"
   ]
  },
  {
   "cell_type": "code",
   "execution_count": 54,
   "metadata": {},
   "outputs": [
    {
     "data": {
      "image/png": "[encoded data removed]",
      "text/plain": [
       "<Figure size 1152x576 with 1 Axes>"
      ]
     },
     "metadata": {
      "needs_background": "light"
     },
     "output_type": "display_data"
    }
   ],
   "source": [
    "q = 1\n",
    "d = 0\n",
    "p = 3\n",
    "\n",
    "y = data.Price[:6100]\n",
    "data.reset_index(inplace = True)\n",
    "x = data.Price[6100:]\n",
    "m = ARIMA(q, d, p)\n",
    "m.fit(y)\n",
    "\n",
    "pred = m.forecast(x, n=280)\n",
    "\n",
    "plt.figure(figsize=(16, 8))\n",
    "# res = pd.DataFrame(data={'Actual': x, 'Prediction': pred})\n",
    "plt.plot(pred)\n",
    "plt.show()"
   ]
  },
  {
   "cell_type": "code",
   "execution_count": 37,
   "metadata": {},
   "outputs": [
    {
     "data": {
      "text/html": [
       "<div>\n",
       "<style scoped>\n",
       "    .dataframe tbody tr th:only-of-type {\n",
       "        vertical-align: middle;\n",
       "    }\n",
       "\n",
       "    .dataframe tbody tr th {\n",
       "        vertical-align: top;\n",
       "    }\n",
       "\n",
       "    .dataframe thead th {\n",
       "        text-align: right;\n",
       "    }\n",
       "</style>\n",
       "<table border=\"1\" class=\"dataframe\">\n",
       "  <thead>\n",
       "    <tr style=\"text-align: right;\">\n",
       "      <th></th>\n",
       "      <th>Actual</th>\n",
       "      <th>Prediction</th>\n",
       "    </tr>\n",
       "  </thead>\n",
       "  <tbody>\n",
       "    <tr>\n",
       "      <th>6102</th>\n",
       "      <td>2.58</td>\n",
       "      <td>0.043323</td>\n",
       "    </tr>\n",
       "    <tr>\n",
       "      <th>6103</th>\n",
       "      <td>2.55</td>\n",
       "      <td>2.553246</td>\n",
       "    </tr>\n",
       "    <tr>\n",
       "      <th>6104</th>\n",
       "      <td>2.52</td>\n",
       "      <td>1.986901</td>\n",
       "    </tr>\n",
       "    <tr>\n",
       "      <th>6105</th>\n",
       "      <td>2.52</td>\n",
       "      <td>2.496404</td>\n",
       "    </tr>\n",
       "    <tr>\n",
       "      <th>6106</th>\n",
       "      <td>2.43</td>\n",
       "      <td>2.522909</td>\n",
       "    </tr>\n",
       "  </tbody>\n",
       "</table>\n",
       "</div>"
      ],
      "text/plain": [
       "      Actual  Prediction\n",
       "6102    2.58    0.043323\n",
       "6103    2.55    2.553246\n",
       "6104    2.52    1.986901\n",
       "6105    2.52    2.496404\n",
       "6106    2.43    2.522909"
      ]
     },
     "execution_count": 37,
     "metadata": {},
     "output_type": "execute_result"
    }
   ],
   "source": [
    "res.head()"
   ]
  },
  {
   "cell_type": "code",
   "execution_count": 38,
   "metadata": {},
   "outputs": [],
   "source": [
    "def smape(A, F):\n",
    "    return 100/len(A) * np.sum(2 * np.abs(F - A) / (np.abs(A) + np.abs(F)))"
   ]
  },
  {
   "cell_type": "code",
   "execution_count": 40,
   "metadata": {},
   "outputs": [
    {
     "data": {
      "text/plain": [
       "(3.203267888287358,\n",
       " <tf.Tensor: shape=(), dtype=float64, numpy=0.14919213549814733>)"
      ]
     },
     "execution_count": 40,
     "metadata": {},
     "output_type": "execute_result"
    }
   ],
   "source": [
    "(smape(x[3:], pred[3:]), MAE(x[3:], pred[3:]))"
   ]
  }
 ],
 "metadata": {
  "interpreter": {
   "hash": "e38c6d658e3c4e97a4d48d96dcbbb50367a88e38ba291af5da90eb5fcad12b1b"
  },
  "kernelspec": {
   "display_name": "Python 3.9.12 ('dataScience')",
   "language": "python",
   "name": "python3"
  },
  "language_info": {
   "codemirror_mode": {
    "name": "ipython",
    "version": 3
   },
   "file_extension": ".py",
   "mimetype": "text/x-python",
   "name": "python",
   "nbconvert_exporter": "python",
   "pygments_lexer": "ipython3",
   "version": "3.9.12"
  },
  "orig_nbformat": 4
 },
 "nbformat": 4,
 "nbformat_minor": 2
}
