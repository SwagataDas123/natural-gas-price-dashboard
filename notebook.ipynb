{
 "cells": [
  {
   "cell_type": "markdown",
   "metadata": {},
   "source": [
    "Importing The Dependencies"
   ]
  },
  {
   "cell_type": "code",
   "execution_count": 1,
   "metadata": {},
   "outputs": [],
   "source": [
    "import tensorflow as tf\n",
    "import pandas as pd\n",
    "import matplotlib.pyplot as plt\n",
    "import numpy as np\n",
    "import datetime as dt\n",
    "from sklearn.preprocessing import MinMaxScaler\n",
    "tf.__version__\n",
    "tf.random.set_seed(3)"
   ]
  },
  {
   "cell_type": "code",
   "execution_count": 2,
   "metadata": {},
   "outputs": [
    {
     "data": {
      "text/html": [
       "<div>\n",
       "<style scoped>\n",
       "    .dataframe tbody tr th:only-of-type {\n",
       "        vertical-align: middle;\n",
       "    }\n",
       "\n",
       "    .dataframe tbody tr th {\n",
       "        vertical-align: top;\n",
       "    }\n",
       "\n",
       "    .dataframe thead th {\n",
       "        text-align: right;\n",
       "    }\n",
       "</style>\n",
       "<table border=\"1\" class=\"dataframe\">\n",
       "  <thead>\n",
       "    <tr style=\"text-align: right;\">\n",
       "      <th></th>\n",
       "      <th>Day</th>\n",
       "      <th>Price</th>\n",
       "    </tr>\n",
       "  </thead>\n",
       "  <tbody>\n",
       "    <tr>\n",
       "      <th>5695</th>\n",
       "      <td>20190826</td>\n",
       "      <td>2.23</td>\n",
       "    </tr>\n",
       "    <tr>\n",
       "      <th>5696</th>\n",
       "      <td>20190827</td>\n",
       "      <td>2.24</td>\n",
       "    </tr>\n",
       "    <tr>\n",
       "      <th>5697</th>\n",
       "      <td>20190828</td>\n",
       "      <td>2.24</td>\n",
       "    </tr>\n",
       "    <tr>\n",
       "      <th>5698</th>\n",
       "      <td>20190829</td>\n",
       "      <td>2.36</td>\n",
       "    </tr>\n",
       "    <tr>\n",
       "      <th>5699</th>\n",
       "      <td>20190830</td>\n",
       "      <td>2.33</td>\n",
       "    </tr>\n",
       "  </tbody>\n",
       "</table>\n",
       "</div>"
      ],
      "text/plain": [
       "           Day  Price\n",
       "5695  20190826   2.23\n",
       "5696  20190827   2.24\n",
       "5697  20190828   2.24\n",
       "5698  20190829   2.36\n",
       "5699  20190830   2.33"
      ]
     },
     "execution_count": 2,
     "metadata": {},
     "output_type": "execute_result"
    }
   ],
   "source": [
    "dataDaily = pd.read_csv('daily.csv')\n",
    "dataDaily.head()\n",
    "dataWeekly = pd.read_csv('weekly.csv')\n",
    "dataMonthly = pd.read_csv('monthly.csv')\n",
    "dataMonthly['Day'] = dataMonthly['Day'].astype('datetime64[ns]')\n",
    "dataWeekly['Day'] = dataWeekly['Day'].astype('datetime64[ns]')\n",
    "dataDaily[5000:5700].tail()"
   ]
  },
  {
   "cell_type": "code",
   "execution_count": 3,
   "metadata": {},
   "outputs": [
    {
     "name": "stdout",
     "output_type": "stream",
     "text": [
      "6341\n"
     ]
    }
   ],
   "source": [
    "df = dataMonthly['Price']\n",
    "print(len(dataDaily))"
   ]
  },
  {
   "cell_type": "markdown",
   "metadata": {},
   "source": [
    "EDA:"
   ]
  },
  {
   "cell_type": "code",
   "execution_count": null,
   "metadata": {},
   "outputs": [],
   "source": [
    "from statsmodels.tsa.seasonal import seasonal_decompose\n",
    "\n",
    "dc = seasonal_decompose(df, model='multiplicative')\n",
    "trend = dc.trend\n",
    "seasonality = dc.seasonal\n",
    "residual = dc.resid\n",
    "\n",
    "plt.figure(figsize=(10, 6))\n",
    "plt.grid(True)\n",
    "plt.subplot(411)\n",
    "plt.plot(df, label='Actual Data')\n",
    "plt.legend(loc='best')\n",
    "plt.subplot(412)\n",
    "plt.plot(trend, label='Trend')\n",
    "plt.legend(loc='best')\n",
    "plt.subplot(413)\n",
    "plt.plot(seasonality, label='Seasonality')\n",
    "plt.legend(loc='best')\n",
    "plt.subplot(414)\n",
    "plt.plot(residual, label='Residual')\n",
    "plt.legend(loc='best')"
   ]
  },
  {
   "cell_type": "markdown",
   "metadata": {},
   "source": [
    "Prepping the datasets"
   ]
  },
  {
   "cell_type": "code",
   "execution_count": 4,
   "metadata": {},
   "outputs": [],
   "source": [
    "s1 = MinMaxScaler(feature_range=(0, 1))\n",
    "\n",
    "def dailySets(df, size):\n",
    "  for i in range(len(df)-size):\n",
    "    temp = [[item[0]] for item in df[i:i+size]]\n",
    "    xData.append(temp)\n",
    "    yData.append([df[i+size][0]])\n",
    "\n",
    "def monthlySets(lookback, pred):\n",
    "    dataTrain = dataDaily['Price'].to_numpy()\n",
    "    xData = []\n",
    "    yData = []\n",
    "\n",
    "    for i in range(lookback, len(dataTrain)-lookback):\n",
    "        temp = []\n",
    "        for item in dataTrain[i-lookback:i]:\n",
    "            temp.append([item])\n",
    "        xData.append(temp)\n",
    "        yData.append(dataTrain[i:i+pred])\n",
    "\n",
    "    xData = tf.convert_to_tensor(xData, dtype=tf.float32)\n",
    "    yData = tf.convert_to_tensor(yData, dtype=tf.float32)\n",
    "    xData = s1.fit_transform(tf.reshape(xData, (-1, 1)))\n",
    "    yData = s1.fit_transform(tf.reshape(yData, (-1, 1)))\n",
    "\n",
    "    xData = tf.reshape(xData, (-1, lookback, 1))\n",
    "    yData = tf.reshape(yData, (-1, pred))\n",
    "    return (xData, yData)\n"
   ]
  },
  {
   "cell_type": "markdown",
   "metadata": {},
   "source": [
    "-> LSTM Model:"
   ]
  },
  {
   "cell_type": "markdown",
   "metadata": {},
   "source": [
    "Multi step:"
   ]
  },
  {
   "cell_type": "code",
   "execution_count": 5,
   "metadata": {},
   "outputs": [
    {
     "name": "stdout",
     "output_type": "stream",
     "text": [
      "Model: \"sequential\"\n",
      "_________________________________________________________________\n",
      "Layer (type)                 Output Shape              Param #   \n",
      "=================================================================\n",
      "lstm (LSTM)                  (None, 180, 64)           16896     \n",
      "_________________________________________________________________\n",
      "flatten (Flatten)            (None, 11520)             0         \n",
      "_________________________________________________________________\n",
      "dense (Dense)                (None, 30)                345630    \n",
      "=================================================================\n",
      "Total params: 362,526\n",
      "Trainable params: 362,526\n",
      "Non-trainable params: 0\n",
      "_________________________________________________________________\n"
     ]
    }
   ],
   "source": [
    "model1 = tf.keras.Sequential()\n",
    "model1.add(tf.keras.layers.LSTM(64, input_shape = (180,1), return_sequences = True))\n",
    "model1.add(tf.keras.layers.Flatten())\n",
    "model1.add(tf.keras.layers.Dense(30))\n",
    "model1.compile(loss='mean_squared_error',optimizer=tf.keras.optimizers.Adam(learning_rate=0.0001), metrics=['mse', 'mae', 'mape'])\n",
    "model1.summary()"
   ]
  },
  {
   "cell_type": "code",
   "execution_count": 6,
   "metadata": {},
   "outputs": [
    {
     "name": "stdout",
     "output_type": "stream",
     "text": [
      "(981, 180, 1) (981, 30)\n",
      "Epoch 1/5\n",
      "157/157 [==============================] - 10s 16ms/step - loss: 0.0047 - mse: 0.0047 - mae: 0.0446 - mape: 23.4595\n",
      "Epoch 2/5\n",
      "157/157 [==============================] - 2s 13ms/step - loss: 0.0022 - mse: 0.0022 - mae: 0.0309 - mape: 16.1374\n",
      "Epoch 3/5\n",
      "157/157 [==============================] - 2s 14ms/step - loss: 0.0018 - mse: 0.0018 - mae: 0.0279 - mape: 14.4284\n",
      "Epoch 4/5\n",
      "157/157 [==============================] - 2s 14ms/step - loss: 0.0017 - mse: 0.0017 - mae: 0.0271 - mape: 14.1385\n",
      "Epoch 5/5\n",
      "157/157 [==============================] - 2s 13ms/step - loss: 0.0017 - mse: 0.0017 - mae: 0.0265 - mape: 13.8139\n"
     ]
    }
   ],
   "source": [
    "xData, yData = monthlySets(180, 30)\n",
    "xTrain = xData[:5000]\n",
    "yTrain = yData[:5000]\n",
    "\n",
    "xTest = xData[5000:]\n",
    "yTest = yData[5000:]\n",
    "\n",
    "print(xTest.shape, yTest.shape)\n",
    "\n",
    "model1.fit(xTrain, yTrain, epochs = 5)\n",
    "model1.save('monthlyModelLSTM.h5')"
   ]
  },
  {
   "cell_type": "markdown",
   "metadata": {},
   "source": [
    "Single step:"
   ]
  },
  {
   "cell_type": "code",
   "execution_count": 227,
   "metadata": {},
   "outputs": [],
   "source": [
    "model4 = tf.keras.Sequential()\n",
    "model4.add(tf.keras.layers.LSTM(64, return_sequences=True, input_shape=(100, 1)))\n",
    "model4.add(tf.keras.layers.Flatten())\n",
    "model4.add(tf.keras.layers.Dense(1))\n",
    "model4.compile(loss='mean_squared_error',optimizer=tf.keras.optimizers.Adam(), metrics = ['mse', 'mae', 'mape'])\n",
    "# model4.summary()"
   ]
  },
  {
   "cell_type": "code",
   "execution_count": 228,
   "metadata": {},
   "outputs": [
    {
     "name": "stdout",
     "output_type": "stream",
     "text": [
      "Total Size: 6000\n",
      "Epoch 1/5\n",
      "172/172 [==============================] - 15s 65ms/step - loss: 0.0029 - mse: 0.0029 - mae: 0.0330 - mape: 13.7561\n",
      "Epoch 2/5\n",
      "172/172 [==============================] - 10s 61ms/step - loss: 9.0207e-04 - mse: 9.0207e-04 - mae: 0.0182 - mape: 7.49601s - los\n",
      "Epoch 3/5\n",
      "172/172 [==============================] - 10s 59ms/step - loss: 6.5860e-04 - mse: 6.5860e-04 - mae: 0.0151 - mape: 6.2646\n",
      "Epoch 4/5\n",
      "172/172 [==============================] - 10s 59ms/step - loss: 5.8844e-04 - mse: 5.8844e-04 - mae: 0.0144 - mape: 6.0283\n",
      "Epoch 5/5\n",
      "172/172 [==============================] - 10s 60ms/step - loss: 5.1805e-04 - mse: 5.1805e-04 - mae: 0.0131 - mape: 5.4271\n"
     ]
    }
   ],
   "source": [
    "df = dataDaily['Price'][:6000]                 \n",
    "print(\"Total Size:\", len(df))\n",
    "scaler = MinMaxScaler(feature_range=(0, 1))\n",
    "dfPrice = scaler.fit_transform(np.array(df).reshape(-1, 1))\n",
    "SIZE = 100\n",
    "\n",
    "xData = []\n",
    "yData = []\n",
    "\n",
    "dailySets(dfPrice, SIZE)\n",
    "xTrain = np.array(xData[:5500])\n",
    "yTrain = np.array(yData[:5500])\n",
    "xTest = np.array(xData[5500:])\n",
    "yTest = np.array(yData[5500:])\n",
    "\n",
    "model4.fit(xTrain, yTrain, epochs=5)\n",
    "model4.save('dailyModelLSTM.h5')"
   ]
  },
  {
   "cell_type": "markdown",
   "metadata": {},
   "source": [
    "-> CNN Model:"
   ]
  },
  {
   "cell_type": "markdown",
   "metadata": {},
   "source": [
    "Multi Step:"
   ]
  },
  {
   "cell_type": "code",
   "execution_count": 229,
   "metadata": {},
   "outputs": [
    {
     "name": "stdout",
     "output_type": "stream",
     "text": [
      "Model: \"sequential_56\"\n",
      "_________________________________________________________________\n",
      "Layer (type)                 Output Shape              Param #   \n",
      "=================================================================\n",
      "conv1d_35 (Conv1D)           (None, 177, 64)           320       \n",
      "_________________________________________________________________\n",
      "max_pooling1d_24 (MaxPooling (None, 175, 64)           0         \n",
      "_________________________________________________________________\n",
      "flatten_51 (Flatten)         (None, 11200)             0         \n",
      "_________________________________________________________________\n",
      "dense_57 (Dense)             (None, 30)                336030    \n",
      "=================================================================\n",
      "Total params: 336,350\n",
      "Trainable params: 336,350\n",
      "Non-trainable params: 0\n",
      "_________________________________________________________________\n"
     ]
    }
   ],
   "source": [
    "model2 = tf.keras.Sequential()\n",
    "model2.add(tf.keras.layers.Conv1D(64, kernel_size=(4), input_shape=(180, 1)))\n",
    "model2.add(tf.keras.layers.MaxPool1D(pool_size=3, strides=(1), padding='valid'))\n",
    "model2.add(tf.keras.layers.Flatten())\n",
    "model2.add(tf.keras.layers.Dense(30))\n",
    "model2.compile(loss='mean_squared_error',optimizer=tf.keras.optimizers.Adam(learning_rate=0.0001), metrics=['mse', 'mae', 'mape'])\n",
    "model2.summary()"
   ]
  },
  {
   "cell_type": "code",
   "execution_count": 254,
   "metadata": {},
   "outputs": [
    {
     "name": "stdout",
     "output_type": "stream",
     "text": [
      "(981, 180, 1) (981, 30)\n"
     ]
    }
   ],
   "source": [
    "xData, yData = monthlySets(180, 30)\n",
    "xTrain = xData[:5000]\n",
    "yTrain = yData[:5000]\n",
    "\n",
    "xTest = xData[5000:]\n",
    "yTest = yData[5000:]\n",
    "\n",
    "print(xTest.shape, yTest.shape)\n",
    "\n",
    "\n",
    "model2.fit(xTrain, yTrain, epochs = 5)\n",
    "model2.save('monthlyModelCNN.h5')"
   ]
  },
  {
   "cell_type": "markdown",
   "metadata": {},
   "source": [
    "Single step:"
   ]
  },
  {
   "cell_type": "code",
   "execution_count": 231,
   "metadata": {},
   "outputs": [
    {
     "name": "stdout",
     "output_type": "stream",
     "text": [
      "Model: \"sequential_57\"\n",
      "_________________________________________________________________\n",
      "Layer (type)                 Output Shape              Param #   \n",
      "=================================================================\n",
      "conv1d_36 (Conv1D)           (None, 97, 64)            320       \n",
      "_________________________________________________________________\n",
      "max_pooling1d_25 (MaxPooling (None, 95, 64)            0         \n",
      "_________________________________________________________________\n",
      "flatten_52 (Flatten)         (None, 6080)              0         \n",
      "_________________________________________________________________\n",
      "dense_58 (Dense)             (None, 1)                 6081      \n",
      "=================================================================\n",
      "Total params: 6,401\n",
      "Trainable params: 6,401\n",
      "Non-trainable params: 0\n",
      "_________________________________________________________________\n"
     ]
    }
   ],
   "source": [
    "model5 = tf.keras.Sequential()\n",
    "model5.add(tf.keras.layers.Conv1D(64, kernel_size=(4), input_shape=(100, 1)))\n",
    "model5.add(tf.keras.layers.MaxPool1D(pool_size=3, strides=(1), padding='valid'))\n",
    "model5.add(tf.keras.layers.Flatten())\n",
    "model5.add(tf.keras.layers.Dense(1))\n",
    "model5.compile(loss='mean_squared_error',optimizer=tf.keras.optimizers.Adam(), metrics = ['mse', 'mae', 'mape'])\n",
    "model5.summary()"
   ]
  },
  {
   "cell_type": "code",
   "execution_count": 232,
   "metadata": {},
   "outputs": [
    {
     "name": "stdout",
     "output_type": "stream",
     "text": [
      "Total Size: 6000\n",
      "Epoch 1/5\n",
      "172/172 [==============================] - 2s 6ms/step - loss: 0.0022 - mse: 0.0022 - mae: 0.0286 - mape: 11.8131\n",
      "Epoch 2/5\n",
      "172/172 [==============================] - 1s 5ms/step - loss: 8.0386e-04 - mse: 8.0386e-04 - mae: 0.0171 - mape: 7.0844: 0s - loss: 8.0589e-04 - mse: 8.0589e-04 - mae: 0.0172 - mape: \n",
      "Epoch 3/5\n",
      "172/172 [==============================] - 1s 5ms/step - loss: 6.0681e-04 - mse: 6.0681e-04 - mae: 0.0146 - mape: 6.0546\n",
      "Epoch 4/5\n",
      "172/172 [==============================] - 1s 5ms/step - loss: 5.5734e-04 - mse: 5.5734e-04 - mae: 0.0144 - mape: 6.0470\n",
      "Epoch 5/5\n",
      "172/172 [==============================] - 1s 5ms/step - loss: 4.4929e-04 - mse: 4.4929e-04 - mae: 0.0122 - mape: 5.1460\n"
     ]
    }
   ],
   "source": [
    "df = dataDaily['Price'][:6000]                 \n",
    "print(\"Total Size:\", len(df))\n",
    "scaler = MinMaxScaler(feature_range=(0, 1))\n",
    "dfPrice = scaler.fit_transform(np.array(df).reshape(-1, 1))\n",
    "SIZE = 100\n",
    "\n",
    "xData = []\n",
    "yData = []\n",
    "\n",
    "dailySets(dfPrice, SIZE)\n",
    "xTrain = np.array(xData[:5500])\n",
    "yTrain = np.array(yData[:5500])\n",
    "xTest = np.array(xData[5500:])\n",
    "yTest = np.array(yData[5500:])\n",
    "\n",
    "model5.fit(xTrain, yTrain, epochs=5)\n",
    "model5.save('dailyModelCNN.h5')"
   ]
  },
  {
   "cell_type": "markdown",
   "metadata": {},
   "source": [
    "-> CNN-LSTM Hybrid Model"
   ]
  },
  {
   "cell_type": "markdown",
   "metadata": {},
   "source": [
    "Multi Step"
   ]
  },
  {
   "cell_type": "code",
   "execution_count": 268,
   "metadata": {},
   "outputs": [
    {
     "name": "stdout",
     "output_type": "stream",
     "text": [
      "Model: \"sequential_66\"\n",
      "_________________________________________________________________\n",
      "Layer (type)                 Output Shape              Param #   \n",
      "=================================================================\n",
      "conv1d_45 (Conv1D)           (None, 178, 32)           128       \n",
      "_________________________________________________________________\n",
      "max_pooling1d_30 (MaxPooling (None, 176, 32)           0         \n",
      "_________________________________________________________________\n",
      "lstm_63 (LSTM)               (None, 176, 64)           24832     \n",
      "_________________________________________________________________\n",
      "flatten_61 (Flatten)         (None, 11264)             0         \n",
      "_________________________________________________________________\n",
      "dense_67 (Dense)             (None, 30)                337950    \n",
      "=================================================================\n",
      "Total params: 362,910\n",
      "Trainable params: 362,910\n",
      "Non-trainable params: 0\n",
      "_________________________________________________________________\n"
     ]
    }
   ],
   "source": [
    "model3 = tf.keras.Sequential()\n",
    "model3.add(tf.keras.layers.Conv1D(32, kernel_size=(3), input_shape=(180, 1)))\n",
    "model3.add(tf.keras.layers.MaxPool1D(pool_size=3, strides=(1), padding='valid'))\n",
    "model3.add(tf.keras.layers.LSTM(64, return_sequences=True))\n",
    "model3.add(tf.keras.layers.Flatten())\n",
    "model3.add(tf.keras.layers.Dense(30))\n",
    "model3.compile(loss='mean_squared_error',optimizer=tf.keras.optimizers.Adam(), metrics=['mse', 'mae', 'mape'])\n",
    "model3.summary()"
   ]
  },
  {
   "cell_type": "code",
   "execution_count": 295,
   "metadata": {},
   "outputs": [
    {
     "name": "stdout",
     "output_type": "stream",
     "text": [
      "(981, 180, 1) (981, 30)\n"
     ]
    }
   ],
   "source": [
    "xData, yData = monthlySets(180, 30)\n",
    "xTrain = xData[:5000]\n",
    "yTrain = yData[:5000]\n",
    "\n",
    "xTest = xData[5000:]\n",
    "yTest = yData[5000:]\n",
    "\n",
    "print(xTest.shape, yTest.shape)\n",
    "\n",
    "\n",
    "model3.fit(xTrain, yTrain, epochs = 5, shuffle=True)\n",
    "model3.save('monthlyModelCNN-LSTM.h5')"
   ]
  },
  {
   "cell_type": "markdown",
   "metadata": {},
   "source": [
    "Single Step"
   ]
  },
  {
   "cell_type": "code",
   "execution_count": 250,
   "metadata": {},
   "outputs": [],
   "source": [
    "model6 = tf.keras.Sequential()\n",
    "model6.add(tf.keras.layers.Conv1D(32, kernel_size=(2), input_shape=(100, 1)))\n",
    "model6.add(tf.keras.layers.LSTM(32, return_sequences=True))\n",
    "model6.add(tf.keras.layers.Flatten())\n",
    "model6.add(tf.keras.layers.Dense(1))\n",
    "model6.compile(loss='mean_squared_error',optimizer=tf.keras.optimizers.Adam(), metrics=['mse', 'mae', 'mape'])\n",
    "# model6.summary()"
   ]
  },
  {
   "cell_type": "code",
   "execution_count": 13,
   "metadata": {},
   "outputs": [
    {
     "name": "stdout",
     "output_type": "stream",
     "text": [
      "Total Size: 6000\n"
     ]
    },
    {
     "ename": "NameError",
     "evalue": "name 'model6' is not defined",
     "output_type": "error",
     "traceback": [
      "\u001b[1;31m---------------------------------------------------------------------------\u001b[0m",
      "\u001b[1;31mNameError\u001b[0m                                 Traceback (most recent call last)",
      "\u001b[1;32mc:\\Users\\007ra\\Documents\\SiH2022\\sih-2022\\notebook.ipynb Cell 29'\u001b[0m in \u001b[0;36m<cell line: 16>\u001b[1;34m()\u001b[0m\n\u001b[0;32m     <a href='vscode-notebook-cell:/c%3A/Users/007ra/Documents/SiH2022/sih-2022/notebook.ipynb#ch0000028?line=12'>13</a>\u001b[0m xTest \u001b[39m=\u001b[39m np\u001b[39m.\u001b[39marray(xData[\u001b[39m5500\u001b[39m:])\n\u001b[0;32m     <a href='vscode-notebook-cell:/c%3A/Users/007ra/Documents/SiH2022/sih-2022/notebook.ipynb#ch0000028?line=13'>14</a>\u001b[0m yTest \u001b[39m=\u001b[39m np\u001b[39m.\u001b[39marray(yData[\u001b[39m5500\u001b[39m:])\n\u001b[1;32m---> <a href='vscode-notebook-cell:/c%3A/Users/007ra/Documents/SiH2022/sih-2022/notebook.ipynb#ch0000028?line=15'>16</a>\u001b[0m model6\u001b[39m.\u001b[39mfit(xTrain, yTrain, epochs\u001b[39m=\u001b[39m\u001b[39m5\u001b[39m)\n\u001b[0;32m     <a href='vscode-notebook-cell:/c%3A/Users/007ra/Documents/SiH2022/sih-2022/notebook.ipynb#ch0000028?line=16'>17</a>\u001b[0m model6\u001b[39m.\u001b[39msave(\u001b[39m'\u001b[39m\u001b[39mdailyModelCNNLSTM.h5\u001b[39m\u001b[39m'\u001b[39m)\n",
      "\u001b[1;31mNameError\u001b[0m: name 'model6' is not defined"
     ]
    }
   ],
   "source": [
    "df = dataDaily['Price'][:6000]                 \n",
    "print(\"Total Size:\", len(df))\n",
    "scaler = MinMaxScaler(feature_range=(0, 1))\n",
    "dfPrice = scaler.fit_transform(np.array(df).reshape(-1, 1))\n",
    "SIZE = 100\n",
    "\n",
    "xData = []\n",
    "yData = []\n",
    "\n",
    "dailySets(dfPrice, SIZE)\n",
    "xTrain = np.array(xData[:5500])\n",
    "yTrain = np.array(yData[:5500])\n",
    "xTest = np.array(xData[5500:])\n",
    "yTest = np.array(yData[5500:])\n",
    "\n",
    "model6.fit(xTrain, yTrain, epochs=5)\n",
    "model6.save('dailyModelCNNLSTM.h5')"
   ]
  },
  {
   "cell_type": "code",
   "execution_count": 8,
   "metadata": {},
   "outputs": [],
   "source": [
    "lstm = tf.keras.models.load_model('monthlyModelLSTM.h5')\n",
    "cnn = tf.keras.models.load_model('monthlyModelCNN.h5')\n",
    "cnnlstm = tf.keras.models.load_model('monthlyModelCNN-LSTM.h5')\n",
    "\n",
    "# lstmSing = tf.keras.models.load_model('dailyModelLSTM.h5')\n",
    "# cnnSing = tf.keras.models.load_model('dailyModelCNN.h5')\n",
    "# cnnlstmSing = tf.keras.models.load_model('dailyModelCNNLSTM.h5')"
   ]
  },
  {
   "cell_type": "code",
   "execution_count": 16,
   "metadata": {},
   "outputs": [
    {
     "name": "stdout",
     "output_type": "stream",
     "text": [
      "WARNING:tensorflow:Model was constructed with shape (None, 180, 1) for input KerasTensor(type_spec=TensorSpec(shape=(None, 180, 1), dtype=tf.float32, name='lstm_input'), name='lstm_input', description=\"created by layer 'lstm_input'\"), but it was called on an input with incompatible shape (None, 100, 1).\n"
     ]
    },
    {
     "ename": "ValueError",
     "evalue": "in user code:\n\n    C:\\Users\\007ra\\.conda\\envs\\dataScience\\lib\\site-packages\\keras\\engine\\training.py:1586 predict_function  *\n        return step_function(self, iterator)\n    C:\\Users\\007ra\\.conda\\envs\\dataScience\\lib\\site-packages\\keras\\engine\\training.py:1576 step_function  **\n        outputs = model.distribute_strategy.run(run_step, args=(data,))\n    C:\\Users\\007ra\\.conda\\envs\\dataScience\\lib\\site-packages\\tensorflow\\python\\distribute\\distribute_lib.py:1286 run\n        return self._extended.call_for_each_replica(fn, args=args, kwargs=kwargs)\n    C:\\Users\\007ra\\.conda\\envs\\dataScience\\lib\\site-packages\\tensorflow\\python\\distribute\\distribute_lib.py:2849 call_for_each_replica\n        return self._call_for_each_replica(fn, args, kwargs)\n    C:\\Users\\007ra\\.conda\\envs\\dataScience\\lib\\site-packages\\tensorflow\\python\\distribute\\distribute_lib.py:3632 _call_for_each_replica\n        return fn(*args, **kwargs)\n    C:\\Users\\007ra\\.conda\\envs\\dataScience\\lib\\site-packages\\keras\\engine\\training.py:1569 run_step  **\n        outputs = model.predict_step(data)\n    C:\\Users\\007ra\\.conda\\envs\\dataScience\\lib\\site-packages\\keras\\engine\\training.py:1537 predict_step\n        return self(x, training=False)\n    C:\\Users\\007ra\\.conda\\envs\\dataScience\\lib\\site-packages\\keras\\engine\\base_layer.py:1037 __call__\n        outputs = call_fn(inputs, *args, **kwargs)\n    C:\\Users\\007ra\\.conda\\envs\\dataScience\\lib\\site-packages\\keras\\engine\\sequential.py:369 call\n        return super(Sequential, self).call(inputs, training=training, mask=mask)\n    C:\\Users\\007ra\\.conda\\envs\\dataScience\\lib\\site-packages\\keras\\engine\\functional.py:414 call\n        return self._run_internal_graph(\n    C:\\Users\\007ra\\.conda\\envs\\dataScience\\lib\\site-packages\\keras\\engine\\functional.py:550 _run_internal_graph\n        outputs = node.layer(*args, **kwargs)\n    C:\\Users\\007ra\\.conda\\envs\\dataScience\\lib\\site-packages\\keras\\engine\\base_layer.py:1020 __call__\n        input_spec.assert_input_compatibility(self.input_spec, inputs, self.name)\n    C:\\Users\\007ra\\.conda\\envs\\dataScience\\lib\\site-packages\\keras\\engine\\input_spec.py:250 assert_input_compatibility\n        raise ValueError(\n\n    ValueError: Input 0 of layer dense is incompatible with the layer: expected axis -1 of input shape to have value 11520 but received input with shape (None, 6400)\n",
     "output_type": "error",
     "traceback": [
      "\u001b[1;31m---------------------------------------------------------------------------\u001b[0m",
      "\u001b[1;31mValueError\u001b[0m                                Traceback (most recent call last)",
      "\u001b[1;32mc:\\Users\\007ra\\Documents\\SiH2022\\sih-2022\\notebook.ipynb Cell 31'\u001b[0m in \u001b[0;36m<cell line: 10>\u001b[1;34m()\u001b[0m\n\u001b[0;32m      <a href='vscode-notebook-cell:/c%3A/Users/007ra/Documents/SiH2022/sih-2022/notebook.ipynb#ch0000030?line=6'>7</a>\u001b[0m truth \u001b[39m=\u001b[39m dataDaily[\u001b[39m'\u001b[39m\u001b[39mPrice\u001b[39m\u001b[39m'\u001b[39m]\u001b[39m.\u001b[39mto_list()[\u001b[39m5970\u001b[39m:\u001b[39m6000\u001b[39m]\n\u001b[0;32m      <a href='vscode-notebook-cell:/c%3A/Users/007ra/Documents/SiH2022/sih-2022/notebook.ipynb#ch0000030?line=8'>9</a>\u001b[0m index \u001b[39m=\u001b[39m \u001b[39m10\u001b[39m\n\u001b[1;32m---> <a href='vscode-notebook-cell:/c%3A/Users/007ra/Documents/SiH2022/sih-2022/notebook.ipynb#ch0000030?line=9'>10</a>\u001b[0m lstmPred\u001b[39m.\u001b[39mextend(s1\u001b[39m.\u001b[39minverse_transform(lstm\u001b[39m.\u001b[39;49mpredict(np\u001b[39m.\u001b[39;49mexpand_dims(xTest[index], axis\u001b[39m=\u001b[39;49m\u001b[39m0\u001b[39;49m)))\u001b[39m.\u001b[39mflatten())\n\u001b[0;32m     <a href='vscode-notebook-cell:/c%3A/Users/007ra/Documents/SiH2022/sih-2022/notebook.ipynb#ch0000030?line=10'>11</a>\u001b[0m cnnPred\u001b[39m.\u001b[39mextend(s1\u001b[39m.\u001b[39minverse_transform(cnn\u001b[39m.\u001b[39mpredict(np\u001b[39m.\u001b[39mexpand_dims(xTest[index], axis\u001b[39m=\u001b[39m\u001b[39m0\u001b[39m)))\u001b[39m.\u001b[39mflatten())\n\u001b[0;32m     <a href='vscode-notebook-cell:/c%3A/Users/007ra/Documents/SiH2022/sih-2022/notebook.ipynb#ch0000030?line=11'>12</a>\u001b[0m cnnlstmPred\u001b[39m.\u001b[39mextend(s1\u001b[39m.\u001b[39minverse_transform(cnnlstm\u001b[39m.\u001b[39mpredict(np\u001b[39m.\u001b[39mexpand_dims(xTest[index], axis\u001b[39m=\u001b[39m\u001b[39m0\u001b[39m)))\u001b[39m.\u001b[39mflatten())\n",
      "File \u001b[1;32m~\\.conda\\envs\\dataScience\\lib\\site-packages\\keras\\engine\\training.py:1751\u001b[0m, in \u001b[0;36mModel.predict\u001b[1;34m(self, x, batch_size, verbose, steps, callbacks, max_queue_size, workers, use_multiprocessing)\u001b[0m\n\u001b[0;32m   <a href='file:///c%3A/Users/007ra/.conda/envs/dataScience/lib/site-packages/keras/engine/training.py?line=1748'>1749</a>\u001b[0m \u001b[39mfor\u001b[39;00m step \u001b[39min\u001b[39;00m data_handler\u001b[39m.\u001b[39msteps():\n\u001b[0;32m   <a href='file:///c%3A/Users/007ra/.conda/envs/dataScience/lib/site-packages/keras/engine/training.py?line=1749'>1750</a>\u001b[0m   callbacks\u001b[39m.\u001b[39mon_predict_batch_begin(step)\n\u001b[1;32m-> <a href='file:///c%3A/Users/007ra/.conda/envs/dataScience/lib/site-packages/keras/engine/training.py?line=1750'>1751</a>\u001b[0m   tmp_batch_outputs \u001b[39m=\u001b[39m \u001b[39mself\u001b[39;49m\u001b[39m.\u001b[39;49mpredict_function(iterator)\n\u001b[0;32m   <a href='file:///c%3A/Users/007ra/.conda/envs/dataScience/lib/site-packages/keras/engine/training.py?line=1751'>1752</a>\u001b[0m   \u001b[39mif\u001b[39;00m data_handler\u001b[39m.\u001b[39mshould_sync:\n\u001b[0;32m   <a href='file:///c%3A/Users/007ra/.conda/envs/dataScience/lib/site-packages/keras/engine/training.py?line=1752'>1753</a>\u001b[0m     context\u001b[39m.\u001b[39masync_wait()\n",
      "File \u001b[1;32m~\\.conda\\envs\\dataScience\\lib\\site-packages\\tensorflow\\python\\eager\\def_function.py:885\u001b[0m, in \u001b[0;36mFunction.__call__\u001b[1;34m(self, *args, **kwds)\u001b[0m\n\u001b[0;32m    <a href='file:///c%3A/Users/007ra/.conda/envs/dataScience/lib/site-packages/tensorflow/python/eager/def_function.py?line=881'>882</a>\u001b[0m compiler \u001b[39m=\u001b[39m \u001b[39m\"\u001b[39m\u001b[39mxla\u001b[39m\u001b[39m\"\u001b[39m \u001b[39mif\u001b[39;00m \u001b[39mself\u001b[39m\u001b[39m.\u001b[39m_jit_compile \u001b[39melse\u001b[39;00m \u001b[39m\"\u001b[39m\u001b[39mnonXla\u001b[39m\u001b[39m\"\u001b[39m\n\u001b[0;32m    <a href='file:///c%3A/Users/007ra/.conda/envs/dataScience/lib/site-packages/tensorflow/python/eager/def_function.py?line=883'>884</a>\u001b[0m \u001b[39mwith\u001b[39;00m OptionalXlaContext(\u001b[39mself\u001b[39m\u001b[39m.\u001b[39m_jit_compile):\n\u001b[1;32m--> <a href='file:///c%3A/Users/007ra/.conda/envs/dataScience/lib/site-packages/tensorflow/python/eager/def_function.py?line=884'>885</a>\u001b[0m   result \u001b[39m=\u001b[39m \u001b[39mself\u001b[39m\u001b[39m.\u001b[39m_call(\u001b[39m*\u001b[39margs, \u001b[39m*\u001b[39m\u001b[39m*\u001b[39mkwds)\n\u001b[0;32m    <a href='file:///c%3A/Users/007ra/.conda/envs/dataScience/lib/site-packages/tensorflow/python/eager/def_function.py?line=886'>887</a>\u001b[0m new_tracing_count \u001b[39m=\u001b[39m \u001b[39mself\u001b[39m\u001b[39m.\u001b[39mexperimental_get_tracing_count()\n\u001b[0;32m    <a href='file:///c%3A/Users/007ra/.conda/envs/dataScience/lib/site-packages/tensorflow/python/eager/def_function.py?line=887'>888</a>\u001b[0m without_tracing \u001b[39m=\u001b[39m (tracing_count \u001b[39m==\u001b[39m new_tracing_count)\n",
      "File \u001b[1;32m~\\.conda\\envs\\dataScience\\lib\\site-packages\\tensorflow\\python\\eager\\def_function.py:924\u001b[0m, in \u001b[0;36mFunction._call\u001b[1;34m(self, *args, **kwds)\u001b[0m\n\u001b[0;32m    <a href='file:///c%3A/Users/007ra/.conda/envs/dataScience/lib/site-packages/tensorflow/python/eager/def_function.py?line=920'>921</a>\u001b[0m \u001b[39mself\u001b[39m\u001b[39m.\u001b[39m_lock\u001b[39m.\u001b[39mrelease()\n\u001b[0;32m    <a href='file:///c%3A/Users/007ra/.conda/envs/dataScience/lib/site-packages/tensorflow/python/eager/def_function.py?line=921'>922</a>\u001b[0m \u001b[39m# In this case we have not created variables on the first call. So we can\u001b[39;00m\n\u001b[0;32m    <a href='file:///c%3A/Users/007ra/.conda/envs/dataScience/lib/site-packages/tensorflow/python/eager/def_function.py?line=922'>923</a>\u001b[0m \u001b[39m# run the first trace but we should fail if variables are created.\u001b[39;00m\n\u001b[1;32m--> <a href='file:///c%3A/Users/007ra/.conda/envs/dataScience/lib/site-packages/tensorflow/python/eager/def_function.py?line=923'>924</a>\u001b[0m results \u001b[39m=\u001b[39m \u001b[39mself\u001b[39m\u001b[39m.\u001b[39m_stateful_fn(\u001b[39m*\u001b[39margs, \u001b[39m*\u001b[39m\u001b[39m*\u001b[39mkwds)\n\u001b[0;32m    <a href='file:///c%3A/Users/007ra/.conda/envs/dataScience/lib/site-packages/tensorflow/python/eager/def_function.py?line=924'>925</a>\u001b[0m \u001b[39mif\u001b[39;00m \u001b[39mself\u001b[39m\u001b[39m.\u001b[39m_created_variables \u001b[39mand\u001b[39;00m \u001b[39mnot\u001b[39;00m ALLOW_DYNAMIC_VARIABLE_CREATION:\n\u001b[0;32m    <a href='file:///c%3A/Users/007ra/.conda/envs/dataScience/lib/site-packages/tensorflow/python/eager/def_function.py?line=925'>926</a>\u001b[0m   \u001b[39mraise\u001b[39;00m \u001b[39mValueError\u001b[39;00m(\u001b[39m\"\u001b[39m\u001b[39mCreating variables on a non-first call to a function\u001b[39m\u001b[39m\"\u001b[39m\n\u001b[0;32m    <a href='file:///c%3A/Users/007ra/.conda/envs/dataScience/lib/site-packages/tensorflow/python/eager/def_function.py?line=926'>927</a>\u001b[0m                    \u001b[39m\"\u001b[39m\u001b[39m decorated with tf.function.\u001b[39m\u001b[39m\"\u001b[39m)\n",
      "File \u001b[1;32m~\\.conda\\envs\\dataScience\\lib\\site-packages\\tensorflow\\python\\eager\\function.py:3038\u001b[0m, in \u001b[0;36mFunction.__call__\u001b[1;34m(self, *args, **kwargs)\u001b[0m\n\u001b[0;32m   <a href='file:///c%3A/Users/007ra/.conda/envs/dataScience/lib/site-packages/tensorflow/python/eager/function.py?line=3034'>3035</a>\u001b[0m \u001b[39m\"\"\"Calls a graph function specialized to the inputs.\"\"\"\u001b[39;00m\n\u001b[0;32m   <a href='file:///c%3A/Users/007ra/.conda/envs/dataScience/lib/site-packages/tensorflow/python/eager/function.py?line=3035'>3036</a>\u001b[0m \u001b[39mwith\u001b[39;00m \u001b[39mself\u001b[39m\u001b[39m.\u001b[39m_lock:\n\u001b[0;32m   <a href='file:///c%3A/Users/007ra/.conda/envs/dataScience/lib/site-packages/tensorflow/python/eager/function.py?line=3036'>3037</a>\u001b[0m   (graph_function,\n\u001b[1;32m-> <a href='file:///c%3A/Users/007ra/.conda/envs/dataScience/lib/site-packages/tensorflow/python/eager/function.py?line=3037'>3038</a>\u001b[0m    filtered_flat_args) \u001b[39m=\u001b[39m \u001b[39mself\u001b[39;49m\u001b[39m.\u001b[39;49m_maybe_define_function(args, kwargs)\n\u001b[0;32m   <a href='file:///c%3A/Users/007ra/.conda/envs/dataScience/lib/site-packages/tensorflow/python/eager/function.py?line=3038'>3039</a>\u001b[0m \u001b[39mreturn\u001b[39;00m graph_function\u001b[39m.\u001b[39m_call_flat(\n\u001b[0;32m   <a href='file:///c%3A/Users/007ra/.conda/envs/dataScience/lib/site-packages/tensorflow/python/eager/function.py?line=3039'>3040</a>\u001b[0m     filtered_flat_args, captured_inputs\u001b[39m=\u001b[39mgraph_function\u001b[39m.\u001b[39mcaptured_inputs)\n",
      "File \u001b[1;32m~\\.conda\\envs\\dataScience\\lib\\site-packages\\tensorflow\\python\\eager\\function.py:3459\u001b[0m, in \u001b[0;36mFunction._maybe_define_function\u001b[1;34m(self, args, kwargs)\u001b[0m\n\u001b[0;32m   <a href='file:///c%3A/Users/007ra/.conda/envs/dataScience/lib/site-packages/tensorflow/python/eager/function.py?line=3448'>3449</a>\u001b[0m \u001b[39mwith\u001b[39;00m ag_ctx\u001b[39m.\u001b[39mControlStatusCtx(\n\u001b[0;32m   <a href='file:///c%3A/Users/007ra/.conda/envs/dataScience/lib/site-packages/tensorflow/python/eager/function.py?line=3449'>3450</a>\u001b[0m     status\u001b[39m=\u001b[39mag_status, options\u001b[39m=\u001b[39m\u001b[39mself\u001b[39m\u001b[39m.\u001b[39m_autograph_options):\n\u001b[0;32m   <a href='file:///c%3A/Users/007ra/.conda/envs/dataScience/lib/site-packages/tensorflow/python/eager/function.py?line=3450'>3451</a>\u001b[0m \n\u001b[1;32m   (...)\u001b[0m\n\u001b[0;32m   <a href='file:///c%3A/Users/007ra/.conda/envs/dataScience/lib/site-packages/tensorflow/python/eager/function.py?line=3453'>3454</a>\u001b[0m   \u001b[39m# and 2. there's no provided input signature\u001b[39;00m\n\u001b[0;32m   <a href='file:///c%3A/Users/007ra/.conda/envs/dataScience/lib/site-packages/tensorflow/python/eager/function.py?line=3454'>3455</a>\u001b[0m   \u001b[39m# and 3. there's been a cache miss for this calling context\u001b[39;00m\n\u001b[0;32m   <a href='file:///c%3A/Users/007ra/.conda/envs/dataScience/lib/site-packages/tensorflow/python/eager/function.py?line=3455'>3456</a>\u001b[0m   \u001b[39mif\u001b[39;00m (\u001b[39mself\u001b[39m\u001b[39m.\u001b[39m_experimental_relax_shapes \u001b[39mand\u001b[39;00m\n\u001b[0;32m   <a href='file:///c%3A/Users/007ra/.conda/envs/dataScience/lib/site-packages/tensorflow/python/eager/function.py?line=3456'>3457</a>\u001b[0m       \u001b[39mself\u001b[39m\u001b[39m.\u001b[39minput_signature \u001b[39mis\u001b[39;00m \u001b[39mNone\u001b[39;00m \u001b[39mand\u001b[39;00m\n\u001b[0;32m   <a href='file:///c%3A/Users/007ra/.conda/envs/dataScience/lib/site-packages/tensorflow/python/eager/function.py?line=3457'>3458</a>\u001b[0m       call_context_key \u001b[39min\u001b[39;00m \u001b[39mself\u001b[39m\u001b[39m.\u001b[39m_function_cache\u001b[39m.\u001b[39mmissed):\n\u001b[1;32m-> <a href='file:///c%3A/Users/007ra/.conda/envs/dataScience/lib/site-packages/tensorflow/python/eager/function.py?line=3458'>3459</a>\u001b[0m     \u001b[39mreturn\u001b[39;00m \u001b[39mself\u001b[39;49m\u001b[39m.\u001b[39;49m_define_function_with_shape_relaxation(\n\u001b[0;32m   <a href='file:///c%3A/Users/007ra/.conda/envs/dataScience/lib/site-packages/tensorflow/python/eager/function.py?line=3459'>3460</a>\u001b[0m         args, kwargs, flat_args, filtered_flat_args, cache_key_context)\n\u001b[0;32m   <a href='file:///c%3A/Users/007ra/.conda/envs/dataScience/lib/site-packages/tensorflow/python/eager/function.py?line=3461'>3462</a>\u001b[0m   \u001b[39mself\u001b[39m\u001b[39m.\u001b[39m_function_cache\u001b[39m.\u001b[39mmissed\u001b[39m.\u001b[39madd(call_context_key)\n\u001b[0;32m   <a href='file:///c%3A/Users/007ra/.conda/envs/dataScience/lib/site-packages/tensorflow/python/eager/function.py?line=3462'>3463</a>\u001b[0m   graph_function \u001b[39m=\u001b[39m \u001b[39mself\u001b[39m\u001b[39m.\u001b[39m_create_graph_function(args, kwargs)\n",
      "File \u001b[1;32m~\\.conda\\envs\\dataScience\\lib\\site-packages\\tensorflow\\python\\eager\\function.py:3381\u001b[0m, in \u001b[0;36mFunction._define_function_with_shape_relaxation\u001b[1;34m(self, args, kwargs, flat_args, filtered_flat_args, cache_key_context)\u001b[0m\n\u001b[0;32m   <a href='file:///c%3A/Users/007ra/.conda/envs/dataScience/lib/site-packages/tensorflow/python/eager/function.py?line=3373'>3374</a>\u001b[0m   (relaxed_arg_specs, relaxed_kwarg_specs) \u001b[39m=\u001b[39m nest\u001b[39m.\u001b[39mpack_sequence_as(\n\u001b[0;32m   <a href='file:///c%3A/Users/007ra/.conda/envs/dataScience/lib/site-packages/tensorflow/python/eager/function.py?line=3374'>3375</a>\u001b[0m       (args, kwargs), relaxed_arg_specs, expand_composites\u001b[39m=\u001b[39m\u001b[39mFalse\u001b[39;00m)\n\u001b[0;32m   <a href='file:///c%3A/Users/007ra/.conda/envs/dataScience/lib/site-packages/tensorflow/python/eager/function.py?line=3375'>3376</a>\u001b[0m   (args, kwargs) \u001b[39m=\u001b[39m nest\u001b[39m.\u001b[39mpack_sequence_as(\n\u001b[0;32m   <a href='file:///c%3A/Users/007ra/.conda/envs/dataScience/lib/site-packages/tensorflow/python/eager/function.py?line=3376'>3377</a>\u001b[0m       (relaxed_arg_specs, relaxed_kwarg_specs),\n\u001b[0;32m   <a href='file:///c%3A/Users/007ra/.conda/envs/dataScience/lib/site-packages/tensorflow/python/eager/function.py?line=3377'>3378</a>\u001b[0m       flat_args,\n\u001b[0;32m   <a href='file:///c%3A/Users/007ra/.conda/envs/dataScience/lib/site-packages/tensorflow/python/eager/function.py?line=3378'>3379</a>\u001b[0m       expand_composites\u001b[39m=\u001b[39m\u001b[39mTrue\u001b[39;00m)\n\u001b[1;32m-> <a href='file:///c%3A/Users/007ra/.conda/envs/dataScience/lib/site-packages/tensorflow/python/eager/function.py?line=3380'>3381</a>\u001b[0m graph_function \u001b[39m=\u001b[39m \u001b[39mself\u001b[39;49m\u001b[39m.\u001b[39;49m_create_graph_function(\n\u001b[0;32m   <a href='file:///c%3A/Users/007ra/.conda/envs/dataScience/lib/site-packages/tensorflow/python/eager/function.py?line=3381'>3382</a>\u001b[0m     args, kwargs, override_flat_arg_shapes\u001b[39m=\u001b[39;49mrelaxed_arg_shapes)\n\u001b[0;32m   <a href='file:///c%3A/Users/007ra/.conda/envs/dataScience/lib/site-packages/tensorflow/python/eager/function.py?line=3382'>3383</a>\u001b[0m \u001b[39mself\u001b[39m\u001b[39m.\u001b[39m_function_cache\u001b[39m.\u001b[39marg_relaxed[rank_only_cache_key] \u001b[39m=\u001b[39m graph_function\n\u001b[0;32m   <a href='file:///c%3A/Users/007ra/.conda/envs/dataScience/lib/site-packages/tensorflow/python/eager/function.py?line=3384'>3385</a>\u001b[0m \u001b[39mreturn\u001b[39;00m (graph_function, [\n\u001b[0;32m   <a href='file:///c%3A/Users/007ra/.conda/envs/dataScience/lib/site-packages/tensorflow/python/eager/function.py?line=3385'>3386</a>\u001b[0m     t \u001b[39mfor\u001b[39;00m t \u001b[39min\u001b[39;00m nest\u001b[39m.\u001b[39mflatten((args, kwargs), expand_composites\u001b[39m=\u001b[39m\u001b[39mTrue\u001b[39;00m)\n\u001b[0;32m   <a href='file:///c%3A/Users/007ra/.conda/envs/dataScience/lib/site-packages/tensorflow/python/eager/function.py?line=3386'>3387</a>\u001b[0m     \u001b[39mif\u001b[39;00m \u001b[39misinstance\u001b[39m(t, (ops\u001b[39m.\u001b[39mTensor,\n\u001b[0;32m   <a href='file:///c%3A/Users/007ra/.conda/envs/dataScience/lib/site-packages/tensorflow/python/eager/function.py?line=3387'>3388</a>\u001b[0m                       resource_variable_ops\u001b[39m.\u001b[39mBaseResourceVariable))\n\u001b[0;32m   <a href='file:///c%3A/Users/007ra/.conda/envs/dataScience/lib/site-packages/tensorflow/python/eager/function.py?line=3388'>3389</a>\u001b[0m ])\n",
      "File \u001b[1;32m~\\.conda\\envs\\dataScience\\lib\\site-packages\\tensorflow\\python\\eager\\function.py:3298\u001b[0m, in \u001b[0;36mFunction._create_graph_function\u001b[1;34m(self, args, kwargs, override_flat_arg_shapes)\u001b[0m\n\u001b[0;32m   <a href='file:///c%3A/Users/007ra/.conda/envs/dataScience/lib/site-packages/tensorflow/python/eager/function.py?line=3292'>3293</a>\u001b[0m missing_arg_names \u001b[39m=\u001b[39m [\n\u001b[0;32m   <a href='file:///c%3A/Users/007ra/.conda/envs/dataScience/lib/site-packages/tensorflow/python/eager/function.py?line=3293'>3294</a>\u001b[0m     \u001b[39m\"\u001b[39m\u001b[39m%s\u001b[39;00m\u001b[39m_\u001b[39m\u001b[39m%d\u001b[39;00m\u001b[39m\"\u001b[39m \u001b[39m%\u001b[39m (arg, i) \u001b[39mfor\u001b[39;00m i, arg \u001b[39min\u001b[39;00m \u001b[39menumerate\u001b[39m(missing_arg_names)\n\u001b[0;32m   <a href='file:///c%3A/Users/007ra/.conda/envs/dataScience/lib/site-packages/tensorflow/python/eager/function.py?line=3294'>3295</a>\u001b[0m ]\n\u001b[0;32m   <a href='file:///c%3A/Users/007ra/.conda/envs/dataScience/lib/site-packages/tensorflow/python/eager/function.py?line=3295'>3296</a>\u001b[0m arg_names \u001b[39m=\u001b[39m base_arg_names \u001b[39m+\u001b[39m missing_arg_names\n\u001b[0;32m   <a href='file:///c%3A/Users/007ra/.conda/envs/dataScience/lib/site-packages/tensorflow/python/eager/function.py?line=3296'>3297</a>\u001b[0m graph_function \u001b[39m=\u001b[39m ConcreteFunction(\n\u001b[1;32m-> <a href='file:///c%3A/Users/007ra/.conda/envs/dataScience/lib/site-packages/tensorflow/python/eager/function.py?line=3297'>3298</a>\u001b[0m     func_graph_module\u001b[39m.\u001b[39;49mfunc_graph_from_py_func(\n\u001b[0;32m   <a href='file:///c%3A/Users/007ra/.conda/envs/dataScience/lib/site-packages/tensorflow/python/eager/function.py?line=3298'>3299</a>\u001b[0m         \u001b[39mself\u001b[39;49m\u001b[39m.\u001b[39;49m_name,\n\u001b[0;32m   <a href='file:///c%3A/Users/007ra/.conda/envs/dataScience/lib/site-packages/tensorflow/python/eager/function.py?line=3299'>3300</a>\u001b[0m         \u001b[39mself\u001b[39;49m\u001b[39m.\u001b[39;49m_python_function,\n\u001b[0;32m   <a href='file:///c%3A/Users/007ra/.conda/envs/dataScience/lib/site-packages/tensorflow/python/eager/function.py?line=3300'>3301</a>\u001b[0m         args,\n\u001b[0;32m   <a href='file:///c%3A/Users/007ra/.conda/envs/dataScience/lib/site-packages/tensorflow/python/eager/function.py?line=3301'>3302</a>\u001b[0m         kwargs,\n\u001b[0;32m   <a href='file:///c%3A/Users/007ra/.conda/envs/dataScience/lib/site-packages/tensorflow/python/eager/function.py?line=3302'>3303</a>\u001b[0m         \u001b[39mself\u001b[39;49m\u001b[39m.\u001b[39;49minput_signature,\n\u001b[0;32m   <a href='file:///c%3A/Users/007ra/.conda/envs/dataScience/lib/site-packages/tensorflow/python/eager/function.py?line=3303'>3304</a>\u001b[0m         autograph\u001b[39m=\u001b[39;49m\u001b[39mself\u001b[39;49m\u001b[39m.\u001b[39;49m_autograph,\n\u001b[0;32m   <a href='file:///c%3A/Users/007ra/.conda/envs/dataScience/lib/site-packages/tensorflow/python/eager/function.py?line=3304'>3305</a>\u001b[0m         autograph_options\u001b[39m=\u001b[39;49m\u001b[39mself\u001b[39;49m\u001b[39m.\u001b[39;49m_autograph_options,\n\u001b[0;32m   <a href='file:///c%3A/Users/007ra/.conda/envs/dataScience/lib/site-packages/tensorflow/python/eager/function.py?line=3305'>3306</a>\u001b[0m         arg_names\u001b[39m=\u001b[39;49marg_names,\n\u001b[0;32m   <a href='file:///c%3A/Users/007ra/.conda/envs/dataScience/lib/site-packages/tensorflow/python/eager/function.py?line=3306'>3307</a>\u001b[0m         override_flat_arg_shapes\u001b[39m=\u001b[39;49moverride_flat_arg_shapes,\n\u001b[0;32m   <a href='file:///c%3A/Users/007ra/.conda/envs/dataScience/lib/site-packages/tensorflow/python/eager/function.py?line=3307'>3308</a>\u001b[0m         capture_by_value\u001b[39m=\u001b[39;49m\u001b[39mself\u001b[39;49m\u001b[39m.\u001b[39;49m_capture_by_value),\n\u001b[0;32m   <a href='file:///c%3A/Users/007ra/.conda/envs/dataScience/lib/site-packages/tensorflow/python/eager/function.py?line=3308'>3309</a>\u001b[0m     \u001b[39mself\u001b[39m\u001b[39m.\u001b[39m_function_attributes,\n\u001b[0;32m   <a href='file:///c%3A/Users/007ra/.conda/envs/dataScience/lib/site-packages/tensorflow/python/eager/function.py?line=3309'>3310</a>\u001b[0m     function_spec\u001b[39m=\u001b[39m\u001b[39mself\u001b[39m\u001b[39m.\u001b[39mfunction_spec,\n\u001b[0;32m   <a href='file:///c%3A/Users/007ra/.conda/envs/dataScience/lib/site-packages/tensorflow/python/eager/function.py?line=3310'>3311</a>\u001b[0m     \u001b[39m# Tell the ConcreteFunction to clean up its graph once it goes out of\u001b[39;00m\n\u001b[0;32m   <a href='file:///c%3A/Users/007ra/.conda/envs/dataScience/lib/site-packages/tensorflow/python/eager/function.py?line=3311'>3312</a>\u001b[0m     \u001b[39m# scope. This is not the default behavior since it gets used in some\u001b[39;00m\n\u001b[0;32m   <a href='file:///c%3A/Users/007ra/.conda/envs/dataScience/lib/site-packages/tensorflow/python/eager/function.py?line=3312'>3313</a>\u001b[0m     \u001b[39m# places (like Keras) where the FuncGraph lives longer than the\u001b[39;00m\n\u001b[0;32m   <a href='file:///c%3A/Users/007ra/.conda/envs/dataScience/lib/site-packages/tensorflow/python/eager/function.py?line=3313'>3314</a>\u001b[0m     \u001b[39m# ConcreteFunction.\u001b[39;00m\n\u001b[0;32m   <a href='file:///c%3A/Users/007ra/.conda/envs/dataScience/lib/site-packages/tensorflow/python/eager/function.py?line=3314'>3315</a>\u001b[0m     shared_func_graph\u001b[39m=\u001b[39m\u001b[39mFalse\u001b[39;00m)\n\u001b[0;32m   <a href='file:///c%3A/Users/007ra/.conda/envs/dataScience/lib/site-packages/tensorflow/python/eager/function.py?line=3315'>3316</a>\u001b[0m \u001b[39mreturn\u001b[39;00m graph_function\n",
      "File \u001b[1;32m~\\.conda\\envs\\dataScience\\lib\\site-packages\\tensorflow\\python\\framework\\func_graph.py:1007\u001b[0m, in \u001b[0;36mfunc_graph_from_py_func\u001b[1;34m(name, python_func, args, kwargs, signature, func_graph, autograph, autograph_options, add_control_dependencies, arg_names, op_return_value, collections, capture_by_value, override_flat_arg_shapes, acd_record_initial_resource_uses)\u001b[0m\n\u001b[0;32m   <a href='file:///c%3A/Users/007ra/.conda/envs/dataScience/lib/site-packages/tensorflow/python/framework/func_graph.py?line=1003'>1004</a>\u001b[0m \u001b[39melse\u001b[39;00m:\n\u001b[0;32m   <a href='file:///c%3A/Users/007ra/.conda/envs/dataScience/lib/site-packages/tensorflow/python/framework/func_graph.py?line=1004'>1005</a>\u001b[0m   _, original_func \u001b[39m=\u001b[39m tf_decorator\u001b[39m.\u001b[39munwrap(python_func)\n\u001b[1;32m-> <a href='file:///c%3A/Users/007ra/.conda/envs/dataScience/lib/site-packages/tensorflow/python/framework/func_graph.py?line=1006'>1007</a>\u001b[0m func_outputs \u001b[39m=\u001b[39m python_func(\u001b[39m*\u001b[39mfunc_args, \u001b[39m*\u001b[39m\u001b[39m*\u001b[39mfunc_kwargs)\n\u001b[0;32m   <a href='file:///c%3A/Users/007ra/.conda/envs/dataScience/lib/site-packages/tensorflow/python/framework/func_graph.py?line=1008'>1009</a>\u001b[0m \u001b[39m# invariant: `func_outputs` contains only Tensors, CompositeTensors,\u001b[39;00m\n\u001b[0;32m   <a href='file:///c%3A/Users/007ra/.conda/envs/dataScience/lib/site-packages/tensorflow/python/framework/func_graph.py?line=1009'>1010</a>\u001b[0m \u001b[39m# TensorArrays and `None`s.\u001b[39;00m\n\u001b[0;32m   <a href='file:///c%3A/Users/007ra/.conda/envs/dataScience/lib/site-packages/tensorflow/python/framework/func_graph.py?line=1010'>1011</a>\u001b[0m func_outputs \u001b[39m=\u001b[39m nest\u001b[39m.\u001b[39mmap_structure(convert, func_outputs,\n\u001b[0;32m   <a href='file:///c%3A/Users/007ra/.conda/envs/dataScience/lib/site-packages/tensorflow/python/framework/func_graph.py?line=1011'>1012</a>\u001b[0m                                   expand_composites\u001b[39m=\u001b[39m\u001b[39mTrue\u001b[39;00m)\n",
      "File \u001b[1;32m~\\.conda\\envs\\dataScience\\lib\\site-packages\\tensorflow\\python\\eager\\def_function.py:668\u001b[0m, in \u001b[0;36mFunction._defun_with_scope.<locals>.wrapped_fn\u001b[1;34m(*args, **kwds)\u001b[0m\n\u001b[0;32m    <a href='file:///c%3A/Users/007ra/.conda/envs/dataScience/lib/site-packages/tensorflow/python/eager/def_function.py?line=663'>664</a>\u001b[0m \u001b[39mwith\u001b[39;00m default_graph\u001b[39m.\u001b[39m_variable_creator_scope(scope, priority\u001b[39m=\u001b[39m\u001b[39m50\u001b[39m):  \u001b[39m# pylint: disable=protected-access\u001b[39;00m\n\u001b[0;32m    <a href='file:///c%3A/Users/007ra/.conda/envs/dataScience/lib/site-packages/tensorflow/python/eager/def_function.py?line=664'>665</a>\u001b[0m   \u001b[39m# __wrapped__ allows AutoGraph to swap in a converted function. We give\u001b[39;00m\n\u001b[0;32m    <a href='file:///c%3A/Users/007ra/.conda/envs/dataScience/lib/site-packages/tensorflow/python/eager/def_function.py?line=665'>666</a>\u001b[0m   \u001b[39m# the function a weak reference to itself to avoid a reference cycle.\u001b[39;00m\n\u001b[0;32m    <a href='file:///c%3A/Users/007ra/.conda/envs/dataScience/lib/site-packages/tensorflow/python/eager/def_function.py?line=666'>667</a>\u001b[0m   \u001b[39mwith\u001b[39;00m OptionalXlaContext(compile_with_xla):\n\u001b[1;32m--> <a href='file:///c%3A/Users/007ra/.conda/envs/dataScience/lib/site-packages/tensorflow/python/eager/def_function.py?line=667'>668</a>\u001b[0m     out \u001b[39m=\u001b[39m weak_wrapped_fn()\u001b[39m.\u001b[39m__wrapped__(\u001b[39m*\u001b[39margs, \u001b[39m*\u001b[39m\u001b[39m*\u001b[39mkwds)\n\u001b[0;32m    <a href='file:///c%3A/Users/007ra/.conda/envs/dataScience/lib/site-packages/tensorflow/python/eager/def_function.py?line=668'>669</a>\u001b[0m   \u001b[39mreturn\u001b[39;00m out\n",
      "File \u001b[1;32m~\\.conda\\envs\\dataScience\\lib\\site-packages\\tensorflow\\python\\framework\\func_graph.py:994\u001b[0m, in \u001b[0;36mfunc_graph_from_py_func.<locals>.wrapper\u001b[1;34m(*args, **kwargs)\u001b[0m\n\u001b[0;32m    <a href='file:///c%3A/Users/007ra/.conda/envs/dataScience/lib/site-packages/tensorflow/python/framework/func_graph.py?line=991'>992</a>\u001b[0m \u001b[39mexcept\u001b[39;00m \u001b[39mException\u001b[39;00m \u001b[39mas\u001b[39;00m e:  \u001b[39m# pylint:disable=broad-except\u001b[39;00m\n\u001b[0;32m    <a href='file:///c%3A/Users/007ra/.conda/envs/dataScience/lib/site-packages/tensorflow/python/framework/func_graph.py?line=992'>993</a>\u001b[0m   \u001b[39mif\u001b[39;00m \u001b[39mhasattr\u001b[39m(e, \u001b[39m\"\u001b[39m\u001b[39mag_error_metadata\u001b[39m\u001b[39m\"\u001b[39m):\n\u001b[1;32m--> <a href='file:///c%3A/Users/007ra/.conda/envs/dataScience/lib/site-packages/tensorflow/python/framework/func_graph.py?line=993'>994</a>\u001b[0m     \u001b[39mraise\u001b[39;00m e\u001b[39m.\u001b[39mag_error_metadata\u001b[39m.\u001b[39mto_exception(e)\n\u001b[0;32m    <a href='file:///c%3A/Users/007ra/.conda/envs/dataScience/lib/site-packages/tensorflow/python/framework/func_graph.py?line=994'>995</a>\u001b[0m   \u001b[39melse\u001b[39;00m:\n\u001b[0;32m    <a href='file:///c%3A/Users/007ra/.conda/envs/dataScience/lib/site-packages/tensorflow/python/framework/func_graph.py?line=995'>996</a>\u001b[0m     \u001b[39mraise\u001b[39;00m\n",
      "\u001b[1;31mValueError\u001b[0m: in user code:\n\n    C:\\Users\\007ra\\.conda\\envs\\dataScience\\lib\\site-packages\\keras\\engine\\training.py:1586 predict_function  *\n        return step_function(self, iterator)\n    C:\\Users\\007ra\\.conda\\envs\\dataScience\\lib\\site-packages\\keras\\engine\\training.py:1576 step_function  **\n        outputs = model.distribute_strategy.run(run_step, args=(data,))\n    C:\\Users\\007ra\\.conda\\envs\\dataScience\\lib\\site-packages\\tensorflow\\python\\distribute\\distribute_lib.py:1286 run\n        return self._extended.call_for_each_replica(fn, args=args, kwargs=kwargs)\n    C:\\Users\\007ra\\.conda\\envs\\dataScience\\lib\\site-packages\\tensorflow\\python\\distribute\\distribute_lib.py:2849 call_for_each_replica\n        return self._call_for_each_replica(fn, args, kwargs)\n    C:\\Users\\007ra\\.conda\\envs\\dataScience\\lib\\site-packages\\tensorflow\\python\\distribute\\distribute_lib.py:3632 _call_for_each_replica\n        return fn(*args, **kwargs)\n    C:\\Users\\007ra\\.conda\\envs\\dataScience\\lib\\site-packages\\keras\\engine\\training.py:1569 run_step  **\n        outputs = model.predict_step(data)\n    C:\\Users\\007ra\\.conda\\envs\\dataScience\\lib\\site-packages\\keras\\engine\\training.py:1537 predict_step\n        return self(x, training=False)\n    C:\\Users\\007ra\\.conda\\envs\\dataScience\\lib\\site-packages\\keras\\engine\\base_layer.py:1037 __call__\n        outputs = call_fn(inputs, *args, **kwargs)\n    C:\\Users\\007ra\\.conda\\envs\\dataScience\\lib\\site-packages\\keras\\engine\\sequential.py:369 call\n        return super(Sequential, self).call(inputs, training=training, mask=mask)\n    C:\\Users\\007ra\\.conda\\envs\\dataScience\\lib\\site-packages\\keras\\engine\\functional.py:414 call\n        return self._run_internal_graph(\n    C:\\Users\\007ra\\.conda\\envs\\dataScience\\lib\\site-packages\\keras\\engine\\functional.py:550 _run_internal_graph\n        outputs = node.layer(*args, **kwargs)\n    C:\\Users\\007ra\\.conda\\envs\\dataScience\\lib\\site-packages\\keras\\engine\\base_layer.py:1020 __call__\n        input_spec.assert_input_compatibility(self.input_spec, inputs, self.name)\n    C:\\Users\\007ra\\.conda\\envs\\dataScience\\lib\\site-packages\\keras\\engine\\input_spec.py:250 assert_input_compatibility\n        raise ValueError(\n\n    ValueError: Input 0 of layer dense is incompatible with the layer: expected axis -1 of input shape to have value 11520 but received input with shape (None, 6400)\n"
     ]
    }
   ],
   "source": [
    "from sklearn.metrics import mean_absolute_percentage_error\n",
    "# plt.style.use('dark_background')\n",
    "\n",
    "lstmPred = dataDaily['Price'].to_list()[5970:6000]\n",
    "cnnPred = dataDaily['Price'].to_list()[5970:6000]\n",
    "cnnlstmPred = dataDaily['Price'].to_list()[5970:6000]\n",
    "truth = dataDaily['Price'].to_list()[5970:6000]\n",
    "\n",
    "index = 10\n",
    "lstmPred.extend(s1.inverse_transform(lstm.predict(np.expand_dims(xTest[index], axis=0))).flatten())\n",
    "cnnPred.extend(s1.inverse_transform(cnn.predict(np.expand_dims(xTest[index], axis=0))).flatten())\n",
    "cnnlstmPred.extend(s1.inverse_transform(cnnlstm.predict(np.expand_dims(xTest[index], axis=0))).flatten())\n",
    "truth.extend(s1.inverse_transform(tf.reshape(yTest[index], (-1, 1))))\n",
    "df = pd.DataFrame(data={'CNN': cnnPred, 'LSTM': lstmPred, 'CNN-LSTM': cnnlstmPred, 'Actual': truth})\n",
    "plt.figure(figsize=(12, 8), dpi=108)\n",
    "plt.grid(True)\n",
    "plt.title('Multi-step Prediction Model Comparisons')\n",
    "plt.plot(df, label=['CNN', 'LSTM', 'Hybrid', 'Actual Price'])\n",
    "plt.legend()\n",
    "plt.show()\n",
    "\n",
    "# mapeObject = tf.keras.losses.MeanAbsolutePercentageError()\n",
    "# mseObject = tf.keras.losses.MeanSquaredError()\n",
    "# maeObject = tf.keras.losses.MeanAbsoluteError()\n",
    "# mape = mapeObject(df['truth'], df['res']).numpy()\n",
    "# mse = mseObject(df['truth'], df['res']).numpy()\n",
    "# mae = maeObject(df['truth'], df['res']).numpy()"
   ]
  },
  {
   "cell_type": "code",
   "execution_count": 10,
   "metadata": {},
   "outputs": [
    {
     "name": "stdout",
     "output_type": "stream",
     "text": [
      "22/22 [==============================] - 1s 16ms/step - loss: 4.0742e-04 - mse: 4.0742e-04 - mae: 0.0139 - mape: 12.4345\n",
      "22/22 [==============================] - 0s 6ms/step - loss: 3.9676e-04 - mse: 3.9676e-04 - mae: 0.0139 - mape: 12.5486\n",
      "22/22 [==============================] - 1s 10ms/step - loss: 3.7803e-04 - mse: 3.7803e-04 - mae: 0.0128 - mape: 10.9216\n"
     ]
    }
   ],
   "source": [
    "end = 700\n",
    "\n",
    "l = lstm.evaluate(xTest[:end], yTest[:end])\n",
    "c = cnn.evaluate(xTest[:end], yTest[:end])\n",
    "cl = cnnlstm.evaluate(xTest[:end], yTest[:end])"
   ]
  },
  {
   "cell_type": "code",
   "execution_count": 289,
   "metadata": {},
   "outputs": [
    {
     "name": "stdout",
     "output_type": "stream",
     "text": [
      "[0.0003568771353457123, 0.0003568771353457123, 0.010468926280736923, 7.711786270141602]\n",
      "[0.00038141122786328197, 0.00038141122786328197, 0.011915425769984722, 9.287092208862305]\n",
      "[0.00031482407939620316, 0.00031482407939620316, 0.00955883227288723, 7.152036190032959]\n"
     ]
    }
   ],
   "source": [
    "print(l, c, cl, sep = \"\\n\")"
   ]
  },
  {
   "cell_type": "markdown",
   "metadata": {},
   "source": [
    "Predicting 1 day into the Future:"
   ]
  },
  {
   "cell_type": "code",
   "execution_count": 11,
   "metadata": {},
   "outputs": [],
   "source": [
    "def dailySets(df, size):\n",
    "  for i in range(len(df)-size):\n",
    "    temp = [[item[0]] for item in df[i:i+size]]\n",
    "    xData.append(temp)\n",
    "    yData.append([df[i+size][0]])"
   ]
  },
  {
   "cell_type": "code",
   "execution_count": 14,
   "metadata": {},
   "outputs": [
    {
     "ename": "NotFittedError",
     "evalue": "This MinMaxScaler instance is not fitted yet. Call 'fit' with appropriate arguments before using this estimator.",
     "output_type": "error",
     "traceback": [
      "\u001b[1;31m---------------------------------------------------------------------------\u001b[0m",
      "\u001b[1;31mNotFittedError\u001b[0m                            Traceback (most recent call last)",
      "\u001b[1;32mc:\\Users\\007ra\\Documents\\SiH2022\\sih-2022\\notebook.ipynb Cell 36'\u001b[0m in \u001b[0;36m<cell line: 8>\u001b[1;34m()\u001b[0m\n\u001b[0;32m      <a href='vscode-notebook-cell:/c%3A/Users/007ra/Documents/SiH2022/sih-2022/notebook.ipynb#ch0000035?line=4'>5</a>\u001b[0m dcnn \u001b[39m=\u001b[39m tf\u001b[39m.\u001b[39mkeras\u001b[39m.\u001b[39mmodels\u001b[39m.\u001b[39mload_model(\u001b[39m'\u001b[39m\u001b[39mdailyModelCNN.h5\u001b[39m\u001b[39m'\u001b[39m)\n\u001b[0;32m      <a href='vscode-notebook-cell:/c%3A/Users/007ra/Documents/SiH2022/sih-2022/notebook.ipynb#ch0000035?line=5'>6</a>\u001b[0m dcnnlstm \u001b[39m=\u001b[39m tf\u001b[39m.\u001b[39mkeras\u001b[39m.\u001b[39mmodels\u001b[39m.\u001b[39mload_model(\u001b[39m'\u001b[39m\u001b[39mdailyModelCNNLSTM.h5\u001b[39m\u001b[39m'\u001b[39m)\n\u001b[1;32m----> <a href='vscode-notebook-cell:/c%3A/Users/007ra/Documents/SiH2022/sih-2022/notebook.ipynb#ch0000035?line=7'>8</a>\u001b[0m analysis1 \u001b[39m=\u001b[39m scaler\u001b[39m.\u001b[39;49minverse_transform(dlstm\u001b[39m.\u001b[39;49mpredict(xTest))\u001b[39m.\u001b[39mflatten()\n\u001b[0;32m      <a href='vscode-notebook-cell:/c%3A/Users/007ra/Documents/SiH2022/sih-2022/notebook.ipynb#ch0000035?line=8'>9</a>\u001b[0m analysis2 \u001b[39m=\u001b[39m scaler\u001b[39m.\u001b[39minverse_transform(dcnn\u001b[39m.\u001b[39mpredict(xTest))\u001b[39m.\u001b[39mflatten()\n\u001b[0;32m     <a href='vscode-notebook-cell:/c%3A/Users/007ra/Documents/SiH2022/sih-2022/notebook.ipynb#ch0000035?line=9'>10</a>\u001b[0m analysis3 \u001b[39m=\u001b[39m scaler\u001b[39m.\u001b[39minverse_transform(dcnnlstm\u001b[39m.\u001b[39mpredict(xTest))\u001b[39m.\u001b[39mflatten()\n",
      "File \u001b[1;32m~\\.conda\\envs\\dataScience\\lib\\site-packages\\sklearn\\preprocessing\\_data.py:523\u001b[0m, in \u001b[0;36mMinMaxScaler.inverse_transform\u001b[1;34m(self, X)\u001b[0m\n\u001b[0;32m    <a href='file:///c%3A/Users/007ra/.conda/envs/dataScience/lib/site-packages/sklearn/preprocessing/_data.py?line=509'>510</a>\u001b[0m \u001b[39mdef\u001b[39;00m \u001b[39minverse_transform\u001b[39m(\u001b[39mself\u001b[39m, X):\n\u001b[0;32m    <a href='file:///c%3A/Users/007ra/.conda/envs/dataScience/lib/site-packages/sklearn/preprocessing/_data.py?line=510'>511</a>\u001b[0m     \u001b[39m\"\"\"Undo the scaling of X according to feature_range.\u001b[39;00m\n\u001b[0;32m    <a href='file:///c%3A/Users/007ra/.conda/envs/dataScience/lib/site-packages/sklearn/preprocessing/_data.py?line=511'>512</a>\u001b[0m \n\u001b[0;32m    <a href='file:///c%3A/Users/007ra/.conda/envs/dataScience/lib/site-packages/sklearn/preprocessing/_data.py?line=512'>513</a>\u001b[0m \u001b[39m    Parameters\u001b[39;00m\n\u001b[1;32m   (...)\u001b[0m\n\u001b[0;32m    <a href='file:///c%3A/Users/007ra/.conda/envs/dataScience/lib/site-packages/sklearn/preprocessing/_data.py?line=520'>521</a>\u001b[0m \u001b[39m        Transformed data.\u001b[39;00m\n\u001b[0;32m    <a href='file:///c%3A/Users/007ra/.conda/envs/dataScience/lib/site-packages/sklearn/preprocessing/_data.py?line=521'>522</a>\u001b[0m \u001b[39m    \"\"\"\u001b[39;00m\n\u001b[1;32m--> <a href='file:///c%3A/Users/007ra/.conda/envs/dataScience/lib/site-packages/sklearn/preprocessing/_data.py?line=522'>523</a>\u001b[0m     check_is_fitted(\u001b[39mself\u001b[39;49m)\n\u001b[0;32m    <a href='file:///c%3A/Users/007ra/.conda/envs/dataScience/lib/site-packages/sklearn/preprocessing/_data.py?line=524'>525</a>\u001b[0m     X \u001b[39m=\u001b[39m check_array(\n\u001b[0;32m    <a href='file:///c%3A/Users/007ra/.conda/envs/dataScience/lib/site-packages/sklearn/preprocessing/_data.py?line=525'>526</a>\u001b[0m         X, copy\u001b[39m=\u001b[39m\u001b[39mself\u001b[39m\u001b[39m.\u001b[39mcopy, dtype\u001b[39m=\u001b[39mFLOAT_DTYPES, force_all_finite\u001b[39m=\u001b[39m\u001b[39m\"\u001b[39m\u001b[39mallow-nan\u001b[39m\u001b[39m\"\u001b[39m\n\u001b[0;32m    <a href='file:///c%3A/Users/007ra/.conda/envs/dataScience/lib/site-packages/sklearn/preprocessing/_data.py?line=526'>527</a>\u001b[0m     )\n\u001b[0;32m    <a href='file:///c%3A/Users/007ra/.conda/envs/dataScience/lib/site-packages/sklearn/preprocessing/_data.py?line=528'>529</a>\u001b[0m     X \u001b[39m-\u001b[39m\u001b[39m=\u001b[39m \u001b[39mself\u001b[39m\u001b[39m.\u001b[39mmin_\n",
      "File \u001b[1;32m~\\.conda\\envs\\dataScience\\lib\\site-packages\\sklearn\\utils\\validation.py:1222\u001b[0m, in \u001b[0;36mcheck_is_fitted\u001b[1;34m(estimator, attributes, msg, all_or_any)\u001b[0m\n\u001b[0;32m   <a href='file:///c%3A/Users/007ra/.conda/envs/dataScience/lib/site-packages/sklearn/utils/validation.py?line=1216'>1217</a>\u001b[0m     fitted \u001b[39m=\u001b[39m [\n\u001b[0;32m   <a href='file:///c%3A/Users/007ra/.conda/envs/dataScience/lib/site-packages/sklearn/utils/validation.py?line=1217'>1218</a>\u001b[0m         v \u001b[39mfor\u001b[39;00m v \u001b[39min\u001b[39;00m \u001b[39mvars\u001b[39m(estimator) \u001b[39mif\u001b[39;00m v\u001b[39m.\u001b[39mendswith(\u001b[39m\"\u001b[39m\u001b[39m_\u001b[39m\u001b[39m\"\u001b[39m) \u001b[39mand\u001b[39;00m \u001b[39mnot\u001b[39;00m v\u001b[39m.\u001b[39mstartswith(\u001b[39m\"\u001b[39m\u001b[39m__\u001b[39m\u001b[39m\"\u001b[39m)\n\u001b[0;32m   <a href='file:///c%3A/Users/007ra/.conda/envs/dataScience/lib/site-packages/sklearn/utils/validation.py?line=1218'>1219</a>\u001b[0m     ]\n\u001b[0;32m   <a href='file:///c%3A/Users/007ra/.conda/envs/dataScience/lib/site-packages/sklearn/utils/validation.py?line=1220'>1221</a>\u001b[0m \u001b[39mif\u001b[39;00m \u001b[39mnot\u001b[39;00m fitted:\n\u001b[1;32m-> <a href='file:///c%3A/Users/007ra/.conda/envs/dataScience/lib/site-packages/sklearn/utils/validation.py?line=1221'>1222</a>\u001b[0m     \u001b[39mraise\u001b[39;00m NotFittedError(msg \u001b[39m%\u001b[39m {\u001b[39m\"\u001b[39m\u001b[39mname\u001b[39m\u001b[39m\"\u001b[39m: \u001b[39mtype\u001b[39m(estimator)\u001b[39m.\u001b[39m\u001b[39m__name__\u001b[39m})\n",
      "\u001b[1;31mNotFittedError\u001b[0m: This MinMaxScaler instance is not fitted yet. Call 'fit' with appropriate arguments before using this estimator."
     ]
    }
   ],
   "source": [
    "from sklearn.metrics import mean_absolute_error, mean_squared_error, mean_absolute_percentage_error\n",
    "\n",
    "\n",
    "dlstm = tf.keras.models.load_model('dailyModelLSTM.h5')\n",
    "dcnn = tf.keras.models.load_model('dailyModelCNN.h5')\n",
    "dcnnlstm = tf.keras.models.load_model('dailyModelCNNLSTM.h5')\n",
    "\n",
    "analysis1 = scaler.inverse_transform(dlstm.predict(xTest)).flatten()\n",
    "analysis2 = scaler.inverse_transform(dcnn.predict(xTest)).flatten()\n",
    "analysis3 = scaler.inverse_transform(dcnnlstm.predict(xTest)).flatten()\n",
    "truth = scaler.inverse_transform(yTest).flatten()\n",
    "\n",
    "dfAnalysis = pd.DataFrame(data={'LSTM': analysis1[:300], 'CNN': analysis2[:300], 'CNNLSTM': analysis3[:300], 'Actual Value': truth[:300],})\n",
    "plt.figure(figsize=(12, 8))\n",
    "plt.grid(True)\n",
    "plt.plot(dfAnalysis, label=['LSTM', 'CNN', 'Hybrid', 'Actual Price'])\n",
    "plt.legend()\n",
    "plt.show()\n",
    "\n",
    "print(mean_absolute_percentage_error(truth[:300], analysis1[:300]))"
   ]
  },
  {
   "cell_type": "code",
   "execution_count": 305,
   "metadata": {},
   "outputs": [
    {
     "name": "stdout",
     "output_type": "stream",
     "text": [
      "10/10 [==============================] - 1s 17ms/step - loss: 5.1407e-05 - mse: 5.1407e-05 - mae: 0.0059 - mape: 5.1154\n",
      "10/10 [==============================] - 0s 2ms/step - loss: 3.7896e-05 - mse: 3.7896e-05 - mae: 0.0048 - mape: 4.1737\n",
      "10/10 [==============================] - 1s 13ms/step - loss: 5.5737e-05 - mse: 5.5737e-05 - mae: 0.0062 - mape: 5.3852\n",
      "[5.1407052524155006e-05, 5.1407052524155006e-05, 0.005926220677793026, 5.115419864654541]\n",
      "[3.789634502027184e-05, 3.789634502027184e-05, 0.004840700421482325, 4.173659801483154]\n",
      "[5.573703674599528e-05, 5.573703674599528e-05, 0.006208572071045637, 5.385193347930908]\n"
     ]
    }
   ],
   "source": [
    "ends = 300\n",
    "\n",
    "lS = dlstm.evaluate(xTest[:ends], yTest[:ends])\n",
    "cS = dcnn.evaluate(xTest[:ends], yTest[:ends])\n",
    "clS = dcnnlstm.evaluate(xTest[:ends], yTest[:ends])\n",
    "\n",
    "print(lS, cS, clS, sep='\\n')"
   ]
  },
  {
   "cell_type": "code",
   "execution_count": 28,
   "metadata": {},
   "outputs": [
    {
     "name": "stdout",
     "output_type": "stream",
     "text": [
      "[datetime.date(2022, 3, 2), 4.353938]\n"
     ]
    }
   ],
   "source": [
    "def getNextDayPred():\n",
    "    lastData = dataDaily['Price'].to_numpy()[-100:]\n",
    "    lastData = scaler.fit_transform(lastData.reshape(100, 1))\n",
    "    day = dt.datetime.strptime(str(dataDaily['Day'].tolist()[-1]), '%Y%m%d').date()+dt.timedelta(days=1)\n",
    "    return [day, scaler.inverse_transform(model4.predict(np.expand_dims(lastData, axis=0)))[0][0]]\n",
    "\n",
    "print(getNextDayPred())"
   ]
  }
 ],
 "metadata": {
  "interpreter": {
   "hash": "e38c6d658e3c4e97a4d48d96dcbbb50367a88e38ba291af5da90eb5fcad12b1b"
  },
  "kernelspec": {
   "display_name": "Python 3.9.7 ('dataScience')",
   "language": "python",
   "name": "python3"
  },
  "language_info": {
   "codemirror_mode": {
    "name": "ipython",
    "version": 3
   },
   "file_extension": ".py",
   "mimetype": "text/x-python",
   "name": "python",
   "nbconvert_exporter": "python",
   "pygments_lexer": "ipython3",
   "version": "3.9.12"
  },
  "orig_nbformat": 4
 },
 "nbformat": 4,
 "nbformat_minor": 2
}
