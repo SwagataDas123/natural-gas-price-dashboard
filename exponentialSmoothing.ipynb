{
 "cells": [
  {
   "cell_type": "code",
   "execution_count": 1,
   "metadata": {},
   "outputs": [],
   "source": [
    "import numpy as np\n",
    "import pandas as pd\n",
    "import matplotlib.pyplot as plt\n",
    "from statsmodels.tsa.api import ExponentialSmoothing, SimpleExpSmoothing, Holt"
   ]
  },
  {
   "cell_type": "code",
   "execution_count": 32,
   "metadata": {},
   "outputs": [],
   "source": [
    "def exponential_smoothing(series, alpha):\n",
    "    results = np.zeros_like(series)\n",
    "    results[0] = series[0] \n",
    "    for t in range(1, series.shape[0]):\n",
    "        results[t] = alpha * series[t] + (1 - alpha) * results[t - 1]\n",
    "\n",
    "    return results"
   ]
  },
  {
   "cell_type": "code",
   "execution_count": 33,
   "metadata": {},
   "outputs": [],
   "source": [
    "def plot_exponential_smoothing(series, alphas):\n",
    "    plt.figure(figsize=(15, 7))\n",
    "    for alpha in alphas:\n",
    "        plt.plot(exponential_smoothing(series, alpha), label='Alpha {}'.format(alpha))\n",
    "        print(smape(exponential_smoothing(series, alpha), series))\n",
    "    plt.plot(series, label='Actual')\n",
    "    plt.legend(loc='best')\n",
    "    plt.axis('tight')\n",
    "    plt.title('Exponential Smoothing')\n",
    "    plt.grid(True)"
   ]
  },
  {
   "cell_type": "code",
   "execution_count": 8,
   "metadata": {},
   "outputs": [],
   "source": [
    "def smape(A, F):\n",
    "    return 100/len(A) * np.sum(2 * np.abs(F - A) / (np.abs(A) + np.abs(F)))"
   ]
  },
  {
   "cell_type": "code",
   "execution_count": 9,
   "metadata": {},
   "outputs": [],
   "source": [
    "def double_exponential_smoothing(series, alpha, beta, n_preds):\n",
    "    n_record = series.shape[0]\n",
    "    results = np.zeros(n_record + n_preds)\n",
    "    level = series[0]\n",
    "    results[0] = series[0]\n",
    "    trend = series[1] - series[0]\n",
    "    for t in range(1, n_record + 1):\n",
    "        if t >= n_record:\n",
    "            value = results[t - 1]\n",
    "        else:\n",
    "            value = series[t]\n",
    "\n",
    "        previous_level = level\n",
    "        level = alpha * value + (1 - alpha) * (level + trend)\n",
    "        trend = beta * (level - previous_level) + (1 - beta) * trend \n",
    "        results[t] = level + trend\n",
    "    if n_preds > 1:\n",
    "        results[n_record + 1:] = level + np.arange(2, n_preds + 1) * trend\n",
    "\n",
    "    return results"
   ]
  },
  {
   "cell_type": "code",
   "execution_count": 10,
   "metadata": {},
   "outputs": [],
   "source": [
    "def plot_double_exponential_smoothing(series, alphas, betas):\n",
    "    plt.figure(figsize=(20, 8))\n",
    "    for alpha, beta in zip(alphas, betas):\n",
    "        results = double_exponential_smoothing(series, alpha, beta, 1)\n",
    "        print(smape(results[:-1], series))\n",
    "        plt.plot(results, label='Alpha {}, beta {}'.format(alpha, beta))\n",
    "\n",
    "    plt.plot(series, label='Actual')\n",
    "    plt.legend(loc='best')\n",
    "    plt.axis('tight')\n",
    "    plt.title('Double Exponential Smoothing')\n",
    "    plt.grid(True)"
   ]
  },
  {
   "cell_type": "code",
   "execution_count": 2,
   "metadata": {},
   "outputs": [
    {
     "ename": "NameError",
     "evalue": "name 'plot_exponential_smoothing' is not defined",
     "output_type": "error",
     "traceback": [
      "\u001b[1;31m---------------------------------------------------------------------------\u001b[0m",
      "\u001b[1;31mNameError\u001b[0m                                 Traceback (most recent call last)",
      "\u001b[1;32mc:\\Users\\007ra\\Documents\\Codes\\sih-2022\\exponentialSmoothing.ipynb Cell 7'\u001b[0m in \u001b[0;36m<cell line: 4>\u001b[1;34m()\u001b[0m\n\u001b[0;32m      <a href='vscode-notebook-cell:/c%3A/Users/007ra/Documents/Codes/sih-2022/exponentialSmoothing.ipynb#ch0000006?line=1'>2</a>\u001b[0m series \u001b[39m=\u001b[39m data\u001b[39m.\u001b[39mPrice[\u001b[39m6100\u001b[39m:]\n\u001b[0;32m      <a href='vscode-notebook-cell:/c%3A/Users/007ra/Documents/Codes/sih-2022/exponentialSmoothing.ipynb#ch0000006?line=2'>3</a>\u001b[0m data\u001b[39m.\u001b[39mhead()\n\u001b[1;32m----> <a href='vscode-notebook-cell:/c%3A/Users/007ra/Documents/Codes/sih-2022/exponentialSmoothing.ipynb#ch0000006?line=3'>4</a>\u001b[0m plot_exponential_smoothing(series\u001b[39m.\u001b[39mvalues, alphas\u001b[39m=\u001b[39m[\u001b[39m0.3\u001b[39m, \u001b[39m0.7\u001b[39m])\n",
      "\u001b[1;31mNameError\u001b[0m: name 'plot_exponential_smoothing' is not defined"
     ]
    }
   ],
   "source": [
    "data = pd.read_csv('./data/daily.csv')\n",
    "series = data.Price[6100:]\n",
    "data.head()\n",
    "plot_exponential_smoothing(series.values, alphas=[0.3, 0.7])\n",
    "# plot_exponential_smoothing(series.values, alphas=[0.6])\n",
    "# results = double_exponential_smoothing(series, 0.9, 0.9)\n",
    "# plt.plot(results, label='Alpha {}, beta {}'.format(0.9, 0.1))"
   ]
  },
  {
   "cell_type": "code",
   "execution_count": 6,
   "metadata": {},
   "outputs": [
    {
     "name": "stdout",
     "output_type": "stream",
     "text": [
      "alpha: 0.863\n"
     ]
    },
    {
     "ename": "KeyError",
     "evalue": "-1",
     "output_type": "error",
     "traceback": [
      "\u001b[1;31m---------------------------------------------------------------------------\u001b[0m",
      "\u001b[1;31mValueError\u001b[0m                                Traceback (most recent call last)",
      "File \u001b[1;32mc:\\Users\\007ra\\.conda\\envs\\dataScience\\lib\\site-packages\\pandas\\core\\indexes\\range.py:385\u001b[0m, in \u001b[0;36mRangeIndex.get_loc\u001b[1;34m(self, key, method, tolerance)\u001b[0m\n\u001b[0;32m    <a href='file:///c%3A/Users/007ra/.conda/envs/dataScience/lib/site-packages/pandas/core/indexes/range.py?line=383'>384</a>\u001b[0m \u001b[39mtry\u001b[39;00m:\n\u001b[1;32m--> <a href='file:///c%3A/Users/007ra/.conda/envs/dataScience/lib/site-packages/pandas/core/indexes/range.py?line=384'>385</a>\u001b[0m     \u001b[39mreturn\u001b[39;00m \u001b[39mself\u001b[39;49m\u001b[39m.\u001b[39;49m_range\u001b[39m.\u001b[39;49mindex(new_key)\n\u001b[0;32m    <a href='file:///c%3A/Users/007ra/.conda/envs/dataScience/lib/site-packages/pandas/core/indexes/range.py?line=385'>386</a>\u001b[0m \u001b[39mexcept\u001b[39;00m \u001b[39mValueError\u001b[39;00m \u001b[39mas\u001b[39;00m err:\n",
      "\u001b[1;31mValueError\u001b[0m: -1 is not in range",
      "\nThe above exception was the direct cause of the following exception:\n",
      "\u001b[1;31mKeyError\u001b[0m                                  Traceback (most recent call last)",
      "\u001b[1;32mc:\\Users\\007ra\\Documents\\Codes\\sih-2022\\exponentialSmoothing.ipynb Cell 8'\u001b[0m in \u001b[0;36m<cell line: 11>\u001b[1;34m()\u001b[0m\n\u001b[0;32m      <a href='vscode-notebook-cell:/c%3A/Users/007ra/Documents/Codes/sih-2022/exponentialSmoothing.ipynb#ch0000007?line=8'>9</a>\u001b[0m m \u001b[39m=\u001b[39m exponentialSmoothing()\n\u001b[0;32m     <a href='vscode-notebook-cell:/c%3A/Users/007ra/Documents/Codes/sih-2022/exponentialSmoothing.ipynb#ch0000007?line=9'>10</a>\u001b[0m m\u001b[39m.\u001b[39mfit(y)\n\u001b[1;32m---> <a href='vscode-notebook-cell:/c%3A/Users/007ra/Documents/Codes/sih-2022/exponentialSmoothing.ipynb#ch0000007?line=10'>11</a>\u001b[0m pred, l \u001b[39m=\u001b[39m m\u001b[39m.\u001b[39;49mpredict(y)\n\u001b[0;32m     <a href='vscode-notebook-cell:/c%3A/Users/007ra/Documents/Codes/sih-2022/exponentialSmoothing.ipynb#ch0000007?line=11'>12</a>\u001b[0m \u001b[39m# pred = m.forecast(len(x))\u001b[39;00m\n\u001b[0;32m     <a href='vscode-notebook-cell:/c%3A/Users/007ra/Documents/Codes/sih-2022/exponentialSmoothing.ipynb#ch0000007?line=12'>13</a>\u001b[0m plt\u001b[39m.\u001b[39mfigure(figsize\u001b[39m=\u001b[39m(\u001b[39m16\u001b[39m, \u001b[39m8\u001b[39m))\n",
      "File \u001b[1;32mc:\\Users\\007ra\\Documents\\Codes\\sih-2022\\predictExponentialSmoothing.py:33\u001b[0m, in \u001b[0;36mexponentialSmoothing.predict\u001b[1;34m(self, series)\u001b[0m\n\u001b[0;32m     <a href='file:///c%3A/Users/007ra/Documents/Codes/sih-2022/predictExponentialSmoothing.py?line=30'>31</a>\u001b[0m \u001b[39mfor\u001b[39;00m t \u001b[39min\u001b[39;00m \u001b[39mrange\u001b[39m(\u001b[39m2\u001b[39m, series\u001b[39m.\u001b[39mshape[\u001b[39m0\u001b[39m]):\n\u001b[0;32m     <a href='file:///c%3A/Users/007ra/Documents/Codes/sih-2022/predictExponentialSmoothing.py?line=31'>32</a>\u001b[0m     results[t] \u001b[39m=\u001b[39m alpha \u001b[39m*\u001b[39m series[t\u001b[39m-\u001b[39m\u001b[39m1\u001b[39m] \u001b[39m+\u001b[39m (\u001b[39m1\u001b[39m \u001b[39m-\u001b[39m alpha) \u001b[39m*\u001b[39m results[t \u001b[39m-\u001b[39m \u001b[39m1\u001b[39m]\n\u001b[1;32m---> <a href='file:///c%3A/Users/007ra/Documents/Codes/sih-2022/predictExponentialSmoothing.py?line=32'>33</a>\u001b[0m predicted \u001b[39m=\u001b[39m \u001b[39mself\u001b[39m\u001b[39m.\u001b[39malpha \u001b[39m*\u001b[39m series[\u001b[39m-\u001b[39;49m\u001b[39m1\u001b[39;49m] \u001b[39m+\u001b[39m (\u001b[39m1\u001b[39m \u001b[39m-\u001b[39m \u001b[39mself\u001b[39m\u001b[39m.\u001b[39malpha) \u001b[39m*\u001b[39m results[\u001b[39m-\u001b[39m\u001b[39m1\u001b[39m]\n\u001b[0;32m     <a href='file:///c%3A/Users/007ra/Documents/Codes/sih-2022/predictExponentialSmoothing.py?line=33'>34</a>\u001b[0m \u001b[39mreturn\u001b[39;00m (results, predicted)\n",
      "File \u001b[1;32mc:\\Users\\007ra\\.conda\\envs\\dataScience\\lib\\site-packages\\pandas\\core\\series.py:958\u001b[0m, in \u001b[0;36mSeries.__getitem__\u001b[1;34m(self, key)\u001b[0m\n\u001b[0;32m    <a href='file:///c%3A/Users/007ra/.conda/envs/dataScience/lib/site-packages/pandas/core/series.py?line=954'>955</a>\u001b[0m     \u001b[39mreturn\u001b[39;00m \u001b[39mself\u001b[39m\u001b[39m.\u001b[39m_values[key]\n\u001b[0;32m    <a href='file:///c%3A/Users/007ra/.conda/envs/dataScience/lib/site-packages/pandas/core/series.py?line=956'>957</a>\u001b[0m \u001b[39melif\u001b[39;00m key_is_scalar:\n\u001b[1;32m--> <a href='file:///c%3A/Users/007ra/.conda/envs/dataScience/lib/site-packages/pandas/core/series.py?line=957'>958</a>\u001b[0m     \u001b[39mreturn\u001b[39;00m \u001b[39mself\u001b[39;49m\u001b[39m.\u001b[39;49m_get_value(key)\n\u001b[0;32m    <a href='file:///c%3A/Users/007ra/.conda/envs/dataScience/lib/site-packages/pandas/core/series.py?line=959'>960</a>\u001b[0m \u001b[39mif\u001b[39;00m is_hashable(key):\n\u001b[0;32m    <a href='file:///c%3A/Users/007ra/.conda/envs/dataScience/lib/site-packages/pandas/core/series.py?line=960'>961</a>\u001b[0m     \u001b[39m# Otherwise index.get_value will raise InvalidIndexError\u001b[39;00m\n\u001b[0;32m    <a href='file:///c%3A/Users/007ra/.conda/envs/dataScience/lib/site-packages/pandas/core/series.py?line=961'>962</a>\u001b[0m     \u001b[39mtry\u001b[39;00m:\n\u001b[0;32m    <a href='file:///c%3A/Users/007ra/.conda/envs/dataScience/lib/site-packages/pandas/core/series.py?line=962'>963</a>\u001b[0m         \u001b[39m# For labels that don't resolve as scalars like tuples and frozensets\u001b[39;00m\n",
      "File \u001b[1;32mc:\\Users\\007ra\\.conda\\envs\\dataScience\\lib\\site-packages\\pandas\\core\\series.py:1069\u001b[0m, in \u001b[0;36mSeries._get_value\u001b[1;34m(self, label, takeable)\u001b[0m\n\u001b[0;32m   <a href='file:///c%3A/Users/007ra/.conda/envs/dataScience/lib/site-packages/pandas/core/series.py?line=1065'>1066</a>\u001b[0m     \u001b[39mreturn\u001b[39;00m \u001b[39mself\u001b[39m\u001b[39m.\u001b[39m_values[label]\n\u001b[0;32m   <a href='file:///c%3A/Users/007ra/.conda/envs/dataScience/lib/site-packages/pandas/core/series.py?line=1067'>1068</a>\u001b[0m \u001b[39m# Similar to Index.get_value, but we do not fall back to positional\u001b[39;00m\n\u001b[1;32m-> <a href='file:///c%3A/Users/007ra/.conda/envs/dataScience/lib/site-packages/pandas/core/series.py?line=1068'>1069</a>\u001b[0m loc \u001b[39m=\u001b[39m \u001b[39mself\u001b[39;49m\u001b[39m.\u001b[39;49mindex\u001b[39m.\u001b[39;49mget_loc(label)\n\u001b[0;32m   <a href='file:///c%3A/Users/007ra/.conda/envs/dataScience/lib/site-packages/pandas/core/series.py?line=1069'>1070</a>\u001b[0m \u001b[39mreturn\u001b[39;00m \u001b[39mself\u001b[39m\u001b[39m.\u001b[39mindex\u001b[39m.\u001b[39m_get_values_for_loc(\u001b[39mself\u001b[39m, loc, label)\n",
      "File \u001b[1;32mc:\\Users\\007ra\\.conda\\envs\\dataScience\\lib\\site-packages\\pandas\\core\\indexes\\range.py:387\u001b[0m, in \u001b[0;36mRangeIndex.get_loc\u001b[1;34m(self, key, method, tolerance)\u001b[0m\n\u001b[0;32m    <a href='file:///c%3A/Users/007ra/.conda/envs/dataScience/lib/site-packages/pandas/core/indexes/range.py?line=384'>385</a>\u001b[0m         \u001b[39mreturn\u001b[39;00m \u001b[39mself\u001b[39m\u001b[39m.\u001b[39m_range\u001b[39m.\u001b[39mindex(new_key)\n\u001b[0;32m    <a href='file:///c%3A/Users/007ra/.conda/envs/dataScience/lib/site-packages/pandas/core/indexes/range.py?line=385'>386</a>\u001b[0m     \u001b[39mexcept\u001b[39;00m \u001b[39mValueError\u001b[39;00m \u001b[39mas\u001b[39;00m err:\n\u001b[1;32m--> <a href='file:///c%3A/Users/007ra/.conda/envs/dataScience/lib/site-packages/pandas/core/indexes/range.py?line=386'>387</a>\u001b[0m         \u001b[39mraise\u001b[39;00m \u001b[39mKeyError\u001b[39;00m(key) \u001b[39mfrom\u001b[39;00m \u001b[39merr\u001b[39;00m\n\u001b[0;32m    <a href='file:///c%3A/Users/007ra/.conda/envs/dataScience/lib/site-packages/pandas/core/indexes/range.py?line=387'>388</a>\u001b[0m \u001b[39mself\u001b[39m\u001b[39m.\u001b[39m_check_indexing_error(key)\n\u001b[0;32m    <a href='file:///c%3A/Users/007ra/.conda/envs/dataScience/lib/site-packages/pandas/core/indexes/range.py?line=388'>389</a>\u001b[0m \u001b[39mraise\u001b[39;00m \u001b[39mKeyError\u001b[39;00m(key)\n",
      "\u001b[1;31mKeyError\u001b[0m: -1"
     ]
    }
   ],
   "source": [
    "data = pd.read_csv('./data/daily.csv')\n",
    "y = data.Price[:6100]\n",
    "data.reset_index(inplace = True)\n",
    "x = np.array(data.Price[6100:])\n",
    "\n",
    "\n",
    "from predictExponentialSmoothing import exponentialSmoothing\n",
    "\n",
    "m = exponentialSmoothing()\n",
    "m.fit(y)\n",
    "pred, l = m.predict(y)\n",
    "# pred = m.forecast(len(x))\n",
    "plt.figure(figsize=(16, 8))\n",
    "res = pd.DataFrame(data={'Actual': y, 'Prediction': pred})\n",
    "plt.plot(res)\n",
    "plt.show()\n",
    "res.head()"
   ]
  }
 ],
 "metadata": {
  "interpreter": {
   "hash": "71f6806d83c72a69b7fd946e78e1222f74dd82b556e49667c928aecd25e7a77c"
  },
  "kernelspec": {
   "display_name": "Python 3.9.12 ('dataScience')",
   "language": "python",
   "name": "python3"
  },
  "language_info": {
   "codemirror_mode": {
    "name": "ipython",
    "version": 3
   },
   "file_extension": ".py",
   "mimetype": "text/x-python",
   "name": "python",
   "nbconvert_exporter": "python",
   "pygments_lexer": "ipython3",
   "version": "3.9.12"
  },
  "orig_nbformat": 4
 },
 "nbformat": 4,
 "nbformat_minor": 2
}
