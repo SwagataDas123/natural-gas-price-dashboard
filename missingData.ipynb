{
 "cells": [
  {
   "cell_type": "code",
   "execution_count": 72,
   "metadata": {},
   "outputs": [],
   "source": [
    "import pandas as pd\n",
    "from sentimentData import sentimentData\n",
    "import numpy as np"
   ]
  },
  {
   "cell_type": "code",
   "execution_count": 88,
   "metadata": {},
   "outputs": [
    {
     "data": {
      "text/html": [
       "<div>\n",
       "<style scoped>\n",
       "    .dataframe tbody tr th:only-of-type {\n",
       "        vertical-align: middle;\n",
       "    }\n",
       "\n",
       "    .dataframe tbody tr th {\n",
       "        vertical-align: top;\n",
       "    }\n",
       "\n",
       "    .dataframe thead th {\n",
       "        text-align: right;\n",
       "    }\n",
       "</style>\n",
       "<table border=\"1\" class=\"dataframe\">\n",
       "  <thead>\n",
       "    <tr style=\"text-align: right;\">\n",
       "      <th></th>\n",
       "      <th>Day</th>\n",
       "      <th>Price</th>\n",
       "    </tr>\n",
       "  </thead>\n",
       "  <tbody>\n",
       "    <tr>\n",
       "      <th>6380</th>\n",
       "      <td>20220427</td>\n",
       "      <td>6.91</td>\n",
       "    </tr>\n",
       "    <tr>\n",
       "      <th>6381</th>\n",
       "      <td>20220428</td>\n",
       "      <td>6.97</td>\n",
       "    </tr>\n",
       "    <tr>\n",
       "      <th>6382</th>\n",
       "      <td>20220429</td>\n",
       "      <td>6.84</td>\n",
       "    </tr>\n",
       "    <tr>\n",
       "      <th>6383</th>\n",
       "      <td>20220502</td>\n",
       "      <td>7.30</td>\n",
       "    </tr>\n",
       "    <tr>\n",
       "      <th>6384</th>\n",
       "      <td>20220503</td>\n",
       "      <td>7.84</td>\n",
       "    </tr>\n",
       "  </tbody>\n",
       "</table>\n",
       "</div>"
      ],
      "text/plain": [
       "           Day  Price\n",
       "6380  20220427   6.91\n",
       "6381  20220428   6.97\n",
       "6382  20220429   6.84\n",
       "6383  20220502   7.30\n",
       "6384  20220503   7.84"
      ]
     },
     "execution_count": 88,
     "metadata": {},
     "output_type": "execute_result"
    }
   ],
   "source": [
    "dfDaily = pd.read_csv('./data/daily.csv')\n",
    "dfSen = pd.read_csv('./data/dailySentiment.csv')\n",
    "dfSen = dfSen.loc[:, ~dfSen.columns.str.contains('^Unnamed')]\n",
    "dfDaily.tail()"
   ]
  },
  {
   "cell_type": "code",
   "execution_count": 89,
   "metadata": {},
   "outputs": [
    {
     "data": {
      "text/html": [
       "<div>\n",
       "<style scoped>\n",
       "    .dataframe tbody tr th:only-of-type {\n",
       "        vertical-align: middle;\n",
       "    }\n",
       "\n",
       "    .dataframe tbody tr th {\n",
       "        vertical-align: top;\n",
       "    }\n",
       "\n",
       "    .dataframe thead th {\n",
       "        text-align: right;\n",
       "    }\n",
       "</style>\n",
       "<table border=\"1\" class=\"dataframe\">\n",
       "  <thead>\n",
       "    <tr style=\"text-align: right;\">\n",
       "      <th></th>\n",
       "      <th>Day</th>\n",
       "      <th>Price</th>\n",
       "      <th>Sentiment</th>\n",
       "    </tr>\n",
       "  </thead>\n",
       "  <tbody>\n",
       "    <tr>\n",
       "      <th>1868</th>\n",
       "      <td>20220420</td>\n",
       "      <td>7.12</td>\n",
       "      <td>-0.271554</td>\n",
       "    </tr>\n",
       "    <tr>\n",
       "      <th>1869</th>\n",
       "      <td>20220421</td>\n",
       "      <td>6.88</td>\n",
       "      <td>-0.583935</td>\n",
       "    </tr>\n",
       "    <tr>\n",
       "      <th>1870</th>\n",
       "      <td>20220422</td>\n",
       "      <td>6.59</td>\n",
       "      <td>-0.402193</td>\n",
       "    </tr>\n",
       "    <tr>\n",
       "      <th>1871</th>\n",
       "      <td>20220425</td>\n",
       "      <td>6.42</td>\n",
       "      <td>-0.403045</td>\n",
       "    </tr>\n",
       "    <tr>\n",
       "      <th>1872</th>\n",
       "      <td>20220426</td>\n",
       "      <td>6.89</td>\n",
       "      <td>-0.401374</td>\n",
       "    </tr>\n",
       "  </tbody>\n",
       "</table>\n",
       "</div>"
      ],
      "text/plain": [
       "           Day  Price  Sentiment\n",
       "1868  20220420   7.12  -0.271554\n",
       "1869  20220421   6.88  -0.583935\n",
       "1870  20220422   6.59  -0.402193\n",
       "1871  20220425   6.42  -0.403045\n",
       "1872  20220426   6.89  -0.401374"
      ]
     },
     "execution_count": 89,
     "metadata": {},
     "output_type": "execute_result"
    }
   ],
   "source": [
    "dfSen.tail()"
   ]
  },
  {
   "cell_type": "code",
   "execution_count": 90,
   "metadata": {},
   "outputs": [
    {
     "name": "stdout",
     "output_type": "stream",
     "text": [
      "2022-05-09 05:59:19,671 loading file C:\\Users\\007ra\\.flair\\models\\sentiment-en-mix-distillbert_4.pt\n",
      "20220427 20220426 6.91 -0.34806660811106366\n",
      "2022-05-09 05:59:33,239 loading file C:\\Users\\007ra\\.flair\\models\\sentiment-en-mix-distillbert_4.pt\n"
     ]
    },
    {
     "name": "stderr",
     "output_type": "stream",
     "text": [
      "C:\\Users\\007ra\\AppData\\Local\\Temp\\ipykernel_22620\\3965125417.py:8: FutureWarning: The frame.append method is deprecated and will be removed from pandas in a future version. Use pandas.concat instead.\n",
      "  dfSen = dfSen.append([{'Day':day, 'Price': price, 'Sentiment': sen}], ignore_index=True)\n"
     ]
    },
    {
     "name": "stdout",
     "output_type": "stream",
     "text": [
      "20220428 20220427 6.97 0.08831894397735596\n",
      "2022-05-09 05:59:46,253 loading file C:\\Users\\007ra\\.flair\\models\\sentiment-en-mix-distillbert_4.pt\n"
     ]
    },
    {
     "name": "stderr",
     "output_type": "stream",
     "text": [
      "C:\\Users\\007ra\\AppData\\Local\\Temp\\ipykernel_22620\\3965125417.py:8: FutureWarning: The frame.append method is deprecated and will be removed from pandas in a future version. Use pandas.concat instead.\n",
      "  dfSen = dfSen.append([{'Day':day, 'Price': price, 'Sentiment': sen}], ignore_index=True)\n"
     ]
    },
    {
     "name": "stdout",
     "output_type": "stream",
     "text": [
      "20220429 20220428 6.84 -0.5033240616321564\n",
      "2022-05-09 05:59:59,403 loading file C:\\Users\\007ra\\.flair\\models\\sentiment-en-mix-distillbert_4.pt\n"
     ]
    },
    {
     "name": "stderr",
     "output_type": "stream",
     "text": [
      "C:\\Users\\007ra\\AppData\\Local\\Temp\\ipykernel_22620\\3965125417.py:8: FutureWarning: The frame.append method is deprecated and will be removed from pandas in a future version. Use pandas.concat instead.\n",
      "  dfSen = dfSen.append([{'Day':day, 'Price': price, 'Sentiment': sen}], ignore_index=True)\n"
     ]
    },
    {
     "name": "stdout",
     "output_type": "stream",
     "text": [
      "20220502 20220429 7.3 0.9673691987991333\n"
     ]
    },
    {
     "name": "stderr",
     "output_type": "stream",
     "text": [
      "C:\\Users\\007ra\\AppData\\Local\\Temp\\ipykernel_22620\\3965125417.py:8: FutureWarning: The frame.append method is deprecated and will be removed from pandas in a future version. Use pandas.concat instead.\n",
      "  dfSen = dfSen.append([{'Day':day, 'Price': price, 'Sentiment': sen}], ignore_index=True)\n"
     ]
    }
   ],
   "source": [
    "j = 0\n",
    "for i in (5, 4, 3, 2):\n",
    "\tday = list(dfDaily.Day)[-i]\n",
    "\tprevDay = list(dfDaily.Day)[-i-1]\n",
    "\tprice = list(dfDaily.Price)[-i]\n",
    "\ts = sentimentData()\n",
    "\tsen = s.getSentiment(str(prevDay))\n",
    "\tdfSen = dfSen.append([{'Day':day, 'Price': price, 'Sentiment': sen}], ignore_index=True)\n",
    "\tprint(day, prevDay, price, sen)\n",
    "\tj+=1"
   ]
  },
  {
   "cell_type": "code",
   "execution_count": 91,
   "metadata": {},
   "outputs": [
    {
     "data": {
      "text/html": [
       "<div>\n",
       "<style scoped>\n",
       "    .dataframe tbody tr th:only-of-type {\n",
       "        vertical-align: middle;\n",
       "    }\n",
       "\n",
       "    .dataframe tbody tr th {\n",
       "        vertical-align: top;\n",
       "    }\n",
       "\n",
       "    .dataframe thead th {\n",
       "        text-align: right;\n",
       "    }\n",
       "</style>\n",
       "<table border=\"1\" class=\"dataframe\">\n",
       "  <thead>\n",
       "    <tr style=\"text-align: right;\">\n",
       "      <th></th>\n",
       "      <th>Day</th>\n",
       "      <th>Price</th>\n",
       "      <th>Sentiment</th>\n",
       "    </tr>\n",
       "  </thead>\n",
       "  <tbody>\n",
       "    <tr>\n",
       "      <th>1872</th>\n",
       "      <td>20220426</td>\n",
       "      <td>6.89</td>\n",
       "      <td>-0.401374</td>\n",
       "    </tr>\n",
       "    <tr>\n",
       "      <th>1873</th>\n",
       "      <td>20220427</td>\n",
       "      <td>6.91</td>\n",
       "      <td>-0.348067</td>\n",
       "    </tr>\n",
       "    <tr>\n",
       "      <th>1874</th>\n",
       "      <td>20220428</td>\n",
       "      <td>6.97</td>\n",
       "      <td>0.088319</td>\n",
       "    </tr>\n",
       "    <tr>\n",
       "      <th>1875</th>\n",
       "      <td>20220429</td>\n",
       "      <td>6.84</td>\n",
       "      <td>-0.503324</td>\n",
       "    </tr>\n",
       "    <tr>\n",
       "      <th>1876</th>\n",
       "      <td>20220502</td>\n",
       "      <td>7.30</td>\n",
       "      <td>0.967369</td>\n",
       "    </tr>\n",
       "  </tbody>\n",
       "</table>\n",
       "</div>"
      ],
      "text/plain": [
       "           Day  Price  Sentiment\n",
       "1872  20220426   6.89  -0.401374\n",
       "1873  20220427   6.91  -0.348067\n",
       "1874  20220428   6.97   0.088319\n",
       "1875  20220429   6.84  -0.503324\n",
       "1876  20220502   7.30   0.967369"
      ]
     },
     "execution_count": 91,
     "metadata": {},
     "output_type": "execute_result"
    }
   ],
   "source": [
    "dfSen.tail()"
   ]
  },
  {
   "cell_type": "code",
   "execution_count": 43,
   "metadata": {},
   "outputs": [],
   "source": [
    "dfSen.to_csv('./data/dailySentiment.csv')"
   ]
  }
 ],
 "metadata": {
  "interpreter": {
   "hash": "71f6806d83c72a69b7fd946e78e1222f74dd82b556e49667c928aecd25e7a77c"
  },
  "kernelspec": {
   "display_name": "Python 3.9.12 ('dataScience')",
   "language": "python",
   "name": "python3"
  },
  "language_info": {
   "codemirror_mode": {
    "name": "ipython",
    "version": 3
   },
   "file_extension": ".py",
   "mimetype": "text/x-python",
   "name": "python",
   "nbconvert_exporter": "python",
   "pygments_lexer": "ipython3",
   "version": "3.9.12"
  },
  "orig_nbformat": 4
 },
 "nbformat": 4,
 "nbformat_minor": 2
}
